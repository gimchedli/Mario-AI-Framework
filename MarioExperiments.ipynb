{
 "cells": [
  {
   "cell_type": "code",
<<<<<<< HEAD
   "execution_count": 1,
=======
   "execution_count": 10,
>>>>>>> 227e7dd2e4be327327ac89cf3bf43c0942002cbb
   "id": "a1e9aa1c",
   "metadata": {},
   "outputs": [
    {
     "data": {
      "text/html": [
       "<style>.container { width:100% !important; }</style>"
      ],
      "text/plain": [
       "<IPython.core.display.HTML object>"
      ]
     },
     "metadata": {},
     "output_type": "display_data"
    }
   ],
   "source": [
    "from IPython.display import display, HTML\n",
    "display(HTML(\"<style>.container { width:100% !important; }</style>\"))"
   ]
  },
  {
   "cell_type": "code",
   "execution_count": 32,
   "id": "6765fe58",
   "metadata": {},
   "outputs": [],
   "source": [
    "#!pip install dataframe_image"
   ]
  },
  {
   "cell_type": "code",
   "execution_count": 36,
   "id": "143adf23",
   "metadata": {},
   "outputs": [
    {
     "data": {
      "text/html": [
       "<div>\n",
       "<style scoped>\n",
       "    .dataframe tbody tr th:only-of-type {\n",
       "        vertical-align: middle;\n",
       "    }\n",
       "\n",
       "    .dataframe tbody tr th {\n",
       "        vertical-align: top;\n",
       "    }\n",
       "\n",
       "    .dataframe thead th {\n",
       "        text-align: right;\n",
       "    }\n",
       "</style>\n",
       "<table border=\"1\" class=\"dataframe\">\n",
       "  <thead>\n",
       "    <tr style=\"text-align: right;\">\n",
       "      <th></th>\n",
       "      <th>Level</th>\n",
       "      <th>Mario Type</th>\n",
       "      <th>Progress</th>\n",
       "      <th>Time Left</th>\n",
       "      <th>Kills</th>\n",
       "      <th>Mario Alive</th>\n",
       "      <th>Distance</th>\n",
       "    </tr>\n",
       "  </thead>\n",
       "  <tbody>\n",
       "    <tr>\n",
       "      <th>0</th>\n",
       "      <td>geLVL-1.txt</td>\n",
       "      <td>0</td>\n",
       "      <td>0.40</td>\n",
       "      <td>18</td>\n",
       "      <td>0</td>\n",
       "      <td>False</td>\n",
       "      <td>828.06</td>\n",
       "    </tr>\n",
       "    <tr>\n",
       "      <th>1</th>\n",
       "      <td>geLVL-1.txt</td>\n",
       "      <td>1</td>\n",
       "      <td>0.40</td>\n",
       "      <td>18</td>\n",
       "      <td>0</td>\n",
       "      <td>False</td>\n",
       "      <td>828.06</td>\n",
       "    </tr>\n",
       "    <tr>\n",
       "      <th>2</th>\n",
       "      <td>geLVL-1.txt</td>\n",
       "      <td>2</td>\n",
       "      <td>0.40</td>\n",
       "      <td>18</td>\n",
       "      <td>0</td>\n",
       "      <td>False</td>\n",
       "      <td>828.06</td>\n",
       "    </tr>\n",
       "    <tr>\n",
       "      <th>3</th>\n",
       "      <td>geLVL-2.txt</td>\n",
       "      <td>0</td>\n",
       "      <td>1.00</td>\n",
       "      <td>14</td>\n",
       "      <td>0</td>\n",
       "      <td>True</td>\n",
       "      <td>2080.00</td>\n",
       "    </tr>\n",
       "    <tr>\n",
       "      <th>4</th>\n",
       "      <td>geLVL-2.txt</td>\n",
       "      <td>1</td>\n",
       "      <td>1.00</td>\n",
       "      <td>14</td>\n",
       "      <td>0</td>\n",
       "      <td>True</td>\n",
       "      <td>2080.00</td>\n",
       "    </tr>\n",
       "  </tbody>\n",
       "</table>\n",
       "</div>"
      ],
      "text/plain": [
       "         Level  Mario Type  Progress  Time Left  Kills  Mario Alive  Distance\n",
       "0  geLVL-1.txt           0      0.40         18      0        False    828.06\n",
       "1  geLVL-1.txt           1      0.40         18      0        False    828.06\n",
       "2  geLVL-1.txt           2      0.40         18      0        False    828.06\n",
       "3  geLVL-2.txt           0      1.00         14      0         True   2080.00\n",
       "4  geLVL-2.txt           1      1.00         14      0         True   2080.00"
      ]
     },
     "execution_count": 36,
     "metadata": {},
     "output_type": "execute_result"
    }
   ],
   "source": [
    "import pandas as pd\n",
    "\n",
    "\n",
    "df_original = pd.read_csv(\"output/full_runs/ge/20/robinBaumgarten_new.csv\")\n",
    "#print(df)\n",
    "\n",
    "#for i in range(len(df)):\n",
    " #   print(df[\"Progress\"][i] + df[\"Progress\"][i+1] + df[\"Progress\"][i+2])\n",
    "  #  i = i+3\n",
    "\n",
    "df_original.head()\n"
   ]
  },
  {
   "cell_type": "code",
   "execution_count": null,
   "id": "407f2870",
   "metadata": {},
   "outputs": [],
   "source": []
  },
  {
   "cell_type": "code",
   "execution_count": 149,
   "id": "d1db48c1",
   "metadata": {},
   "outputs": [],
   "source": [
    "#print(df_original)"
   ]
  },
  {
   "cell_type": "code",
   "execution_count": 3,
   "id": "3e325d38",
   "metadata": {},
   "outputs": [
    {
     "data": {
      "text/plain": [
       "1164.1"
      ]
     },
     "execution_count": 3,
     "metadata": {},
     "output_type": "execute_result"
    }
   ],
   "source": [
    "46564/40"
   ]
  },
  {
   "cell_type": "code",
   "execution_count": 9,
   "id": "d70d34d9",
   "metadata": {},
   "outputs": [],
   "source": [
    "#notch = pd.read_csv(\"output/notch_with_distance.csv\")\n",
    "#ge = pd.read_csv(\"output/with_distance.csv\")\n",
    "#rint(sum(notch[\"Progress\"]), sum(ge[\"Progress\"]))"
   ]
  },
  {
   "cell_type": "code",
   "execution_count": 4,
   "id": "4246e63f",
   "metadata": {},
   "outputs": [],
   "source": [
    "ge = pd.read_csv(\"output/full_runs/ge/20/robinBaumgarten_new.csv\")\n",
    "#print(sum(df[\"Mario Alive\"]==True))\n",
    "#print(sum(df[\"Progress\"]==1))"
   ]
  },
  {
   "cell_type": "code",
   "execution_count": 37,
   "id": "9e7e92de",
   "metadata": {},
   "outputs": [
    {
     "ename": "NameError",
     "evalue": "name 'notch_small' is not defined",
     "output_type": "error",
     "traceback": [
      "\u001b[1;31m---------------------------------------------------------------------------\u001b[0m",
      "\u001b[1;31mNameError\u001b[0m                                 Traceback (most recent call last)",
      "Input \u001b[1;32mIn [37]\u001b[0m, in \u001b[0;36m<cell line: 13>\u001b[1;34m()\u001b[0m\n\u001b[0;32m     10\u001b[0m     plt\u001b[38;5;241m.\u001b[39mboxplot(dataframe[metric])\n\u001b[0;32m     11\u001b[0m     plt\u001b[38;5;241m.\u001b[39mshow()\n\u001b[1;32m---> 13\u001b[0m getBoxPlot(\u001b[43mnotch_small\u001b[49m, \u001b[38;5;124m\"\u001b[39m\u001b[38;5;124mProgress\u001b[39m\u001b[38;5;124m\"\u001b[39m)\n",
      "\u001b[1;31mNameError\u001b[0m: name 'notch_small' is not defined"
     ]
    }
   ],
   "source": [
    "df_original = pd.read_csv(\"output/full_runs/ge/20/robinBaumgarten_new.csv\")\n",
    "og_small = df_original[df_original[\"Mario Type\"] == 0]\n",
    "og_big = df_original[df_original[\"Mario Type\"] == 1]\n",
    "og_fire = df_original[df_original[\"Mario Type\"] == 2]\n",
    "\n",
    "#notch = pd.read_csv(\"output/robinBaumgarten_notch.csv\")\n",
    "#notch_small = notch[notch[\"Mario Type\"] == 0]\n",
    "\n",
    "def getBoxPlot(dataframe, metric):\n",
    "    plt.boxplot(dataframe[metric])\n",
    "    plt.show()\n",
    "    \n",
    "getBoxPlot(notch_small, \"Progress\")"
   ]
  },
  {
   "cell_type": "code",
   "execution_count": 38,
   "id": "b87f454d",
   "metadata": {},
   "outputs": [
    {
     "data": {
      "image/png": "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\n",
      "text/plain": [
       "<Figure size 720x504 with 1 Axes>"
      ]
     },
     "metadata": {
      "needs_background": "light"
     },
     "output_type": "display_data"
    }
   ],
   "source": [
    "# Import libraries\n",
    "import pandas as pd\n",
    "import matplotlib.pyplot as plt\n",
    "import numpy as np\n",
    " \n",
    " \n",
    "# Creating dataset\n",
    "np.random.seed(10)\n",
    "\n",
    "\n",
    "#df_ge = pd.read_csv(\"output/robinBaumgarten_ge_1_1000.csv\")\n",
    "\n",
    "df_ge = pd.read_csv(\"output/full_runs/ge/20/andySloane.csv\")\n",
    "\n",
    "df_ge[\"Magic\"] = df_ge[\"Time Left\"] + df_ge[\"Progress\"]*100 + df_ge[\"Kills\"]\n",
    "\n",
    "df_small = df_ge[df_ge[\"Mario Type\"] == 0]\n",
    "df_big = df_ge[df_ge[\"Mario Type\"] == 1]\n",
    "df_fire = df_ge[df_ge[\"Mario Type\"] == 2]\n",
    "data = [df_small[\"Progress\"], df_big[\"Progress\"], df_fire[\"Progress\"]]\n",
    "\n",
    "fig = plt.figure(figsize =(10, 7))\n",
    " \n",
    "# Creating axes instance\n",
    "ax = fig.add_axes([0, 0, 1, 1])\n",
    " \n",
    "# Creating plot\n",
    "bp = ax.boxplot(data)\n",
    " \n",
    "# show plot\n",
    "plt.show()"
   ]
  },
  {
   "cell_type": "code",
   "execution_count": 39,
   "id": "2ab62e6d",
   "metadata": {},
   "outputs": [
    {
     "name": "stdout",
     "output_type": "stream",
     "text": [
      "2140 2031 621\n"
     ]
    }
   ],
   "source": [
    "def count(lst):\n",
    " \n",
    "    return sum(bool(x) for x in lst)\n",
    "#sergey = pd.read_csv(\"output/sergeyPolikarpov_ge_1.csv\") \n",
    "#sergeyK = pd.read_csv(\"output/sergeyKarakovskiy_ge_1_1000.csv\")  \n",
    "#sergey_df_fire = sergey[sergey[\"Mario Type\"] == 2]\n",
    "#sergeyK_df_fire = sergeyK[sergeyK[\"Mario Type\"] == 2]\n",
    "\n",
    "lst = df_ge[\"Progress\"] == 1.0\n",
    "\n",
    "#print(count(sergey[\"Progress\"] == 1.0), count(sergeyK[\"Progress\"] == 1.0))\n",
    "\n",
    "#df = pd.read_csv(\"output/robinBaumgarten_ge.csv\")\n",
    "#df_fire = df[df[\"Mario Type\"] == 2]\n",
    "\n",
    "lst = df_ge[\"Progress\"] == 1.0\n",
    "\n",
    "robinL = pd.read_csv(\"output/full_runs/ge/240/robinBaumgarten.csv\")\n",
    "robin = pd.read_csv(\"output/full_runs/ge/20/robinBaumgarten.csv\")\n",
    "andy = pd.read_csv(\"output/full_runs/ge/20/andySloane.csv\")\n",
    "\n",
    "\n",
    "\n",
    "print(count(robinL[\"Progress\"] == 1.0), count(robin[\"Progress\"] == 1.0), count(andy[\"Progress\"] == 1.0) )"
   ]
  },
  {
   "cell_type": "code",
   "execution_count": 40,
   "id": "d6ca96f2",
   "metadata": {},
   "outputs": [
    {
     "name": "stdout",
     "output_type": "stream",
     "text": [
      "19\n",
      "843\n"
     ]
    },
    {
     "data": {
      "image/png": "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\n",
      "text/plain": [
       "<Figure size 864x288 with 1 Axes>"
      ]
     },
     "metadata": {
      "needs_background": "light"
     },
     "output_type": "display_data"
    }
   ],
   "source": [
    "\n",
    "# Import libraries\n",
    "import matplotlib.pyplot as plt\n",
    "import numpy as np\n",
    " \n",
    "# Creating plot\n",
    "derp = ge[ge[\"Mario Alive\"] == False]\n",
    "plt.boxplot(derp[\"Mario Type\"])\n",
    "\n",
    "df = pd.read_csv(\"output/full_runs/ge/20/sergeyKarakovskiy.csv\")\n",
    "\n",
    "print(count(ge[\"Mario Alive\"]))\n",
    "print(count(df_small[\"Progress\"] < 1.0))\n",
    "# show plot\n",
    "plt.show()"
   ]
  },
  {
   "cell_type": "code",
   "execution_count": 41,
   "id": "9696c7ff",
   "metadata": {},
   "outputs": [
    {
     "data": {
      "text/html": [
       "<div>\n",
       "<style scoped>\n",
       "    .dataframe tbody tr th:only-of-type {\n",
       "        vertical-align: middle;\n",
       "    }\n",
       "\n",
       "    .dataframe tbody tr th {\n",
       "        vertical-align: top;\n",
       "    }\n",
       "\n",
       "    .dataframe thead th {\n",
       "        text-align: right;\n",
       "    }\n",
       "</style>\n",
       "<table border=\"1\" class=\"dataframe\">\n",
       "  <thead>\n",
       "    <tr style=\"text-align: right;\">\n",
       "      <th></th>\n",
       "      <th>Level</th>\n",
       "      <th>Mario Type</th>\n",
       "      <th>Progress</th>\n",
       "      <th>Time Left</th>\n",
       "      <th>Kills</th>\n",
       "      <th>Mario Alive</th>\n",
       "      <th>Distance</th>\n",
       "      <th>Magic</th>\n",
       "    </tr>\n",
       "  </thead>\n",
       "  <tbody>\n",
       "    <tr>\n",
       "      <th>0</th>\n",
       "      <td>ge/LVL-1.txt</td>\n",
       "      <td>0</td>\n",
       "      <td>0.38</td>\n",
       "      <td>0</td>\n",
       "      <td>0</td>\n",
       "      <td>True</td>\n",
       "      <td>795.00</td>\n",
       "      <td>38.22</td>\n",
       "    </tr>\n",
       "    <tr>\n",
       "      <th>1</th>\n",
       "      <td>ge/LVL-1.txt</td>\n",
       "      <td>1</td>\n",
       "      <td>0.38</td>\n",
       "      <td>0</td>\n",
       "      <td>0</td>\n",
       "      <td>True</td>\n",
       "      <td>795.00</td>\n",
       "      <td>38.22</td>\n",
       "    </tr>\n",
       "    <tr>\n",
       "      <th>2</th>\n",
       "      <td>ge/LVL-1.txt</td>\n",
       "      <td>2</td>\n",
       "      <td>0.38</td>\n",
       "      <td>0</td>\n",
       "      <td>0</td>\n",
       "      <td>True</td>\n",
       "      <td>795.00</td>\n",
       "      <td>38.22</td>\n",
       "    </tr>\n",
       "    <tr>\n",
       "      <th>3</th>\n",
       "      <td>ge/LVL-2.txt</td>\n",
       "      <td>0</td>\n",
       "      <td>0.14</td>\n",
       "      <td>0</td>\n",
       "      <td>0</td>\n",
       "      <td>True</td>\n",
       "      <td>283.60</td>\n",
       "      <td>13.63</td>\n",
       "    </tr>\n",
       "    <tr>\n",
       "      <th>4</th>\n",
       "      <td>ge/LVL-2.txt</td>\n",
       "      <td>1</td>\n",
       "      <td>0.14</td>\n",
       "      <td>0</td>\n",
       "      <td>0</td>\n",
       "      <td>True</td>\n",
       "      <td>283.60</td>\n",
       "      <td>13.63</td>\n",
       "    </tr>\n",
       "    <tr>\n",
       "      <th>5</th>\n",
       "      <td>ge/LVL-2.txt</td>\n",
       "      <td>2</td>\n",
       "      <td>0.14</td>\n",
       "      <td>0</td>\n",
       "      <td>1</td>\n",
       "      <td>True</td>\n",
       "      <td>283.60</td>\n",
       "      <td>14.63</td>\n",
       "    </tr>\n",
       "    <tr>\n",
       "      <th>6</th>\n",
       "      <td>ge/LVL-3.txt</td>\n",
       "      <td>0</td>\n",
       "      <td>1.00</td>\n",
       "      <td>11</td>\n",
       "      <td>0</td>\n",
       "      <td>True</td>\n",
       "      <td>2080.00</td>\n",
       "      <td>111.00</td>\n",
       "    </tr>\n",
       "    <tr>\n",
       "      <th>7</th>\n",
       "      <td>ge/LVL-3.txt</td>\n",
       "      <td>1</td>\n",
       "      <td>0.43</td>\n",
       "      <td>16</td>\n",
       "      <td>0</td>\n",
       "      <td>False</td>\n",
       "      <td>894.78</td>\n",
       "      <td>59.02</td>\n",
       "    </tr>\n",
       "    <tr>\n",
       "      <th>8</th>\n",
       "      <td>ge/LVL-3.txt</td>\n",
       "      <td>2</td>\n",
       "      <td>0.43</td>\n",
       "      <td>16</td>\n",
       "      <td>0</td>\n",
       "      <td>False</td>\n",
       "      <td>894.78</td>\n",
       "      <td>59.02</td>\n",
       "    </tr>\n",
       "    <tr>\n",
       "      <th>9</th>\n",
       "      <td>ge/LVL-4.txt</td>\n",
       "      <td>0</td>\n",
       "      <td>0.22</td>\n",
       "      <td>19</td>\n",
       "      <td>0</td>\n",
       "      <td>False</td>\n",
       "      <td>455.00</td>\n",
       "      <td>40.87</td>\n",
       "    </tr>\n",
       "  </tbody>\n",
       "</table>\n",
       "</div>"
      ],
      "text/plain": [
       "          Level  Mario Type  Progress  Time Left  Kills  Mario Alive  \\\n",
       "0  ge/LVL-1.txt           0      0.38          0      0         True   \n",
       "1  ge/LVL-1.txt           1      0.38          0      0         True   \n",
       "2  ge/LVL-1.txt           2      0.38          0      0         True   \n",
       "3  ge/LVL-2.txt           0      0.14          0      0         True   \n",
       "4  ge/LVL-2.txt           1      0.14          0      0         True   \n",
       "5  ge/LVL-2.txt           2      0.14          0      1         True   \n",
       "6  ge/LVL-3.txt           0      1.00         11      0         True   \n",
       "7  ge/LVL-3.txt           1      0.43         16      0        False   \n",
       "8  ge/LVL-3.txt           2      0.43         16      0        False   \n",
       "9  ge/LVL-4.txt           0      0.22         19      0        False   \n",
       "\n",
       "   Distance  Magic  \n",
       "0    795.00  38.22  \n",
       "1    795.00  38.22  \n",
       "2    795.00  38.22  \n",
       "3    283.60  13.63  \n",
       "4    283.60  13.63  \n",
       "5    283.60  14.63  \n",
       "6   2080.00 111.00  \n",
       "7    894.78  59.02  \n",
       "8    894.78  59.02  \n",
       "9    455.00  40.87  "
      ]
     },
     "execution_count": 41,
     "metadata": {},
     "output_type": "execute_result"
    }
   ],
   "source": [
    "df_ge.head(10)"
   ]
  },
  {
   "cell_type": "code",
<<<<<<< HEAD
   "execution_count": 42,
=======
   "execution_count": 3,
>>>>>>> 227e7dd2e4be327327ac89cf3bf43c0942002cbb
   "id": "c5c651ca",
   "metadata": {},
   "outputs": [
    {
     "data": {
      "image/png": "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",
      "text/plain": [
       "<Figure size 1000x700 with 1 Axes>"
      ]
     },
     "metadata": {},
     "output_type": "display_data"
    }
   ],
   "source": [
    "# Import libraries\n",
    "import pandas as pd\n",
    "import matplotlib.pyplot as plt\n",
    "import numpy as np\n",
    " \n",
    " \n",
    "# Creating dataset\n",
    "np.random.seed(10)\n",
    "\n",
    "\n",
    "#df_ge = pd.read_csv(\"output/robinBaumgarten_ge_1_1000.csv\")\n",
    "\n",
    "df_ge = pd.read_csv(\"output/full_runs/patternOccur/20/robinBaumgarten_new.csv\")\n",
    "\n",
    "df_ge[\"Magic\"] = df_ge[\"Time Left\"] + df_ge[\"Progress\"]*100 + df_ge[\"Kills\"]\n",
    "\n",
    "df_small = df_ge[df_ge[\"Mario Type\"] == 0]\n",
    "df_big = df_ge[df_ge[\"Mario Type\"] == 1]\n",
    "df_fire = df_ge[df_ge[\"Mario Type\"] == 2]\n",
    "data = [df_small[\"Progress\"], df_big[\"Progress\"], df_fire[\"Progress\"]]\n",
    "\n",
    "fig = plt.figure(figsize =(10, 7))\n",
    " \n",
    "# Creating axes instance\n",
    "ax = fig.add_axes([0, 0, 1, 1])\n",
    " \n",
    "# Creating plot\n",
    "bp = ax.boxplot(data)\n",
    " \n",
    "# show plot\n",
    "plt.show()"
   ]
  },
  {
   "cell_type": "code",
   "execution_count": 43,
   "id": "35c89769",
   "metadata": {},
   "outputs": [
    {
     "data": {
      "text/html": [
       "<div>\n",
       "<style scoped>\n",
       "    .dataframe tbody tr th:only-of-type {\n",
       "        vertical-align: middle;\n",
       "    }\n",
       "\n",
       "    .dataframe tbody tr th {\n",
       "        vertical-align: top;\n",
       "    }\n",
       "\n",
       "    .dataframe thead th {\n",
       "        text-align: right;\n",
       "    }\n",
       "</style>\n",
       "<table border=\"1\" class=\"dataframe\">\n",
       "  <thead>\n",
       "    <tr style=\"text-align: right;\">\n",
       "      <th></th>\n",
       "      <th>Level</th>\n",
       "      <th>Mario Type</th>\n",
       "      <th>Progress</th>\n",
       "      <th>Time Left</th>\n",
       "      <th>Kills</th>\n",
       "      <th>Mario Alive</th>\n",
       "      <th>Magic</th>\n",
       "    </tr>\n",
       "  </thead>\n",
       "  <tbody>\n",
       "    <tr>\n",
       "      <th>0</th>\n",
       "      <td>ge/LVL-1.txt</td>\n",
       "      <td>0</td>\n",
       "      <td>0.23</td>\n",
       "      <td>19</td>\n",
       "      <td>0</td>\n",
       "      <td>False</td>\n",
       "      <td>41.95</td>\n",
       "    </tr>\n",
       "    <tr>\n",
       "      <th>1</th>\n",
       "      <td>ge/LVL-1.txt</td>\n",
       "      <td>1</td>\n",
       "      <td>0.25</td>\n",
       "      <td>18</td>\n",
       "      <td>0</td>\n",
       "      <td>False</td>\n",
       "      <td>42.90</td>\n",
       "    </tr>\n",
       "    <tr>\n",
       "      <th>2</th>\n",
       "      <td>ge/LVL-1.txt</td>\n",
       "      <td>2</td>\n",
       "      <td>0.25</td>\n",
       "      <td>18</td>\n",
       "      <td>0</td>\n",
       "      <td>False</td>\n",
       "      <td>42.90</td>\n",
       "    </tr>\n",
       "    <tr>\n",
       "      <th>3</th>\n",
       "      <td>ge/LVL-2.txt</td>\n",
       "      <td>0</td>\n",
       "      <td>0.15</td>\n",
       "      <td>19</td>\n",
       "      <td>0</td>\n",
       "      <td>False</td>\n",
       "      <td>33.62</td>\n",
       "    </tr>\n",
       "    <tr>\n",
       "      <th>4</th>\n",
       "      <td>ge/LVL-2.txt</td>\n",
       "      <td>1</td>\n",
       "      <td>0.43</td>\n",
       "      <td>17</td>\n",
       "      <td>0</td>\n",
       "      <td>False</td>\n",
       "      <td>60.10</td>\n",
       "    </tr>\n",
       "  </tbody>\n",
       "</table>\n",
       "</div>"
      ],
      "text/plain": [
       "          Level  Mario Type  Progress  Time Left  Kills  Mario Alive  Magic\n",
       "0  ge/LVL-1.txt           0      0.23         19      0        False  41.95\n",
       "1  ge/LVL-1.txt           1      0.25         18      0        False  42.90\n",
       "2  ge/LVL-1.txt           2      0.25         18      0        False  42.90\n",
       "3  ge/LVL-2.txt           0      0.15         19      0        False  33.62\n",
       "4  ge/LVL-2.txt           1      0.43         17      0        False  60.10"
      ]
     },
     "execution_count": 43,
     "metadata": {},
     "output_type": "execute_result"
    }
   ],
   "source": [
    "df[\"Magic\"] = df[\"Progress\"]*100 + df[\"Time Left\"]\n",
    "df.head()"
   ]
  },
  {
   "cell_type": "code",
<<<<<<< HEAD
   "execution_count": 50,
=======
   "execution_count": 41,
>>>>>>> 227e7dd2e4be327327ac89cf3bf43c0942002cbb
   "id": "174ae5b9",
   "metadata": {},
   "outputs": [
    {
     "data": {
<<<<<<< HEAD
      "image/png": "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\n",
      "text/plain": [
       "<Figure size 864x288 with 1 Axes>"
=======
      "image/png": "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",
      "text/plain": [
       "<Figure size 1200x400 with 1 Axes>"
>>>>>>> 227e7dd2e4be327327ac89cf3bf43c0942002cbb
      ]
     },
     "metadata": {},
     "output_type": "display_data"
    }
   ],
   "source": [
    "# import the matplotlib package\n",
    "import matplotlib.pyplot as plt\n",
    " \n",
    "# import the numpy package\n",
    "import numpy as np\n",
    "\n",
    "\n",
    "        \n",
    "        \n",
    "def produceData(df_ge):\n",
    "    df_small = df_ge[df_ge[\"Mario Type\"] == 0]\n",
    "    df_big = df_ge[df_ge[\"Mario Type\"] == 1]\n",
    "    df_fire = df_ge[df_ge[\"Mario Type\"] == 2]\n",
    "    data = [df_small[\"Progress\"], df_big[\"Progress\"], df_fire[\"Progress\"]]\n",
    "    return data\n",
    "\n",
    "sergey = produceData(pd.read_csv(\"output/full_runs/ge/20/sergeyPolikarpov.csv\"))\n",
    "robinL = produceData(pd.read_csv(\"output/full_runs/ge/240/robinBaumgarten.csv\"))\n",
    "sergeyK = produceData(pd.read_csv(\"output/full_runs/ge/240/sergeyKarakovskiy.csv\"))\n",
    "robin = produceData(pd.read_csv(\"output/full_runs/ge/20/robinBaumgarten.csv\"))\n",
    "andy = produceData(pd.read_csv(\"output/full_runs/ge/20/andySloane.csv\"))\n",
    "\n",
    "\n",
    "ticks = ['Small', 'Big', 'Fire']\n",
    " \n",
    "\n",
    "robin_plot = plt.boxplot(robin,\n",
    "                               positions=np.array(\n",
    "    np.arange(len(robin)))*3.0-0.5,\n",
    "                               widths=0.4)\n",
    "sergey_plot = plt.boxplot(sergey,\n",
    "                               positions=np.array(\n",
    "    np.arange(len(sergey)))*3.0,\n",
    "                               widths=0.4)\n",
    "andy_plot = plt.boxplot(andy,\n",
    "                               positions=np.array(\n",
    "    np.arange(len(andy)))*3.0+0.5,\n",
    "                               widths=0.4)\n",
    "\n",
    "\n",
    "\n",
    "\n",
    "def define_box_properties(plot_name, color_code, label):\n",
    "    for k, v in plot_name.items():\n",
    "        plt.setp(plot_name.get(k), color=color_code)\n",
    "         \n",
    "    # use plot function to draw a small line to name the legend.\n",
    "    plt.plot([], c=color_code, label=label)\n",
    "    plt.legend()\n",
    " \n",
    " \n",
    "# setting colors for each groups\n",
    "define_box_properties(andy_plot, '#00FF00', 'Andy')\n",
    "define_box_properties(robin_plot, '#FF0000', 'Robin')\n",
    "define_box_properties(sergey_plot, '#0000FF', 'Sergey')\n",
    "\n",
    " \n",
    "# set the x label values\n",
    "plt.xticks(np.arange(0, len(ticks) * 3, 3), ticks, fontsize=20)\n",
    " \n",
    "# set the limit for x axis\n",
    "plt.xlim(-1, len(ticks)*3+0.5)\n",
    " \n",
    "# set the limit for y axis\n",
    "plt.ylim(0, 1.1)\n",
    "plt.legend(fontsize=20)\n",
    "\n",
    "# set the title\n",
    "plt.title('Comparison of progress for different algorithms', fontsize=20)\n",
    "plt.show()\n",
    "plt.rcParams['figure.figsize'] = [12, 4]"
   ]
  },
  {
   "cell_type": "code",
   "execution_count": 44,
   "id": "71e63a05",
   "metadata": {},
   "outputs": [
    {
     "data": {
      "image/png": "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",
      "text/plain": [
       "<Figure size 1200x400 with 1 Axes>"
      ]
     },
     "metadata": {},
     "output_type": "display_data"
    }
   ],
   "source": [
    "# import the matplotlib package\n",
    "import matplotlib.pyplot as plt\n",
    " \n",
    "# import the numpy package\n",
    "import numpy as np\n",
    "\n",
    "\n",
    "        \n",
    "        \n",
    "def produceData(df_ge):\n",
    "    df_small = df_ge[df_ge[\"Mario Type\"] == 0]\n",
    "    df_big = df_ge[df_ge[\"Mario Type\"] == 1]\n",
    "    df_fire = df_ge[df_ge[\"Mario Type\"] == 2]\n",
    "    data = [df_small[\"Progress\"], df_big[\"Progress\"], df_fire[\"Progress\"]]\n",
    "    return data\n",
    "\n",
    "sergey_2 = produceData(pd.read_csv(\"output/full_runs/patternOccur/20/sergeyPolikarpov_new.csv\"))\n",
    "robin_2 = produceData(pd.read_csv(\"output/full_runs/patternOccur/20/robinBaumgarten_new.csv\"))\n",
    "andy_2 = produceData(pd.read_csv(\"output/full_runs/patternOccur/20/andySloane_new.csv\"))\n",
    "\n",
    "\n",
    "ticks = ['Small', 'Big', 'Fire']\n",
    " \n",
    "\n",
    "robin_plot_2 = plt.boxplot(robin_2,\n",
    "                               positions=np.array(\n",
    "    np.arange(len(robin_2)))*3.0-0.5,\n",
    "                               widths=0.4)\n",
    "sergey_plot_2 = plt.boxplot(sergey_2,\n",
    "                               positions=np.array(\n",
    "    np.arange(len(sergey_2)))*3.0,\n",
    "                               widths=0.4)\n",
    "andy_plot_2 = plt.boxplot(andy_2,\n",
    "                               positions=np.array(\n",
    "    np.arange(len(andy_2)))*3.0+0.5,\n",
    "                               widths=0.4)\n",
    "\n",
    "\n",
    "\n",
    "\n",
    "def define_box_properties(plot_name, color_code, label):\n",
    "    for k, v in plot_name.items():\n",
    "        plt.setp(plot_name.get(k), color=color_code)\n",
    "         \n",
    "    # use plot function to draw a small line to name the legend.\n",
    "    plt.plot([], c=color_code, label=label)\n",
    "    plt.legend()\n",
    " \n",
    " \n",
    "# setting colors for each groups\n",
    "define_box_properties(andy_plot_2, '#00FF00', 'Andy')\n",
    "define_box_properties(robin_plot_2, '#FF0000', 'Robin')\n",
    "define_box_properties(sergey_plot_2, '#0000FF', 'Sergey')\n",
    "\n",
    " \n",
    "# set the x label values\n",
    "plt.xticks(np.arange(0, len(ticks) * 3, 3), ticks, fontsize=20)\n",
    " \n",
    "# set the limit for x axis\n",
    "plt.xlim(-1, len(ticks)*3+0.5)\n",
    " \n",
    "# set the limit for y axis\n",
    "plt.ylim(0, 1.1)\n",
    "plt.legend(fontsize=20)\n",
    "\n",
    "# set the title\n",
    "plt.title('Comparison of progress for different algorithms', fontsize=20)\n",
    "plt.show()\n",
    "plt.rcParams['figure.figsize'] = [12, 4]"
   ]
  },
  {
   "cell_type": "code",
   "execution_count": 51,
   "id": "2b12a91a",
   "metadata": {},
   "outputs": [
    {
     "name": "stdout",
     "output_type": "stream",
     "text": [
      "[0      0.18\n",
      "3      0.15\n",
      "6      0.42\n",
      "9      0.08\n",
      "12     0.61\n",
      "       ... \n",
      "2985   0.31\n",
      "2988   0.15\n",
      "2991   0.13\n",
      "2994   0.44\n",
      "2997   0.21\n",
      "Name: Progress, Length: 1000, dtype: float64, 1      0.16\n",
      "4      0.12\n",
      "7      0.41\n",
      "10     0.09\n",
      "13     0.60\n",
      "       ... \n",
      "2986   0.47\n",
      "2989   0.49\n",
      "2992   0.39\n",
      "2995   0.22\n",
      "2998   0.79\n",
      "Name: Progress, Length: 1000, dtype: float64, 2      0.19\n",
      "5      0.39\n",
      "8      0.42\n",
      "11     0.11\n",
      "14     0.43\n",
      "       ... \n",
      "2987   0.48\n",
      "2990   0.18\n",
      "2993   0.13\n",
      "2996   0.36\n",
      "2999   0.51\n",
      "Name: Progress, Length: 1000, dtype: float64]\n"
     ]
    }
   ],
   "source": [
    "print(sergey)"
   ]
  },
  {
   "cell_type": "code",
   "execution_count": 45,
   "id": "a1de91b2",
   "metadata": {},
   "outputs": [
    {
     "name": "stdout",
     "output_type": "stream",
     "text": [
      "╒═══════════════════╤══════════════╤═══════════════════╤═════════════╤════════════╤═════════╕\n",
      "│ Name              │   Time Limit │   Levels Complete │   Time Left │   Progress │   Kills │\n",
      "╞═══════════════════╪══════════════╪═══════════════════╪═════════════╪════════════╪═════════╡\n",
      "│ Robin Baumgarten  │           20 │              2031 │       44536 │   2610.67  │     832 │\n",
      "├───────────────────┼──────────────┼───────────────────┼─────────────┼────────────┼─────────┤\n",
      "│ Robin Baumgarten  │           60 │              2139 │      164097 │   2671.72  │     844 │\n",
      "├───────────────────┼──────────────┼───────────────────┼─────────────┼────────────┼─────────┤\n",
      "│ Robin Baumgarten  │          240 │              2140 │      704092 │   2670.55  │     835 │\n",
      "├───────────────────┼──────────────┼───────────────────┼─────────────┼────────────┼─────────┤\n",
      "│ Andy Sloane       │           20 │               621 │       24954 │   1587.58  │    1123 │\n",
      "├───────────────────┼──────────────┼───────────────────┼─────────────┼────────────┼─────────┤\n",
      "│ Andy Sloane       │           60 │               627 │       95450 │   1589.96  │    1126 │\n",
      "├───────────────────┼──────────────┼───────────────────┼─────────────┼────────────┼─────────┤\n",
      "│ Andy Sloane       │          240 │               627 │      412970 │   1589.98  │    1127 │\n",
      "├───────────────────┼──────────────┼───────────────────┼─────────────┼────────────┼─────────┤\n",
      "│ Sergey Polikarpov │           20 │                88 │       46790 │    958.025 │     419 │\n",
      "├───────────────────┼──────────────┼───────────────────┼─────────────┼────────────┼─────────┤\n",
      "│ Sergey Polikarpov │           60 │                92 │      166726 │    961.38  │     426 │\n",
      "├───────────────────┼──────────────┼───────────────────┼─────────────┼────────────┼─────────┤\n",
      "│ Sergey Polikarpov │          240 │                83 │      706996 │    947.825 │     447 │\n",
      "╘═══════════════════╧══════════════╧═══════════════════╧═════════════╧════════════╧═════════╛\n"
     ]
    },
    {
     "data": {
      "text/html": [
       "<div>\n",
       "<style scoped>\n",
       "    .dataframe tbody tr th:only-of-type {\n",
       "        vertical-align: middle;\n",
       "    }\n",
       "\n",
       "    .dataframe tbody tr th {\n",
       "        vertical-align: top;\n",
       "    }\n",
       "\n",
       "    .dataframe thead th {\n",
       "        text-align: right;\n",
       "    }\n",
       "</style>\n",
       "<table border=\"1\" class=\"dataframe\">\n",
       "  <thead>\n",
       "    <tr style=\"text-align: right;\">\n",
       "      <th></th>\n",
       "      <th>Level</th>\n",
       "      <th>Mario Type</th>\n",
       "      <th>Progress</th>\n",
       "      <th>Time Left</th>\n",
       "      <th>Kills</th>\n",
       "      <th>Mario Alive</th>\n",
       "      <th>Distance</th>\n",
       "    </tr>\n",
       "  </thead>\n",
       "  <tbody>\n",
       "    <tr>\n",
       "      <th>909</th>\n",
       "      <td>ge/LVL-1.txt</td>\n",
       "      <td>0</td>\n",
       "      <td>0.87</td>\n",
       "      <td>227</td>\n",
       "      <td>0</td>\n",
       "      <td>False</td>\n",
       "      <td>1809.38</td>\n",
       "    </tr>\n",
       "    <tr>\n",
       "      <th>1142</th>\n",
       "      <td>ge/LVL-1.txt</td>\n",
       "      <td>2</td>\n",
       "      <td>0.97</td>\n",
       "      <td>226</td>\n",
       "      <td>1</td>\n",
       "      <td>False</td>\n",
       "      <td>2018.37</td>\n",
       "    </tr>\n",
       "    <tr>\n",
       "      <th>1330</th>\n",
       "      <td>ge/LVL-1.txt</td>\n",
       "      <td>1</td>\n",
       "      <td>0.83</td>\n",
       "      <td>230</td>\n",
       "      <td>0</td>\n",
       "      <td>False</td>\n",
       "      <td>1719.93</td>\n",
       "    </tr>\n",
       "    <tr>\n",
       "      <th>1703</th>\n",
       "      <td>ge/LVL-1.txt</td>\n",
       "      <td>2</td>\n",
       "      <td>0.84</td>\n",
       "      <td>229</td>\n",
       "      <td>1</td>\n",
       "      <td>False</td>\n",
       "      <td>1750.19</td>\n",
       "    </tr>\n",
       "    <tr>\n",
       "      <th>1816</th>\n",
       "      <td>ge/LVL-1.txt</td>\n",
       "      <td>1</td>\n",
       "      <td>0.87</td>\n",
       "      <td>227</td>\n",
       "      <td>0</td>\n",
       "      <td>False</td>\n",
       "      <td>1803.11</td>\n",
       "    </tr>\n",
       "  </tbody>\n",
       "</table>\n",
       "</div>"
      ],
      "text/plain": [
       "             Level  Mario Type  Progress  Time Left  Kills  Mario Alive  \\\n",
       "909   ge/LVL-1.txt           0      0.87        227      0        False   \n",
       "1142  ge/LVL-1.txt           2      0.97        226      1        False   \n",
       "1330  ge/LVL-1.txt           1      0.83        230      0        False   \n",
       "1703  ge/LVL-1.txt           2      0.84        229      1        False   \n",
       "1816  ge/LVL-1.txt           1      0.87        227      0        False   \n",
       "\n",
       "      Distance  \n",
       "909    1809.38  \n",
       "1142   2018.37  \n",
       "1330   1719.93  \n",
       "1703   1750.19  \n",
       "1816   1803.11  "
      ]
     },
     "execution_count": 45,
     "metadata": {},
     "output_type": "execute_result"
    }
   ],
   "source": [
    "from tabulate import tabulate\n",
    "import re\n",
    " \n",
    "def getResults(agentName, time):\n",
    "    dataframe = pd.read_csv(\"output/full_runs/ge/\" + str(time) + \"/\" + agentName + \".csv\")\n",
    "    dataframe[\"Level Complete\"] = dataframe[\"Progress\"] == 1.0\n",
    "    \n",
    "    name = agentName[0].upper() + agentName[1:]\n",
    "    res_list = re.findall('[A-Z][^A-Z]*', name)\n",
    "    name = \" \".join(res_list)\n",
    "    \n",
    "    return name, time, sum(dataframe[\"Level Complete\"]), sum(dataframe[\"Time Left\"]), sum(dataframe[\"Progress\"]), sum(dataframe[\"Kills\"])\n",
    "\n",
    "#create data\n",
    "data = [getResults(\"robinBaumgarten\", 20), getResults(\"robinBaumgarten\", 60), getResults(\"robinBaumgarten\", 240), \n",
    "        getResults(\"andySloane\", 20), getResults(\"andySloane\", 60), getResults(\"andySloane\", 240), \n",
    "        #getResults(\"sergeyKarakovskiy\", 20), getResults(\"sergeyKarakovskiy\", 60), getResults(\"sergeyKarakovskiy\", 240),\n",
    "        getResults(\"sergeyPolikarpov\", 20), getResults(\"sergeyPolikarpov\", 60), getResults(\"sergeyPolikarpov\", 240)]\n",
    "\n",
    "data_60 = [getResults(\"andySloane\", 60), #getResults(\"sergeyKarakovskiy\", 60),\n",
    "           getResults(\"sergeyPolikarpov\", 60)]\n",
    "\n",
    "#data_240 = \n",
    "  \n",
    "#define header names\n",
    "col_names = [\"Name\", \"Time Limit\", \"Levels Complete\", \"Time Left\", \"Progress\", \"Kills\"]\n",
    "  \n",
    "#display table\n",
    "print(tabulate(data, headers=col_names, tablefmt=\"fancy_grid\"))\n",
    "\n",
    "zzz = pd.read_csv(\"output/sergeyPolikarpov_lvl_1.csv\")\n",
    "zzz.head(30)\n",
    "derp = zzz[zzz[\"Progress\"] > 0.8]\n",
    "derp.head()\n"
   ]
  },
  {
   "cell_type": "code",
   "execution_count": null,
   "id": "05cbf4c8",
   "metadata": {},
   "outputs": [],
   "source": []
  },
  {
   "cell_type": "code",
   "execution_count": 46,
   "id": "6a9e0c0f",
   "metadata": {},
   "outputs": [],
   "source": [
    "#df[\"Progress\"].value_counts()"
   ]
  },
  {
   "cell_type": "code",
   "execution_count": null,
   "id": "5f34a444",
   "metadata": {},
   "outputs": [],
   "source": []
  },
  {
   "cell_type": "code",
   "execution_count": 47,
   "id": "c1f589b8",
   "metadata": {},
   "outputs": [
    {
     "data": {
      "image/png": "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\n",
      "text/plain": [
       "<Figure size 864x288 with 1 Axes>"
      ]
     },
     "metadata": {
      "needs_background": "light"
     },
     "output_type": "display_data"
    }
   ],
   "source": [
    "# import the matplotlib package\n",
    "import matplotlib.pyplot as plt\n",
    "import pandas as pd\n",
    "import numpy as np\n",
    "import seaborn as sns\n",
    " \n",
    "# import the numpy package\n",
    "import numpy as np\n",
    "\n",
    "# create 2 - sample a 3-Dim array, that measures\n",
    "\n",
    "def produceData(df_ge):\n",
    "    df_small = df_ge[df_ge[\"Mario Type\"] == 0]\n",
    "    df_big = df_ge[df_ge[\"Mario Type\"] == 1]\n",
    "    df_fire = df_ge[df_ge[\"Mario Type\"] == 2]\n",
    "    data = [df_small[\"Progress\"], df_big[\"Progress\"], df_fire[\"Progress\"]]\n",
    "    return data\n",
    "\n",
    "Sergey = produceData(pd.read_csv(\"output/full_runs/ge/20/sergeyPolikarpov.csv\"))\n",
    "Andy = produceData(pd.read_csv(\"output/full_runs/ge/20/andySloane.csv\"))\n",
    "Robin = produceData(pd.read_csv(\"output/full_runs/ge/20/robinBaumgarten.csv\"))\n",
    "# print the data\n",
    "# use melt to convert wide form to long form data\n",
    "# use seaborn plot and specify the x and y columns\n",
    "# and specify the dataframe\n",
    "ticks = ['small', 'big', 'fire']\n",
    "robin_plot = plt.boxplot(Robin,\n",
    "                               positions=np.array(\n",
    "    np.arange(len(robin)))*3.0-0.7,\n",
    "                               widths=0.6)\n",
    "\n",
    "sergey_plot = plt.boxplot(Sergey,\n",
    "                               positions=np.array(\n",
    "    np.arange(len(sergey)))*3.0,\n",
    "                               widths=0.6)\n",
    "\n",
    "sergeyK_plot = plt.boxplot(Andy,\n",
    "                               positions=np.array(\n",
    "    np.arange(len(sergeyK)))*3.0+0.7,\n",
    "                               widths=0.6)\n",
    " \n",
    "\n",
    "    \n",
    "    \n",
    "    \n",
    "    \n",
    "def define_box_properties(plot_name, color_code, label):\n",
    "    for k, v in plot_name.items():\n",
    "        plt.setp(plot_name.get(k), color=color_code)\n",
    "         \n",
    "    # use plot function to draw a small line to name the legend.\n",
    "    plt.plot([], c=color_code, label=label)\n",
    "    plt.legend()\n",
    " \n",
    " \n",
    "# setting colors for each groups\n",
    "define_box_properties(andy_plot, '#00FF00', 'Andy')\n",
    "define_box_properties(robin_plot, '#FF0000', 'Robin')\n",
    "define_box_properties(sergey_plot, '#0000FF', 'Sergey')\n",
    "\n",
    " \n",
    "# set the x label values\n",
    "plt.xticks(np.arange(0, len(ticks) * 3, 3), ticks)\n",
    " \n",
    "# set the limit for x axis\n",
    "plt.xlim(-2, len(ticks)*3-0.4)\n",
    "#plt.legend()\n",
    "# set the limit for y axis\n",
    "plt.ylim(0, 1.1)\n",
    "\n",
    "# set the title\n",
    "plt.title('Comparison of progress for different algorithms')\n",
    "plt.show()\n",
    "plt.rcParams['figure.figsize'] = [12, 4]"
   ]
  },
  {
   "cell_type": "code",
   "execution_count": 52,
   "id": "fcbbbc4e",
   "metadata": {},
   "outputs": [],
   "source": [
    "def produceData(df_ge):\n",
    "    df_small = df_ge[df_ge[\"Mario Type\"] == 0]\n",
    "    df_big = df_ge[df_ge[\"Mario Type\"] == 1]\n",
    "    df_fire = df_ge[df_ge[\"Mario Type\"] == 2]\n",
    "    data = [df_small[\"Progress\"], df_big[\"Progress\"], df_fire[\"Progress\"]]\n",
    "    return data\n",
    "\n",
    "sergey = produceData(pd.read_csv(\"output/full_runs/ge/20/sergeyPolikarpov.csv\")) \n",
    "robin = produceData(pd.read_csv(\"output/full_runs/ge/20/robinBaumgarten.csv\"))"
   ]
  },
  {
   "cell_type": "code",
<<<<<<< HEAD
   "execution_count": 54,
   "id": "3581ae44",
   "metadata": {},
   "outputs": [],
   "source": [
    "#print(sergey)"
   ]
  },
  {
   "cell_type": "code",
   "execution_count": 55,
=======
   "execution_count": 9,
>>>>>>> 227e7dd2e4be327327ac89cf3bf43c0942002cbb
   "id": "990a5234",
   "metadata": {},
   "outputs": [
    {
<<<<<<< HEAD
     "data": {
      "text/html": [
       "<div>\n",
       "<style scoped>\n",
       "    .dataframe tbody tr th:only-of-type {\n",
       "        vertical-align: middle;\n",
       "    }\n",
       "\n",
       "    .dataframe tbody tr th {\n",
       "        vertical-align: top;\n",
       "    }\n",
       "\n",
       "    .dataframe thead th {\n",
       "        text-align: right;\n",
       "    }\n",
       "</style>\n",
       "<table border=\"1\" class=\"dataframe\">\n",
       "  <thead>\n",
       "    <tr style=\"text-align: right;\">\n",
       "      <th></th>\n",
       "      <th>small</th>\n",
       "      <th>big</th>\n",
       "      <th>fire</th>\n",
       "    </tr>\n",
       "  </thead>\n",
       "  <tbody>\n",
       "    <tr>\n",
       "      <th>count</th>\n",
       "      <td>1000.00</td>\n",
       "      <td>1000.00</td>\n",
       "      <td>1000.00</td>\n",
       "    </tr>\n",
       "    <tr>\n",
       "      <th>mean</th>\n",
       "      <td>0.83</td>\n",
       "      <td>0.84</td>\n",
       "      <td>0.94</td>\n",
       "    </tr>\n",
       "    <tr>\n",
       "      <th>std</th>\n",
       "      <td>0.28</td>\n",
       "      <td>0.27</td>\n",
       "      <td>0.18</td>\n",
       "    </tr>\n",
       "    <tr>\n",
       "      <th>min</th>\n",
       "      <td>0.08</td>\n",
       "      <td>0.08</td>\n",
       "      <td>0.13</td>\n",
       "    </tr>\n",
       "    <tr>\n",
       "      <th>25%</th>\n",
       "      <td>0.73</td>\n",
       "      <td>0.77</td>\n",
       "      <td>1.00</td>\n",
       "    </tr>\n",
       "    <tr>\n",
       "      <th>50%</th>\n",
       "      <td>1.00</td>\n",
       "      <td>1.00</td>\n",
       "      <td>1.00</td>\n",
       "    </tr>\n",
       "    <tr>\n",
       "      <th>75%</th>\n",
       "      <td>1.00</td>\n",
       "      <td>1.00</td>\n",
       "      <td>1.00</td>\n",
       "    </tr>\n",
       "    <tr>\n",
       "      <th>max</th>\n",
       "      <td>1.00</td>\n",
       "      <td>1.00</td>\n",
       "      <td>1.00</td>\n",
       "    </tr>\n",
       "  </tbody>\n",
       "</table>\n",
       "</div>"
      ],
      "text/plain": [
       "        small     big    fire\n",
       "count 1000.00 1000.00 1000.00\n",
       "mean     0.83    0.84    0.94\n",
       "std      0.28    0.27    0.18\n",
       "min      0.08    0.08    0.13\n",
       "25%      0.73    0.77    1.00\n",
       "50%      1.00    1.00    1.00\n",
       "75%      1.00    1.00    1.00\n",
       "max      1.00    1.00    1.00"
      ]
     },
     "execution_count": 55,
     "metadata": {},
     "output_type": "execute_result"
=======
     "name": "stdout",
     "output_type": "stream",
     "text": [
      "        small     big    fire\n",
      "count 1000.00 1000.00 1000.00\n",
      "mean     0.92    0.93    0.93\n",
      "std      0.23    0.22    0.22\n",
      "min      0.00    0.00    0.00\n",
      "25%      0.98    0.98    0.98\n",
      "50%      1.00    1.00    1.00\n",
      "75%      1.00    1.00    1.00\n",
      "max      1.00    1.00    1.00\n",
      "        small     big    fire\n",
      "count 1000.00 1000.00 1000.00\n",
      "mean     0.83    0.84    0.94\n",
      "std      0.28    0.27    0.18\n",
      "min      0.08    0.08    0.13\n",
      "25%      0.73    0.77    1.00\n",
      "50%      1.00    1.00    1.00\n",
      "75%      1.00    1.00    1.00\n",
      "max      1.00    1.00    1.00\n"
     ]
>>>>>>> 227e7dd2e4be327327ac89cf3bf43c0942002cbb
    }
   ],
   "source": [
    "def getStats(fileName, columnName):    \n",
    "    df = pd.read_csv(fileName)\n",
    "    df_small = df[df[\"Mario Type\"] == 0]\n",
    "    df_big = df[df[\"Mario Type\"] == 1]\n",
    "    df_fire = df[df[\"Mario Type\"] == 2]\n",
    "\n",
    "    df = pd.DataFrame(list(zip(df_small[columnName], df_big[columnName], df_fire[columnName])),\n",
    "                   columns =['small', 'big', 'fire'])\n",
    "    # Set the display format to two decimal places\n",
    "    pd.options.display.float_format = '{:.2f}'.format\n",
    "    return df.describe()\n",
    "\n",
    "print(getStats(\"output/full_runs/patternOccur/20/robinBaumgarten_new.csv\", \"Progress\"))\n",
    "print(getStats(\"output/full_runs/ge/20/robinBaumgarten.csv\", \"Progress\"))"
   ]
  },
  {
   "cell_type": "code",
   "execution_count": 74,
   "id": "df35052a",
   "metadata": {},
   "outputs": [
    {
     "name": "stdout",
     "output_type": "stream",
     "text": [
      "        small     big    fire\n",
      "count 1000.00 1000.00 1000.00\n",
      "mean     0.83    0.84    0.94\n",
      "std      0.28    0.27    0.18\n",
      "min      0.08    0.08    0.13\n",
      "25%      0.73    0.77    1.00\n",
      "50%      1.00    1.00    1.00\n",
      "75%      1.00    1.00    1.00\n",
      "max      1.00    1.00    1.00\n"
     ]
    }
   ],
   "source": [
    "print(r_df)"
   ]
  },
  {
   "cell_type": "code",
   "execution_count": 75,
   "id": "fdcf1eea",
   "metadata": {},
   "outputs": [
    {
     "name": "stdout",
     "output_type": "stream",
     "text": [
      "\n",
      "          Robin Baumgarten’s A*\n",
      "╒═══════╤═════════╤═════════╤═════════╕\n",
      "│       │   small │     big │    fire │\n",
      "╞═══════╪═════════╪═════════╪═════════╡\n",
      "│ count │ 1000.00 │ 1000.00 │ 1000.00 │\n",
      "├───────┼─────────┼─────────┼─────────┤\n",
      "│ mean  │    0.83 │    0.84 │    0.94 │\n",
      "├───────┼─────────┼─────────┼─────────┤\n",
      "│ std   │    0.28 │    0.27 │    0.18 │\n",
      "├───────┼─────────┼─────────┼─────────┤\n",
      "│ min   │    0.08 │    0.08 │    0.13 │\n",
      "├───────┼─────────┼─────────┼─────────┤\n",
      "│ 25%   │    0.73 │    0.77 │    1.00 │\n",
      "├───────┼─────────┼─────────┼─────────┤\n",
      "│ 50%   │    1.00 │    1.00 │    1.00 │\n",
      "├───────┼─────────┼─────────┼─────────┤\n",
      "│ 75%   │    1.00 │    1.00 │    1.00 │\n",
      "├───────┼─────────┼─────────┼─────────┤\n",
      "│ max   │    1.00 │    1.00 │    1.00 │\n",
      "╘═══════╧═════════╧═════════╧═════════╛\n"
     ]
    }
   ],
   "source": [
    "#define header names\n",
    "r_df = getStats(\"output/full_runs/ge/20/robinBaumgarten.csv\", \"Progress\")\n",
    "col_names = r_df.columns.tolist() #[\"Name\", \"Time Limit\", \"Levels Complete\", \"Time Left\", \"Progress\", \"Kills\"]\n",
    "  \n",
    "#display table\n",
    "#plt.title(\"Robin Baumgarth\")\n",
    "#table.title = 'Robin Baumgarthners A*'\n",
    "print()\n",
    "print(\"          Robin Baumgarten’s A*\")\n",
    "print(tabulate(r_df, headers=col_names, tablefmt=\"fancy_grid\", floatfmt=\".2f\"))\n",
    "\n",
    "#zzz = getStats(\"output/full_runs/ge/20/robinBaumgarten.csv\", \"Progress\")\n",
    "#zzz.head(30)\n",
    "#derp = zzz[zzz[\"Progress\"] > 0.8]\n",
    "#derp.head()\n"
   ]
  },
  {
   "cell_type": "code",
   "execution_count": 76,
   "id": "47c75e0d",
   "metadata": {},
   "outputs": [
    {
     "name": "stdout",
     "output_type": "stream",
     "text": [
      "\n",
      "            Andy Solane’s A*\n",
      "╒═══════╤═════════╤═════════╤═════════╕\n",
      "│       │   small │     big │    fire │\n",
      "╞═══════╪═════════╪═════════╪═════════╡\n",
      "│ count │ 1000.00 │ 1000.00 │ 1000.00 │\n",
      "├───────┼─────────┼─────────┼─────────┤\n",
      "│ mean  │    0.49 │    0.55 │    0.55 │\n",
      "├───────┼─────────┼─────────┼─────────┤\n",
      "│ std   │    0.32 │    0.34 │    0.34 │\n",
      "├───────┼─────────┼─────────┼─────────┤\n",
      "│ min   │    0.07 │    0.06 │    0.06 │\n",
      "├───────┼─────────┼─────────┼─────────┤\n",
      "│ 25%   │    0.21 │    0.23 │    0.23 │\n",
      "├───────┼─────────┼─────────┼─────────┤\n",
      "│ 50%   │    0.41 │    0.51 │    0.51 │\n",
      "├───────┼─────────┼─────────┼─────────┤\n",
      "│ 75%   │    0.76 │    0.95 │    0.96 │\n",
      "├───────┼─────────┼─────────┼─────────┤\n",
      "│ max   │    1.00 │    1.00 │    1.00 │\n",
      "╘═══════╧═════════╧═════════╧═════════╛\n"
     ]
    }
   ],
   "source": [
    "#define header names\n",
    "a_df = getStats(\"output/full_runs/ge/20/andySloane.csv\", \"Progress\")\n",
    "col_names = a_df.columns.tolist() #[\"Name\", \"Time Limit\", \"Levels Complete\", \"Time Left\", \"Progress\", \"Kills\"]\n",
    "  \n",
    "#display table\n",
    "#plt.title(\"Robin Baumgarth\")\n",
    "#table.title = 'Robin Baumgarthners A*'\n",
    "print()\n",
    "print(\"            Andy Solane’s A*\")\n",
    "print(tabulate(a_df, headers=col_names, tablefmt=\"fancy_grid\", floatfmt=\".2f\"))\n",
    "\n",
    "#zzz = getStats(\"output/full_runs/ge/20/robinBaumgarten.csv\", \"Progress\")\n",
    "#zzz.head(30)\n",
    "#derp = zzz[zzz[\"Progress\"] > 0.8]\n",
    "#derp.head()\n"
   ]
  },
  {
   "cell_type": "code",
   "execution_count": 77,
   "id": "5796f206",
   "metadata": {},
   "outputs": [
    {
     "name": "stdout",
     "output_type": "stream",
     "text": [
      "\n",
      "      Sergey Polikarpov's Cyberneuron\n",
      "╒═══════╤═════════╤═════════╤═════════╕\n",
      "│       │   small │     big │    fire │\n",
      "╞═══════╪═════════╪═════════╪═════════╡\n",
      "│ count │ 1000.00 │ 1000.00 │ 1000.00 │\n",
      "├───────┼─────────┼─────────┼─────────┤\n",
      "│ mean  │    0.26 │    0.35 │    0.35 │\n",
      "├───────┼─────────┼─────────┼─────────┤\n",
      "│ std   │    0.19 │    0.24 │    0.26 │\n",
      "├───────┼─────────┼─────────┼─────────┤\n",
      "│ min   │    0.02 │    0.05 │    0.05 │\n",
      "├───────┼─────────┼─────────┼─────────┤\n",
      "│ 25%   │    0.12 │    0.16 │    0.14 │\n",
      "├───────┼─────────┼─────────┼─────────┤\n",
      "│ 50%   │    0.21 │    0.28 │    0.26 │\n",
      "├───────┼─────────┼─────────┼─────────┤\n",
      "│ 75%   │    0.34 │    0.48 │    0.50 │\n",
      "├───────┼─────────┼─────────┼─────────┤\n",
      "│ max   │    1.00 │    1.00 │    1.00 │\n",
      "╘═══════╧═════════╧═════════╧═════════╛\n"
     ]
    }
   ],
   "source": [
    "#define header names\n",
    "sp_df= getStats(\"output/full_runs/ge/20/sergeyPolikarpov.csv\", \"Progress\")\n",
    "col_names = sp_df.columns.tolist() #[\"Name\", \"Time Limit\", \"Levels Complete\", \"Time Left\", \"Progress\", \"Kills\"]\n",
    "  \n",
    "#display table\n",
    "#plt.title(\"Robin Baumgarth\")\n",
    "#table.title = 'Robin Baumgarthners A*'\n",
    "print()\n",
    "print(\"      Sergey Polikarpov's Cyberneuron\")\n",
    "print(tabulate(sp_df, headers=col_names, tablefmt=\"fancy_grid\", floatfmt=\".2f\"))\n",
    "\n",
    "#zzz = getStats(\"output/full_runs/ge/20/robinBaumgarten.csv\", \"Progress\")\n",
    "#zzz.head(30)\n",
    "#derp = zzz[zzz[\"Progress\"] > 0.8]\n",
    "#derp.head()\n"
   ]
  },
  {
   "cell_type": "code",
   "execution_count": 59,
   "id": "efa20c21",
   "metadata": {},
   "outputs": [
    {
     "name": "stdout",
     "output_type": "stream",
     "text": [
      "[0      0.40\n",
      "3      1.00\n",
      "6      1.00\n",
      "9      0.99\n",
      "12     1.00\n",
      "       ... \n",
      "2985   1.00\n",
      "2988   1.00\n",
      "2991   1.00\n",
      "2994   0.89\n",
      "2997   0.52\n",
      "Name: Progress, Length: 1000, dtype: float64, 1      0.40\n",
      "4      1.00\n",
      "7      1.00\n",
      "10     0.99\n",
      "13     1.00\n",
      "       ... \n",
      "2986   1.00\n",
      "2989   1.00\n",
      "2992   1.00\n",
      "2995   0.89\n",
      "2998   1.00\n",
      "Name: Progress, Length: 1000, dtype: float64, 2      1.00\n",
      "5      1.00\n",
      "8      1.00\n",
      "11     0.99\n",
      "14     1.00\n",
      "       ... \n",
      "2987   1.00\n",
      "2990   1.00\n",
      "2993   1.00\n",
      "2996   1.00\n",
      "2999   1.00\n",
      "Name: Progress, Length: 1000, dtype: float64]\n"
     ]
    }
   ],
   "source": [
    "print(robin)"
   ]
  },
  {
   "cell_type": "code",
   "execution_count": 61,
   "id": "a6b63099",
   "metadata": {},
   "outputs": [
    {
     "name": "stdout",
     "output_type": "stream",
     "text": [
      "Small Mario F_onewayResult(statistic=1172.7067658014614, pvalue=0.0)\n",
      "\n",
      "Big Mario F_onewayResult(statistic=743.9356100904706, pvalue=4.653113079273886e-263)\n",
      "\n",
      "Fire Mario F_onewayResult(statistic=1217.6888627274625, pvalue=0.0)\n"
     ]
    }
   ],
   "source": [
    "### It is f_oneway and not kruskal as we foucs on the means \n",
    "## and not the medians as they have different shape of distribution.\n",
    "from scipy.stats import f_oneway\n",
    "\n",
    "sergey = produceData(pd.read_csv(\"output/full_runs/ge/20/sergeyPolikarpov.csv\"))\n",
    "#robinL = produceData(pd.read_csv(\"output/full_runs/ge/240/robinBaumgarten.csv\"))\n",
    "#sergeyK = produceData(pd.read_csv(\"output/full_runs/ge/240/sergeyKarakovskiy.csv\"))\n",
    "robin = produceData(pd.read_csv(\"output/full_runs/ge/20/robinBaumgarten.csv\"))\n",
    "andy = produceData(pd.read_csv(\"output/full_runs/ge/20/andySloane.csv\"))\n",
    "\n",
    "\n",
    "#print(robin[0])\n",
    "result_1 = f_oneway(robin[0].to_numpy(), andy[0].to_numpy(), sergey[0].to_numpy())\n",
    "result_2 = f_oneway(robin[1].to_numpy(), andy[1].to_numpy(), sergey[1].to_numpy())\n",
    "result_3 = f_oneway(robin[2].to_numpy(), andy[2].to_numpy(), sergey[2].to_numpy())\n",
    "print(\"Small Mario\", result_1)\n",
    "print()\n",
    "print(\"Big Mario\", result_2)\n",
    "print()\n",
    "print(\"Fire Mario\", result_3)"
   ]
  },
  {
   "cell_type": "code",
   "execution_count": null,
   "id": "275d2d33",
   "metadata": {},
   "outputs": [],
   "source": []
  },
  {
   "cell_type": "code",
   "execution_count": 63,
   "id": "e456b835",
   "metadata": {},
   "outputs": [
    {
     "name": "stdout",
     "output_type": "stream",
     "text": [
      "The groups of Small Mario have significantly different means.\n",
      "The groups of Big Mario have significantly different means.\n",
      "The groups of Fire Mario have significantly different means.\n"
     ]
    }
   ],
   "source": [
    "from statsmodels.sandbox.stats.multicomp import multipletests\n",
    "f_statistic_1, p_value_1 = f_oneway(robin[0].to_numpy(), andy[0].to_numpy(), sergey[0].to_numpy())\n",
    "f_statistic_2, p_value_2 = f_oneway(robin[1].to_numpy(), andy[1].to_numpy(), sergey[1].to_numpy())\n",
    "f_statistic_3, p_value_3 = f_oneway(robin[2].to_numpy(), andy[2].to_numpy(), sergey[2].to_numpy())\n",
    "\n",
    "## apply Bonferroni correction\n",
    "alpha = 0.05\n",
    "num_tests = 1\n",
    "alpha_corrected = alpha/3\n",
    "\n",
    "p_list = []\n",
    "p_list.append(p_value_1)\n",
    "p_list.append(p_value_2)\n",
    "p_list.append(p_value_3)\n",
    "\n",
    "state_list = [\"Small\", \"Big\", \"Fire\"]\n",
    "for p_value, state in zip(p_list, state_list):\n",
    "    if p_value < alpha_corrected:\n",
    "        print(\"The groups of {} Mario have significantly different means.\".format(state))\n",
    "    else:\n",
    "        print(\"The groups of {} Mario do not have significantly different means.\".format(state))\n",
    "                "
   ]
  },
  {
   "cell_type": "code",
   "execution_count": 64,
   "id": "eef714c2",
   "metadata": {},
   "outputs": [
    {
     "data": {
      "text/plain": [
       "0.016666666666666666"
      ]
     },
     "execution_count": 64,
     "metadata": {},
     "output_type": "execute_result"
    }
   ],
   "source": [
    "0.05/3"
   ]
  },
  {
   "cell_type": "code",
   "execution_count": null,
   "id": "b2472f6e",
   "metadata": {},
   "outputs": [],
   "source": []
  },
  {
   "cell_type": "code",
   "execution_count": null,
   "id": "6ab2ca17",
   "metadata": {},
   "outputs": [],
   "source": []
  },
  {
   "cell_type": "code",
   "execution_count": null,
   "id": "45964930",
   "metadata": {},
   "outputs": [],
   "source": [
    "\n",
    "\n"
   ]
  },
  {
   "cell_type": "code",
   "execution_count": null,
   "id": "723b1939",
   "metadata": {},
   "outputs": [],
   "source": []
  },
  {
   "cell_type": "code",
<<<<<<< HEAD
   "execution_count": 69,
   "id": "8cbdde36",
=======
   "execution_count": 76,
   "id": "135990fd",
>>>>>>> 227e7dd2e4be327327ac89cf3bf43c0942002cbb
   "metadata": {},
   "outputs": [
    {
     "name": "stdout",
     "output_type": "stream",
     "text": [
      "Sergey  {'Small': 9, 'Big': 31, 'Fire': 48}\n",
      "Robin  {'Small': 607, 'Big': 625, 'Fire': 799}\n",
      "Andy  {'Small': 157, 'Big': 226, 'Fire': 238}\n",
      "\n",
      "\n",
      "Sergey_2  {'Small': 0, 'Big': 0, 'Fire': 0}\n",
      "Robin_2  {'Small': 703, 'Big': 710, 'Fire': 711}\n",
      "Andy_2  {'Small': 11, 'Big': 13, 'Fire': 13}\n"
     ]
    }
   ],
   "source": [
    "def produceData(df_ge):\n",
    "    df_small = df_ge[df_ge[\"Mario Type\"] == 0]\n",
    "    df_big = df_ge[df_ge[\"Mario Type\"] == 1]\n",
    "    df_fire = df_ge[df_ge[\"Mario Type\"] == 2]\n",
    "    data = [df_small[\"Progress\"], df_big[\"Progress\"], df_fire[\"Progress\"]]\n",
    "    return data\n",
    "\n",
    "sergey = produceData(pd.read_csv(\"output/full_runs/ge/20/sergeyPolikarpov.csv\")) \n",
    "robin = produceData(pd.read_csv(\"output/full_runs/ge/20/robinBaumgarten.csv\"))\n",
    "andy = produceData(pd.read_csv(\"output/full_runs/ge/20/andySloane.csv\"))\n",
    "\n",
    "def full_progressed(df): \n",
    "    full_progressed_dict = {}\n",
    "\n",
    "    state_count = 0\n",
    "    for state in df: \n",
    "        state_count += 1\n",
    "\n",
    "        if state_count == 1:\n",
    "            progress_count = 0\n",
    "            for progress in state:\n",
    "               # print(progress)\n",
    "                if progress == 1.0:\n",
    "                    #print(progress)\n",
    "                    progress_count+=1 \n",
    "            full_progressed_dict[\"Small\"] = progress_count\n",
    "        if state_count == 2:\n",
    "            progress_count = 0\n",
    "            for progress in state: \n",
    "                if progress == 1.0:\n",
    "                    progress_count+=1 \n",
    "            full_progressed_dict[\"Big\"] = progress_count\n",
    "\n",
    "        if state_count == 3:\n",
    "            progress_count = 0\n",
    "            for progress in state: \n",
    "                if progress == 1.0:\n",
    "                    progress_count+=1 \n",
    "            full_progressed_dict[\"Fire\"] = progress_count\n",
    "\n",
    "\n",
    "\n",
    "    return full_progressed_dict\n",
    "\n",
    "print(\"Sergey \", full_progressed(sergey))\n",
    "print(\"Robin \", full_progressed(robin))\n",
    "print(\"Andy \", full_progressed(andy))\n",
    "print(\"\\n\")\n",
    "print(\"Sergey_2 \", full_progressed(sergey_2))\n",
    "print(\"Robin_2 \", full_progressed(robin_2))\n",
    "print(\"Andy_2 \", full_progressed(andy_2))\n",
    "#def full_progressed(df):\n"
   ]
  },
  {
   "cell_type": "code",
<<<<<<< HEAD
   "execution_count": 70,
   "id": "32d2f200",
=======
   "execution_count": 26,
   "id": "5b07cf17",
>>>>>>> 227e7dd2e4be327327ac89cf3bf43c0942002cbb
   "metadata": {},
   "outputs": [
    {
     "name": "stdout",
     "output_type": "stream",
     "text": [
      "       Robin  Sergey  Andy\n",
      "Small    607       9   157\n",
      "Big      625      31   226\n",
      "Fire     799      48   238\n"
     ]
    }
   ],
   "source": [
    "#list(full_progressed(sergey).keys())\n",
    "\n",
    "fp_df_sergey = pd.DataFrame.from_dict(full_progressed(sergey), orient='index')\n",
    "fp_df_robin = pd.DataFrame.from_dict(full_progressed(robin), orient='index')\n",
    "fp_df_andy = pd.DataFrame.from_dict(full_progressed(andy), orient='index')\n",
    "\n",
    "fp_df_sergey.columns = ['Sergey']\n",
    "fp_df_robin.columns = ['Robin']\n",
    "fp_df_andy.columns = ['Andy']\n",
    "\n",
    "extracted_robin = fp_df_robin['Robin']\n",
    "extracted_andy = fp_df_andy['Andy']\n",
    "extracted_sergey = fp_df_sergey['Sergey']\n",
    "\n",
    "\n",
    "#print(\"column to added from first dataframe to second:\")\n",
    "#display(extracted_col)\n",
    "  \n",
    "\n",
    "fp_df_robin = fp_df_robin.join(extracted_sergey)\n",
    "fp_df_robin = fp_df_robin.join(extracted_andy)\n",
    "\n",
    "\n",
    "print(fp_df_robin)"
   ]
  },
  {
   "cell_type": "code",
<<<<<<< HEAD
   "execution_count": 71,
   "id": "3db51e27",
=======
   "execution_count": 62,
   "id": "70df5ae5",
   "metadata": {},
   "outputs": [
    {
     "name": "stdout",
     "output_type": "stream",
     "text": [
      "       Robin  Sergey  Andy\n",
      "Small    703       0    11\n",
      "Big      710       0    13\n",
      "Fire     711       0    13\n",
      "161 100\n",
      "148 92\n",
      "\n",
      "\n",
      "2611 1866\n",
      "592.1003205898993 1587.5782562769978\n",
      "\n",
      "\n",
      "2271 2031\n",
      "2771.9237699770038 2610.6736665260005\n"
     ]
    }
   ],
   "source": [
    "sergey_2 = produceData(pd.read_csv(\"output/full_runs/patternOccur/20/sergeyPolikarpov_new.csv\")) \n",
    "robin_2 = produceData(pd.read_csv(\"output/full_runs/patternOccur/20/robinBaumgarten_new.csv\"))\n",
    "andy_2 = produceData(pd.read_csv(\"output/full_runs/patternOccur/20/andySloane_new.csv\"))\n",
    "\n",
    "fp_df_sergey_2 = pd.DataFrame.from_dict(full_progressed(sergey_2), orient='index')\n",
    "fp_df_robin_2 = pd.DataFrame.from_dict(full_progressed(robin_2), orient='index')\n",
    "fp_df_andy_2 = pd.DataFrame.from_dict(full_progressed(andy_2), orient='index')\n",
    "\n",
    "\n",
    "\n",
    "fp_df_sergey_2.columns = ['Sergey']\n",
    "fp_df_robin_2.columns = ['Robin']\n",
    "fp_df_andy_2.columns = ['Andy']\n",
    "\n",
    "extracted_robin_2 = fp_df_robin_2['Robin']\n",
    "extracted_andy_2 = fp_df_andy_2['Andy']\n",
    "extracted_sergey_2 = fp_df_sergey_2['Sergey']\n",
    "\n",
    "fp_df_robin_2 = fp_df_robin_2.join(extracted_sergey_2)\n",
    "fp_df_robin_2 = fp_df_robin_2.join(extracted_andy_2)\n",
    "\n",
    "print(fp_df_robin_2)\n",
    "\n",
    "\n",
    "print(sum(pd.read_csv(\"output/full_runs/patternOccur/20/sergeyPolikarpov_new.csv\")[\"Mario Alive\"]), sum(pd.read_csv(\"output/full_runs/ge/20/sergeyPolikarpov.csv\")[\"Mario Alive\"]))\n",
    "print(sum(pd.read_csv(\"output/full_runs/patternOccur/60/sergeyPolikarpov_new.csv\")[\"Mario Alive\"]), sum(pd.read_csv(\"output/full_runs/ge/60/sergeyPolikarpov.csv\")[\"Mario Alive\"]))\n",
    "print(\"\\n\")\n",
    "print(sum(pd.read_csv(\"output/full_runs/patternOccur/20/andySloane_new.csv\")[\"Mario Alive\"]), sum(pd.read_csv(\"output/full_runs/ge/20/andySloane.csv\")[\"Mario Alive\"]))\n",
    "print(sum(pd.read_csv(\"output/full_runs/patternOccur/20/andySloane_new.csv\")[\"Progress\"]), sum(pd.read_csv(\"output/full_runs/ge/20/andySloane.csv\")[\"Progress\"]))\n",
    "print(\"\\n\")\n",
    "print(sum(pd.read_csv(\"output/full_runs/patternOccur/20/robinBaumgarten_new.csv\")[\"Mario Alive\"]), sum(pd.read_csv(\"output/full_runs/ge/20/robinBaumgarten.csv\")[\"Mario Alive\"]))\n",
    "print(sum(pd.read_csv(\"output/full_runs/patternOccur/20/robinBaumgarten_new.csv\")[\"Progress\"]), sum(pd.read_csv(\"output/full_runs/ge/20/robinBaumgarten.csv\")[\"Progress\"]))\n"
   ]
  },
  {
   "cell_type": "code",
   "execution_count": 24,
   "id": "16585e26",
   "metadata": {},
   "outputs": [
    {
     "name": "stdout",
     "output_type": "stream",
     "text": [
      "       Robin_2\n",
      "Small      703\n",
      "Big        710\n",
      "Fire       711\n"
     ]
    }
   ],
   "source": [
    "print(fp_df_robin_2)"
   ]
  },
  {
   "cell_type": "code",
   "execution_count": 45,
   "id": "d982e1ff",
>>>>>>> 227e7dd2e4be327327ac89cf3bf43c0942002cbb
   "metadata": {},
   "outputs": [
    {
     "name": "stdout",
     "output_type": "stream",
     "text": [
      "\n",
      "    GE - Completed Levels out of 1000\n",
      "╒═══════╤═════════╤══════════╤════════╕\n",
      "│       │   Robin │   Sergey │   Andy │\n",
      "╞═══════╪═════════╪══════════╪════════╡\n",
      "│ Small │     607 │        9 │    157 │\n",
      "├───────┼─────────┼──────────┼────────┤\n",
      "│ Big   │     625 │       31 │    226 │\n",
      "├───────┼─────────┼──────────┼────────┤\n",
      "│ Fire  │     799 │       48 │    238 │\n",
      "╘═══════╧═════════╧══════════╧════════╛\n",
      "\n",
      "   PBO - Completed Levels out of 1000\n",
      "╒═══════╤═════════╤══════════╤════════╕\n",
      "│       │   Robin │   Sergey │   Andy │\n",
      "╞═══════╪═════════╪══════════╪════════╡\n",
      "│ Small │     703 │        0 │     11 │\n",
      "├───────┼─────────┼──────────┼────────┤\n",
      "│ Big   │     710 │        0 │     13 │\n",
      "├───────┼─────────┼──────────┼────────┤\n",
      "│ Fire  │     711 │        0 │     13 │\n",
      "╘═══════╧═════════╧══════════╧════════╛\n",
      "5.333333333333333 1.5483870967741935\n",
      "1.316309719934102 1.2784\n",
      "1.515923566878981 1.0530973451327434\n"
     ]
    }
   ],
   "source": [
    "#define header names\n",
    "from tabulate import tabulate\n",
    "col_names = list(fp_df_robin.columns) #[\"Name\", \"Time Limit\", \"Levels Complete\", \"Time Left\", \"Progress\", \"Kills\"]\n",
    "  \n",
    "#display table\n",
    "#plt.title(\"Robin Baumgarth\")\n",
    "#table.title = 'Robin Baumgarthners A*'\n",
    "print()\n",
    "print(\"    GE - Completed Levels out of 1000\")\n",
    "print(tabulate(fp_df_robin, headers=col_names, tablefmt=\"fancy_grid\"))\n",
    "\n",
    "col_names_2 = list(fp_df_robin_2.columns) #[\"Name\", \"Time Limit\", \"Levels Complete\", \"Time Left\", \"Progress\", \"Kills\"]\n",
    "  \n",
    "#display table\n",
    "#plt.title(\"Robin Baumgarth\")\n",
    "#table.title = 'Robin Baumgarthners A*'\n",
    "print()\n",
    "print(\"   PBO - Completed Levels out of 1000\")\n",
    "print(tabulate(fp_df_robin_2, headers=col_names_2, tablefmt=\"fancy_grid\"))\n",
    "\n",
    "print(48/9, 48/31)\n",
    "print(799/607, 799/625)\n",
    "print(238/157, 238/226)"
   ]
  },
  {
   "cell_type": "code",
   "execution_count": 84,
   "id": "a27b8b40",
   "metadata": {},
   "outputs": [
    {
     "name": "stdout",
     "output_type": "stream",
     "text": [
      "Sergey  56\n",
      "Robin  799\n",
      "Andy  707\n",
      "\n",
      "\n",
      "Sergey_2  48\n",
      "Robin_2  759\n",
      "Andy_2  875\n"
     ]
    },
    {
     "data": {
      "text/plain": [
       "[0       False\n",
       " 3       False\n",
       " 6       False\n",
       " 9       False\n",
       " 12      False\n",
       "         ...  \n",
       " 2985    False\n",
       " 2988    False\n",
       " 2991    False\n",
       " 2994    False\n",
       " 2997    False\n",
       " Name: Mario Alive, Length: 1000, dtype: bool,\n",
       " 1       False\n",
       " 4       False\n",
       " 7       False\n",
       " 10      False\n",
       " 13      False\n",
       "         ...  \n",
       " 2986    False\n",
       " 2989    False\n",
       " 2992    False\n",
       " 2995    False\n",
       " 2998    False\n",
       " Name: Mario Alive, Length: 1000, dtype: bool,\n",
       " 2       False\n",
       " 5       False\n",
       " 8       False\n",
       " 11      False\n",
       " 14      False\n",
       "         ...  \n",
       " 2987    False\n",
       " 2990    False\n",
       " 2993    False\n",
       " 2996    False\n",
       " 2999    False\n",
       " Name: Mario Alive, Length: 1000, dtype: bool]"
      ]
     },
     "execution_count": 84,
     "metadata": {},
     "output_type": "execute_result"
    }
   ],
   "source": [
    "def produceData_alive(df_ge):\n",
    "    df_small = df_ge[df_ge[\"Mario Type\"] == 0]\n",
    "    df_big = df_ge[df_ge[\"Mario Type\"] == 1]\n",
    "    df_fire = df_ge[df_ge[\"Mario Type\"] == 2]  \n",
    "    data = [df_small[\"Mario Alive\"], df_big[\"Mario Alive\"], df_fire[\"Mario Alive\"]]\n",
    "    return data\n",
    "\n",
    "\n",
    "sergey = produceData_alive(pd.read_csv(\"output/full_runs/ge/20/sergeyPolikarpov.csv\")) \n",
    "robin = produceData_alive(pd.read_csv(\"output/full_runs/ge/20/robinBaumgarten.csv\"))\n",
    "andy = produceData_alive(pd.read_csv(\"output/full_runs/ge/20/andySloane.csv\"))\n",
    "\n",
    "sergey_2 = produceData_alive(pd.read_csv(\"output/full_runs/patternOccur/20/sergeyPolikarpov_new.csv\")) \n",
    "robin_2 = produceData_alive(pd.read_csv(\"output/full_runs/patternOccur/20/robinBaumgarten_new.csv\"))\n",
    "andy_2 = produceData_alive(pd.read_csv(\"output/full_runs/patternOccur/20/andySloane_new.csv\"))\n",
    "\n",
    "\n",
    "def alive_count(df): \n",
    "    alive_dict = {}\n",
    "\n",
    "    state_count = 0\n",
    "    for state in df: \n",
    "        state_count += 1\n",
    "        if state_count == 1:\n",
    "            alive_count = 0\n",
    "            for alive in state:\n",
    "                if alive == True:\n",
    "                    alive_count+=1 \n",
    "            alive_dict[\"Small\"] = alive_count\n",
    "        if state_count == 2:\n",
    "            alive_count = 0\n",
    "            for alive in state: \n",
    "                if alive == True:\n",
    "                    alive_count+=1 \n",
    "            alive_dict[\"Big\"] = alive_count\n",
    "\n",
    "        if state_count == 3:\n",
    "            alive_count = 0\n",
    "            for alive in state: \n",
    "                if alive == True:\n",
    "                    alive_count+=1 \n",
    "            alive_dict[\"Fire\"] = alive_count\n",
    "\n",
    "\n",
    "\n",
    "    return alive_count\n",
    "\n",
    "print(\"Sergey \", alive_count(sergey))\n",
    "print(\"Robin \", alive_count(robin))\n",
    "print(\"Andy \", alive_count(andy))\n",
    "print(\"\\n\")\n",
    "print(\"Sergey_2 \", alive_count(sergey_2))\n",
    "print(\"Robin_2 \", alive_count(robin_2))\n",
    "print(\"Andy_2 \", alive_count(andy_2))\n",
    "\n",
    "produceData_alive(pd.read_csv(\"output/full_runs/ge/20/sergeyPolikarpov.csv\"))"
   ]
  },
  {
   "cell_type": "code",
<<<<<<< HEAD
   "execution_count": 72,
   "id": "4a1261be",
=======
   "execution_count": null,
   "id": "01b9d16a",
   "metadata": {},
   "outputs": [],
   "source": []
  },
  {
   "cell_type": "code",
   "execution_count": null,
   "id": "3e4f0bc6",
>>>>>>> 227e7dd2e4be327327ac89cf3bf43c0942002cbb
   "metadata": {},
   "outputs": [
    {
     "name": "stdout",
     "output_type": "stream",
     "text": [
      "Sergeys Kills: 337\n",
      "Robins Kills: 780\n",
      "Andys Kills: 954\n"
     ]
    }
   ],
   "source": [
    "### Amount of killed enemies \n",
    "#print(robin[-1])\n",
    "\n",
    "sergey = pd.read_csv(\"output/full_runs/ge/20/sergeyPolikarpov.csv\")\n",
    "#robinL = produceData(pd.read_csv(\"output/full_runs/ge/240/robinBaumgarten.csv\"))\n",
    "#sergeyK = produceData(pd.read_csv(\"output/full_runs/ge/240/sergeyKarakovskiy.csv\"))\n",
    "robin = pd.read_csv(\"output/full_runs/ge/20/robinBaumgarten.csv\")\n",
    "andy = pd.read_csv(\"output/full_runs/ge/20/andySloane.csv\")\n",
    "\n",
    "def kill_counter(df):\n",
    "    sg_t_k = df[[\"Mario Type\",\"Kills\"]]\n",
    "    fire_sergey = sg_t_k[sg_t_k[\"Mario Type\"] == 2]\n",
    "    kill_count = 0\n",
    "    for i in fire_sergey[\"Kills\"]: \n",
    "        kill_count+=i\n",
    "    \n",
    "    return kill_count\n",
    "\n",
    "print(\"Sergeys Kills:\", kill_counter(sergey))\n",
    "print(\"Robins Kills:\", kill_counter(robin))\n",
    "print(\"Andys Kills:\", kill_counter(andy))"
   ]
  },
  {
   "cell_type": "code",
   "execution_count": 73,
   "id": "83d4fa56",
   "metadata": {},
   "outputs": [
    {
     "ename": "TypeError",
     "evalue": "Neither the `x` nor `y` variable appears to be numeric.",
     "output_type": "error",
     "traceback": [
      "\u001b[1;31m---------------------------------------------------------------------------\u001b[0m",
      "\u001b[1;31mTypeError\u001b[0m                                 Traceback (most recent call last)",
      "Input \u001b[1;32mIn [73]\u001b[0m, in \u001b[0;36m<cell line: 25>\u001b[1;34m()\u001b[0m\n\u001b[0;32m     20\u001b[0m robin \u001b[38;5;241m=\u001b[39m produceData(pd\u001b[38;5;241m.\u001b[39mread_csv(\u001b[38;5;124m\"\u001b[39m\u001b[38;5;124moutput/full_runs/ge/20/robinBaumgarten.csv\u001b[39m\u001b[38;5;124m\"\u001b[39m))\n\u001b[0;32m     21\u001b[0m \u001b[38;5;66;03m# print the data\u001b[39;00m\n\u001b[0;32m     22\u001b[0m \u001b[38;5;66;03m# use melt to convert wide form to long form data\u001b[39;00m\n\u001b[0;32m     23\u001b[0m \u001b[38;5;66;03m# use seaborn plot and specify the x and y columns\u001b[39;00m\n\u001b[0;32m     24\u001b[0m \u001b[38;5;66;03m# and specify the dataframe\u001b[39;00m\n\u001b[1;32m---> 25\u001b[0m \u001b[43msns\u001b[49m\u001b[38;5;241;43m.\u001b[39;49m\u001b[43mboxplot\u001b[49m\u001b[43m(\u001b[49m\u001b[43mx\u001b[49m\u001b[38;5;241;43m=\u001b[39;49m\u001b[38;5;124;43m'\u001b[39;49m\u001b[38;5;124;43mvariable\u001b[39;49m\u001b[38;5;124;43m'\u001b[39;49m\u001b[43m,\u001b[49m\u001b[43m \u001b[49m\u001b[43my\u001b[49m\u001b[38;5;241;43m=\u001b[39;49m\u001b[38;5;124;43m'\u001b[39;49m\u001b[38;5;124;43mvalue\u001b[39;49m\u001b[38;5;124;43m'\u001b[39;49m\u001b[43m,\u001b[49m\u001b[43m \u001b[49m\u001b[43mdata\u001b[49m\u001b[38;5;241;43m=\u001b[39;49m\u001b[43mpd\u001b[49m\u001b[38;5;241;43m.\u001b[39;49m\u001b[43mmelt\u001b[49m\u001b[43m(\u001b[49m\u001b[43mdf\u001b[49m\u001b[43m)\u001b[49m\u001b[43m)\u001b[49m\u001b[38;5;241m.\u001b[39mset(\n\u001b[0;32m     26\u001b[0m     xlabel\u001b[38;5;241m=\u001b[39m\u001b[38;5;124m'\u001b[39m\u001b[38;5;124mMario Type\u001b[39m\u001b[38;5;124m'\u001b[39m,\n\u001b[0;32m     27\u001b[0m     ylabel\u001b[38;5;241m=\u001b[39m\u001b[38;5;124m'\u001b[39m\u001b[38;5;124mProgress\u001b[39m\u001b[38;5;124m'\u001b[39m)\n\u001b[0;32m     30\u001b[0m plt\u001b[38;5;241m.\u001b[39mshow()\n",
      "File \u001b[1;32m~\\anaconda3\\lib\\site-packages\\seaborn\\_decorators.py:46\u001b[0m, in \u001b[0;36m_deprecate_positional_args.<locals>.inner_f\u001b[1;34m(*args, **kwargs)\u001b[0m\n\u001b[0;32m     36\u001b[0m     warnings\u001b[38;5;241m.\u001b[39mwarn(\n\u001b[0;32m     37\u001b[0m         \u001b[38;5;124m\"\u001b[39m\u001b[38;5;124mPass the following variable\u001b[39m\u001b[38;5;132;01m{}\u001b[39;00m\u001b[38;5;124m as \u001b[39m\u001b[38;5;132;01m{}\u001b[39;00m\u001b[38;5;124mkeyword arg\u001b[39m\u001b[38;5;132;01m{}\u001b[39;00m\u001b[38;5;124m: \u001b[39m\u001b[38;5;132;01m{}\u001b[39;00m\u001b[38;5;124m. \u001b[39m\u001b[38;5;124m\"\u001b[39m\n\u001b[0;32m     38\u001b[0m         \u001b[38;5;124m\"\u001b[39m\u001b[38;5;124mFrom version 0.12, the only valid positional argument \u001b[39m\u001b[38;5;124m\"\u001b[39m\n\u001b[1;32m   (...)\u001b[0m\n\u001b[0;32m     43\u001b[0m         \u001b[38;5;167;01mFutureWarning\u001b[39;00m\n\u001b[0;32m     44\u001b[0m     )\n\u001b[0;32m     45\u001b[0m kwargs\u001b[38;5;241m.\u001b[39mupdate({k: arg \u001b[38;5;28;01mfor\u001b[39;00m k, arg \u001b[38;5;129;01min\u001b[39;00m \u001b[38;5;28mzip\u001b[39m(sig\u001b[38;5;241m.\u001b[39mparameters, args)})\n\u001b[1;32m---> 46\u001b[0m \u001b[38;5;28;01mreturn\u001b[39;00m f(\u001b[38;5;241m*\u001b[39m\u001b[38;5;241m*\u001b[39mkwargs)\n",
      "File \u001b[1;32m~\\anaconda3\\lib\\site-packages\\seaborn\\categorical.py:2243\u001b[0m, in \u001b[0;36mboxplot\u001b[1;34m(x, y, hue, data, order, hue_order, orient, color, palette, saturation, width, dodge, fliersize, linewidth, whis, ax, **kwargs)\u001b[0m\n\u001b[0;32m   2231\u001b[0m \u001b[38;5;129m@_deprecate_positional_args\u001b[39m\n\u001b[0;32m   2232\u001b[0m \u001b[38;5;28;01mdef\u001b[39;00m \u001b[38;5;21mboxplot\u001b[39m(\n\u001b[0;32m   2233\u001b[0m     \u001b[38;5;241m*\u001b[39m,\n\u001b[1;32m   (...)\u001b[0m\n\u001b[0;32m   2240\u001b[0m     \u001b[38;5;241m*\u001b[39m\u001b[38;5;241m*\u001b[39mkwargs\n\u001b[0;32m   2241\u001b[0m ):\n\u001b[1;32m-> 2243\u001b[0m     plotter \u001b[38;5;241m=\u001b[39m \u001b[43m_BoxPlotter\u001b[49m\u001b[43m(\u001b[49m\u001b[43mx\u001b[49m\u001b[43m,\u001b[49m\u001b[43m \u001b[49m\u001b[43my\u001b[49m\u001b[43m,\u001b[49m\u001b[43m \u001b[49m\u001b[43mhue\u001b[49m\u001b[43m,\u001b[49m\u001b[43m \u001b[49m\u001b[43mdata\u001b[49m\u001b[43m,\u001b[49m\u001b[43m \u001b[49m\u001b[43morder\u001b[49m\u001b[43m,\u001b[49m\u001b[43m \u001b[49m\u001b[43mhue_order\u001b[49m\u001b[43m,\u001b[49m\n\u001b[0;32m   2244\u001b[0m \u001b[43m                          \u001b[49m\u001b[43morient\u001b[49m\u001b[43m,\u001b[49m\u001b[43m \u001b[49m\u001b[43mcolor\u001b[49m\u001b[43m,\u001b[49m\u001b[43m \u001b[49m\u001b[43mpalette\u001b[49m\u001b[43m,\u001b[49m\u001b[43m \u001b[49m\u001b[43msaturation\u001b[49m\u001b[43m,\u001b[49m\n\u001b[0;32m   2245\u001b[0m \u001b[43m                          \u001b[49m\u001b[43mwidth\u001b[49m\u001b[43m,\u001b[49m\u001b[43m \u001b[49m\u001b[43mdodge\u001b[49m\u001b[43m,\u001b[49m\u001b[43m \u001b[49m\u001b[43mfliersize\u001b[49m\u001b[43m,\u001b[49m\u001b[43m \u001b[49m\u001b[43mlinewidth\u001b[49m\u001b[43m)\u001b[49m\n\u001b[0;32m   2247\u001b[0m     \u001b[38;5;28;01mif\u001b[39;00m ax \u001b[38;5;129;01mis\u001b[39;00m \u001b[38;5;28;01mNone\u001b[39;00m:\n\u001b[0;32m   2248\u001b[0m         ax \u001b[38;5;241m=\u001b[39m plt\u001b[38;5;241m.\u001b[39mgca()\n",
      "File \u001b[1;32m~\\anaconda3\\lib\\site-packages\\seaborn\\categorical.py:406\u001b[0m, in \u001b[0;36m_BoxPlotter.__init__\u001b[1;34m(self, x, y, hue, data, order, hue_order, orient, color, palette, saturation, width, dodge, fliersize, linewidth)\u001b[0m\n\u001b[0;32m    402\u001b[0m \u001b[38;5;28;01mdef\u001b[39;00m \u001b[38;5;21m__init__\u001b[39m(\u001b[38;5;28mself\u001b[39m, x, y, hue, data, order, hue_order,\n\u001b[0;32m    403\u001b[0m              orient, color, palette, saturation,\n\u001b[0;32m    404\u001b[0m              width, dodge, fliersize, linewidth):\n\u001b[1;32m--> 406\u001b[0m     \u001b[38;5;28;43mself\u001b[39;49m\u001b[38;5;241;43m.\u001b[39;49m\u001b[43mestablish_variables\u001b[49m\u001b[43m(\u001b[49m\u001b[43mx\u001b[49m\u001b[43m,\u001b[49m\u001b[43m \u001b[49m\u001b[43my\u001b[49m\u001b[43m,\u001b[49m\u001b[43m \u001b[49m\u001b[43mhue\u001b[49m\u001b[43m,\u001b[49m\u001b[43m \u001b[49m\u001b[43mdata\u001b[49m\u001b[43m,\u001b[49m\u001b[43m \u001b[49m\u001b[43morient\u001b[49m\u001b[43m,\u001b[49m\u001b[43m \u001b[49m\u001b[43morder\u001b[49m\u001b[43m,\u001b[49m\u001b[43m \u001b[49m\u001b[43mhue_order\u001b[49m\u001b[43m)\u001b[49m\n\u001b[0;32m    407\u001b[0m     \u001b[38;5;28mself\u001b[39m\u001b[38;5;241m.\u001b[39mestablish_colors(color, palette, saturation)\n\u001b[0;32m    409\u001b[0m     \u001b[38;5;28mself\u001b[39m\u001b[38;5;241m.\u001b[39mdodge \u001b[38;5;241m=\u001b[39m dodge\n",
      "File \u001b[1;32m~\\anaconda3\\lib\\site-packages\\seaborn\\categorical.py:156\u001b[0m, in \u001b[0;36m_CategoricalPlotter.establish_variables\u001b[1;34m(self, x, y, hue, data, orient, order, hue_order, units)\u001b[0m\n\u001b[0;32m    153\u001b[0m         \u001b[38;5;28;01mraise\u001b[39;00m \u001b[38;5;167;01mValueError\u001b[39;00m(err)\n\u001b[0;32m    155\u001b[0m \u001b[38;5;66;03m# Figure out the plotting orientation\u001b[39;00m\n\u001b[1;32m--> 156\u001b[0m orient \u001b[38;5;241m=\u001b[39m \u001b[43minfer_orient\u001b[49m\u001b[43m(\u001b[49m\n\u001b[0;32m    157\u001b[0m \u001b[43m    \u001b[49m\u001b[43mx\u001b[49m\u001b[43m,\u001b[49m\u001b[43m \u001b[49m\u001b[43my\u001b[49m\u001b[43m,\u001b[49m\u001b[43m \u001b[49m\u001b[43morient\u001b[49m\u001b[43m,\u001b[49m\u001b[43m \u001b[49m\u001b[43mrequire_numeric\u001b[49m\u001b[38;5;241;43m=\u001b[39;49m\u001b[38;5;28;43mself\u001b[39;49m\u001b[38;5;241;43m.\u001b[39;49m\u001b[43mrequire_numeric\u001b[49m\n\u001b[0;32m    158\u001b[0m \u001b[43m\u001b[49m\u001b[43m)\u001b[49m\n\u001b[0;32m    160\u001b[0m \u001b[38;5;66;03m# Option 2a:\u001b[39;00m\n\u001b[0;32m    161\u001b[0m \u001b[38;5;66;03m# We are plotting a single set of data\u001b[39;00m\n\u001b[0;32m    162\u001b[0m \u001b[38;5;66;03m# ------------------------------------\u001b[39;00m\n\u001b[0;32m    163\u001b[0m \u001b[38;5;28;01mif\u001b[39;00m x \u001b[38;5;129;01mis\u001b[39;00m \u001b[38;5;28;01mNone\u001b[39;00m \u001b[38;5;129;01mor\u001b[39;00m y \u001b[38;5;129;01mis\u001b[39;00m \u001b[38;5;28;01mNone\u001b[39;00m:\n\u001b[0;32m    164\u001b[0m \n\u001b[0;32m    165\u001b[0m     \u001b[38;5;66;03m# Determine where the data are\u001b[39;00m\n",
      "File \u001b[1;32m~\\anaconda3\\lib\\site-packages\\seaborn\\_core.py:1352\u001b[0m, in \u001b[0;36minfer_orient\u001b[1;34m(x, y, orient, require_numeric)\u001b[0m\n\u001b[0;32m   1350\u001b[0m \u001b[38;5;28;01melif\u001b[39;00m require_numeric \u001b[38;5;129;01mand\u001b[39;00m \u001b[38;5;124m\"\u001b[39m\u001b[38;5;124mnumeric\u001b[39m\u001b[38;5;124m\"\u001b[39m \u001b[38;5;129;01mnot\u001b[39;00m \u001b[38;5;129;01min\u001b[39;00m (x_type, y_type):\n\u001b[0;32m   1351\u001b[0m     err \u001b[38;5;241m=\u001b[39m \u001b[38;5;124m\"\u001b[39m\u001b[38;5;124mNeither the `x` nor `y` variable appears to be numeric.\u001b[39m\u001b[38;5;124m\"\u001b[39m\n\u001b[1;32m-> 1352\u001b[0m     \u001b[38;5;28;01mraise\u001b[39;00m \u001b[38;5;167;01mTypeError\u001b[39;00m(err)\n\u001b[0;32m   1354\u001b[0m \u001b[38;5;28;01melse\u001b[39;00m:\n\u001b[0;32m   1355\u001b[0m     \u001b[38;5;28;01mreturn\u001b[39;00m \u001b[38;5;124m\"\u001b[39m\u001b[38;5;124mv\u001b[39m\u001b[38;5;124m\"\u001b[39m\n",
      "\u001b[1;31mTypeError\u001b[0m: Neither the `x` nor `y` variable appears to be numeric."
     ]
    }
   ],
   "source": [
    "# import the matplotlib package\n",
    "import matplotlib.pyplot as plt\n",
    "import pandas as pd\n",
    "import numpy as np\n",
    "import seaborn as sns\n",
    " \n",
    "# import the numpy package\n",
    "import numpy as np\n",
    "\n",
    "# create 2 - sample a 3-Dim array, that measures\n",
    "# the summer and winter rain fall amount\n",
    "def produceData(df_ge):\n",
    "    df_small = df_ge[df_ge[\"Mario Type\"] == 0]\n",
    "    df_big = df_ge[df_ge[\"Mario Type\"] == 1]\n",
    "    df_fire = df_ge[df_ge[\"Mario Type\"] == 2]\n",
    "    data = [df_small[\"Progress\"], df_big[\"Progress\"], df_fire[\"Progress\"]]\n",
    "    return data\n",
    "\n",
    "sergey = produceData(pd.read_csv(\"output/full_runs/ge/20/sergeyPolikarpov.csv\")) \n",
    "robin = produceData(pd.read_csv(\"output/full_runs/ge/20/robinBaumgarten.csv\"))\n",
    "# print the data\n",
    "# use melt to convert wide form to long form data\n",
    "# use seaborn plot and specify the x and y columns\n",
    "# and specify the dataframe\n",
    "sns.boxplot(x='variable', y='value', data=pd.melt(df)).set(\n",
    "    xlabel='Mario Type',\n",
    "    ylabel='Progress')\n",
    "\n",
    " \n",
    "plt.show()"
   ]
  },
  {
   "cell_type": "code",
   "execution_count": 25,
   "id": "c8ec4a46",
   "metadata": {},
   "outputs": [
    {
     "ename": "NameError",
     "evalue": "name 'row_headers' is not defined",
     "output_type": "error",
     "traceback": [
      "\u001b[1;31m---------------------------------------------------------------------------\u001b[0m",
      "\u001b[1;31mNameError\u001b[0m                                 Traceback (most recent call last)",
      "Input \u001b[1;32mIn [25]\u001b[0m, in \u001b[0;36m<cell line: 1>\u001b[1;34m()\u001b[0m\n\u001b[1;32m----> 1\u001b[0m rcolors \u001b[38;5;241m=\u001b[39m plt\u001b[38;5;241m.\u001b[39mcm\u001b[38;5;241m.\u001b[39mBuPu(np\u001b[38;5;241m.\u001b[39mfull(\u001b[38;5;28mlen\u001b[39m(\u001b[43mrow_headers\u001b[49m), \u001b[38;5;241m0.1\u001b[39m))\n\u001b[0;32m      2\u001b[0m ccolors \u001b[38;5;241m=\u001b[39m plt\u001b[38;5;241m.\u001b[39mcm\u001b[38;5;241m.\u001b[39mBuPu(np\u001b[38;5;241m.\u001b[39mfull(\u001b[38;5;28mlen\u001b[39m(column_headers), \u001b[38;5;241m0.1\u001b[39m))\n\u001b[0;32m      3\u001b[0m \u001b[38;5;241m.\u001b[39m\u001b[38;5;241m.\u001b[39m\u001b[38;5;241m.\u001b[39m\n",
      "\u001b[1;31mNameError\u001b[0m: name 'row_headers' is not defined"
     ]
    }
   ],
   "source": [
    "rcolors = plt.cm.BuPu(np.full(len(row_headers), 0.1))\n",
    "ccolors = plt.cm.BuPu(np.full(len(column_headers), 0.1))\n",
    "...\n",
    "the_table = plt.table(cellText=cell_text,\n",
    "                      rowLabels=row_headers,\n",
    "                      rowColours=rcolors,\n",
    "                      rowLoc='right',\n",
    "                      colColours=ccolors,\n",
    "                      colLabels=column_headers,\n",
    "                      loc='center')\n",
    "\n",
    "\n"
   ]
  },
  {
   "cell_type": "code",
   "execution_count": 34,
   "id": "bff0b4a7",
   "metadata": {},
   "outputs": [
    {
     "ename": "NameError",
     "evalue": "name 'getResults' is not defined",
     "output_type": "error",
     "traceback": [
      "\u001b[0;31m---------------------------------------------------------------------------\u001b[0m",
      "\u001b[0;31mNameError\u001b[0m                                 Traceback (most recent call last)",
      "Cell \u001b[0;32mIn[34], line 8\u001b[0m\n\u001b[1;32m      5\u001b[0m ax\u001b[38;5;241m.\u001b[39myaxis\u001b[38;5;241m.\u001b[39mset_visible(\u001b[38;5;28;01mFalse\u001b[39;00m)\n\u001b[1;32m      7\u001b[0m \u001b[38;5;66;03m# Table from Ed Smith answer\u001b[39;00m\n\u001b[0;32m----> 8\u001b[0m clust_data \u001b[38;5;241m=\u001b[39m [\u001b[43mgetResults\u001b[49m(\u001b[38;5;124m\"\u001b[39m\u001b[38;5;124mrobinBaumgarten\u001b[39m\u001b[38;5;124m\"\u001b[39m, \u001b[38;5;241m20\u001b[39m), getResults(\u001b[38;5;124m\"\u001b[39m\u001b[38;5;124mrobinBaumgarten\u001b[39m\u001b[38;5;124m\"\u001b[39m, \u001b[38;5;241m60\u001b[39m), getResults(\u001b[38;5;124m\"\u001b[39m\u001b[38;5;124mrobinBaumgarten\u001b[39m\u001b[38;5;124m\"\u001b[39m, \u001b[38;5;241m240\u001b[39m), \n\u001b[1;32m      9\u001b[0m         getResults(\u001b[38;5;124m\"\u001b[39m\u001b[38;5;124mandySloane\u001b[39m\u001b[38;5;124m\"\u001b[39m, \u001b[38;5;241m20\u001b[39m), getResults(\u001b[38;5;124m\"\u001b[39m\u001b[38;5;124mandySloane\u001b[39m\u001b[38;5;124m\"\u001b[39m, \u001b[38;5;241m60\u001b[39m), getResults(\u001b[38;5;124m\"\u001b[39m\u001b[38;5;124mandySloane\u001b[39m\u001b[38;5;124m\"\u001b[39m, \u001b[38;5;241m240\u001b[39m), \n\u001b[1;32m     10\u001b[0m         getResults(\u001b[38;5;124m\"\u001b[39m\u001b[38;5;124msergeyKarakovskiy\u001b[39m\u001b[38;5;124m\"\u001b[39m, \u001b[38;5;241m20\u001b[39m), getResults(\u001b[38;5;124m\"\u001b[39m\u001b[38;5;124msergeyKarakovskiy\u001b[39m\u001b[38;5;124m\"\u001b[39m, \u001b[38;5;241m60\u001b[39m), getResults(\u001b[38;5;124m\"\u001b[39m\u001b[38;5;124msergeyKarakovskiy\u001b[39m\u001b[38;5;124m\"\u001b[39m, \u001b[38;5;241m240\u001b[39m),\n\u001b[1;32m     11\u001b[0m         getResults(\u001b[38;5;124m\"\u001b[39m\u001b[38;5;124msergeyPolikarpov\u001b[39m\u001b[38;5;124m\"\u001b[39m, \u001b[38;5;241m20\u001b[39m), getResults(\u001b[38;5;124m\"\u001b[39m\u001b[38;5;124msergeyPolikarpov\u001b[39m\u001b[38;5;124m\"\u001b[39m, \u001b[38;5;241m60\u001b[39m), getResults(\u001b[38;5;124m\"\u001b[39m\u001b[38;5;124msergeyPolikarpov\u001b[39m\u001b[38;5;124m\"\u001b[39m, \u001b[38;5;241m240\u001b[39m)]\n\u001b[1;32m     12\u001b[0m collabel\u001b[38;5;241m=\u001b[39m(\u001b[38;5;124m\"\u001b[39m\u001b[38;5;124mName\u001b[39m\u001b[38;5;124m\"\u001b[39m, \u001b[38;5;124m\"\u001b[39m\u001b[38;5;124mTime Limit\u001b[39m\u001b[38;5;124m\"\u001b[39m, \u001b[38;5;124m\"\u001b[39m\u001b[38;5;124mLevels Complete\u001b[39m\u001b[38;5;124m\"\u001b[39m, \u001b[38;5;124m\"\u001b[39m\u001b[38;5;124mTime Left\u001b[39m\u001b[38;5;124m\"\u001b[39m, \u001b[38;5;124m\"\u001b[39m\u001b[38;5;124mProgress\u001b[39m\u001b[38;5;124m\"\u001b[39m, \u001b[38;5;124m\"\u001b[39m\u001b[38;5;124mKills\u001b[39m\u001b[38;5;124m\"\u001b[39m)\n\u001b[1;32m     13\u001b[0m ax\u001b[38;5;241m.\u001b[39mtable(cellText\u001b[38;5;241m=\u001b[39mclust_data,colLabels\u001b[38;5;241m=\u001b[39mcollabel,loc\u001b[38;5;241m=\u001b[39m\u001b[38;5;124m'\u001b[39m\u001b[38;5;124mcenter\u001b[39m\u001b[38;5;124m'\u001b[39m)\n",
      "\u001b[0;31mNameError\u001b[0m: name 'getResults' is not defined"
     ]
    },
    {
     "data": {
      "image/png": "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",
      "text/plain": [
       "<Figure size 1200x400 with 1 Axes>"
      ]
     },
     "metadata": {},
     "output_type": "display_data"
    }
   ],
   "source": [
    "fig, ax = plt.subplots()\n",
    "\n",
    "# Hide axes\n",
    "ax.xaxis.set_visible(False) \n",
    "ax.yaxis.set_visible(False)\n",
    "\n",
    "# Table from Ed Smith answer\n",
    "clust_data = [getResults(\"robinBaumgarten\", 20), getResults(\"robinBaumgarten\", 60), getResults(\"robinBaumgarten\", 240), \n",
    "        getResults(\"andySloane\", 20), getResults(\"andySloane\", 60), getResults(\"andySloane\", 240), \n",
    "        getResults(\"sergeyKarakovskiy\", 20), getResults(\"sergeyKarakovskiy\", 60), getResults(\"sergeyKarakovskiy\", 240),\n",
    "        getResults(\"sergeyPolikarpov\", 20), getResults(\"sergeyPolikarpov\", 60), getResults(\"sergeyPolikarpov\", 240)]\n",
    "collabel=(\"Name\", \"Time Limit\", \"Levels Complete\", \"Time Left\", \"Progress\", \"Kills\")\n",
    "ax.table(cellText=clust_data,colLabels=collabel,loc='center')\n",
    "the_table.scale(2, 2)"
   ]
  },
  {
   "cell_type": "code",
   "execution_count": null,
   "id": "98107a85",
   "metadata": {},
   "outputs": [],
   "source": []
  }
 ],
 "metadata": {
  "kernelspec": {
   "display_name": "Python 3 (ipykernel)",
   "language": "python",
   "name": "python3"
  },
  "language_info": {
   "codemirror_mode": {
    "name": "ipython",
    "version": 3
   },
   "file_extension": ".py",
   "mimetype": "text/x-python",
   "name": "python",
   "nbconvert_exporter": "python",
   "pygments_lexer": "ipython3",
   "version": "3.9.16"
  }
 },
 "nbformat": 4,
 "nbformat_minor": 5
}
