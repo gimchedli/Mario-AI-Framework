{
 "cells": [
  {
   "cell_type": "code",
   "execution_count": 1,
   "id": "a1e9aa1c",
   "metadata": {},
   "outputs": [
    {
     "data": {
      "text/html": [
       "<style>.container { width:100% !important; }</style>"
      ],
      "text/plain": [
       "<IPython.core.display.HTML object>"
      ]
     },
     "metadata": {},
     "output_type": "display_data"
    }
   ],
   "source": [
    "from IPython.display import display, HTML\n",
    "display(HTML(\"<style>.container { width:100% !important; }</style>\"))"
   ]
  },
  {
   "cell_type": "code",
   "execution_count": 32,
   "id": "6765fe58",
   "metadata": {},
   "outputs": [],
   "source": [
    "#!pip install dataframe_image"
   ]
  },
  {
   "cell_type": "code",
   "execution_count": 36,
   "id": "143adf23",
   "metadata": {},
   "outputs": [
    {
     "data": {
      "text/html": [
       "<div>\n",
       "<style scoped>\n",
       "    .dataframe tbody tr th:only-of-type {\n",
       "        vertical-align: middle;\n",
       "    }\n",
       "\n",
       "    .dataframe tbody tr th {\n",
       "        vertical-align: top;\n",
       "    }\n",
       "\n",
       "    .dataframe thead th {\n",
       "        text-align: right;\n",
       "    }\n",
       "</style>\n",
       "<table border=\"1\" class=\"dataframe\">\n",
       "  <thead>\n",
       "    <tr style=\"text-align: right;\">\n",
       "      <th></th>\n",
       "      <th>Level</th>\n",
       "      <th>Mario Type</th>\n",
       "      <th>Progress</th>\n",
       "      <th>Time Left</th>\n",
       "      <th>Kills</th>\n",
       "      <th>Mario Alive</th>\n",
       "      <th>Distance</th>\n",
       "    </tr>\n",
       "  </thead>\n",
       "  <tbody>\n",
       "    <tr>\n",
       "      <th>0</th>\n",
       "      <td>geLVL-1.txt</td>\n",
       "      <td>0</td>\n",
       "      <td>0.40</td>\n",
       "      <td>18</td>\n",
       "      <td>0</td>\n",
       "      <td>False</td>\n",
       "      <td>828.06</td>\n",
       "    </tr>\n",
       "    <tr>\n",
       "      <th>1</th>\n",
       "      <td>geLVL-1.txt</td>\n",
       "      <td>1</td>\n",
       "      <td>0.40</td>\n",
       "      <td>18</td>\n",
       "      <td>0</td>\n",
       "      <td>False</td>\n",
       "      <td>828.06</td>\n",
       "    </tr>\n",
       "    <tr>\n",
       "      <th>2</th>\n",
       "      <td>geLVL-1.txt</td>\n",
       "      <td>2</td>\n",
       "      <td>0.40</td>\n",
       "      <td>18</td>\n",
       "      <td>0</td>\n",
       "      <td>False</td>\n",
       "      <td>828.06</td>\n",
       "    </tr>\n",
       "    <tr>\n",
       "      <th>3</th>\n",
       "      <td>geLVL-2.txt</td>\n",
       "      <td>0</td>\n",
       "      <td>1.00</td>\n",
       "      <td>14</td>\n",
       "      <td>0</td>\n",
       "      <td>True</td>\n",
       "      <td>2080.00</td>\n",
       "    </tr>\n",
       "    <tr>\n",
       "      <th>4</th>\n",
       "      <td>geLVL-2.txt</td>\n",
       "      <td>1</td>\n",
       "      <td>1.00</td>\n",
       "      <td>14</td>\n",
       "      <td>0</td>\n",
       "      <td>True</td>\n",
       "      <td>2080.00</td>\n",
       "    </tr>\n",
       "  </tbody>\n",
       "</table>\n",
       "</div>"
      ],
      "text/plain": [
       "         Level  Mario Type  Progress  Time Left  Kills  Mario Alive  Distance\n",
       "0  geLVL-1.txt           0      0.40         18      0        False    828.06\n",
       "1  geLVL-1.txt           1      0.40         18      0        False    828.06\n",
       "2  geLVL-1.txt           2      0.40         18      0        False    828.06\n",
       "3  geLVL-2.txt           0      1.00         14      0         True   2080.00\n",
       "4  geLVL-2.txt           1      1.00         14      0         True   2080.00"
      ]
     },
     "execution_count": 36,
     "metadata": {},
     "output_type": "execute_result"
    }
   ],
   "source": [
    "import pandas as pd\n",
    "\n",
    "\n",
    "df_original = pd.read_csv(\"output/full_runs/ge/20/robinBaumgarten_new.csv\")\n",
    "#print(df)\n",
    "\n",
    "#for i in range(len(df)):\n",
    " #   print(df[\"Progress\"][i] + df[\"Progress\"][i+1] + df[\"Progress\"][i+2])\n",
    "  #  i = i+3\n",
    "\n",
    "df_original.head()\n"
   ]
  },
  {
   "cell_type": "code",
   "execution_count": null,
   "id": "407f2870",
   "metadata": {},
   "outputs": [],
   "source": []
  },
  {
   "cell_type": "code",
   "execution_count": 149,
   "id": "d1db48c1",
   "metadata": {},
   "outputs": [],
   "source": [
    "#print(df_original)"
   ]
  },
  {
   "cell_type": "code",
   "execution_count": 3,
   "id": "3e325d38",
   "metadata": {},
   "outputs": [
    {
     "data": {
      "text/plain": [
       "1164.1"
      ]
     },
     "execution_count": 3,
     "metadata": {},
     "output_type": "execute_result"
    }
   ],
   "source": [
    "46564/40"
   ]
  },
  {
   "cell_type": "code",
   "execution_count": 9,
   "id": "d70d34d9",
   "metadata": {},
   "outputs": [],
   "source": [
    "#notch = pd.read_csv(\"output/notch_with_distance.csv\")\n",
    "#ge = pd.read_csv(\"output/with_distance.csv\")\n",
    "#rint(sum(notch[\"Progress\"]), sum(ge[\"Progress\"]))"
   ]
  },
  {
   "cell_type": "code",
   "execution_count": 4,
   "id": "4246e63f",
   "metadata": {},
   "outputs": [],
   "source": [
    "ge = pd.read_csv(\"output/full_runs/ge/20/robinBaumgarten_new.csv\")\n",
    "#print(sum(df[\"Mario Alive\"]==True))\n",
    "#print(sum(df[\"Progress\"]==1))"
   ]
  },
  {
   "cell_type": "code",
   "execution_count": 37,
   "id": "9e7e92de",
   "metadata": {},
   "outputs": [
    {
     "ename": "NameError",
     "evalue": "name 'notch_small' is not defined",
     "output_type": "error",
     "traceback": [
      "\u001b[1;31m---------------------------------------------------------------------------\u001b[0m",
      "\u001b[1;31mNameError\u001b[0m                                 Traceback (most recent call last)",
      "Input \u001b[1;32mIn [37]\u001b[0m, in \u001b[0;36m<cell line: 13>\u001b[1;34m()\u001b[0m\n\u001b[0;32m     10\u001b[0m     plt\u001b[38;5;241m.\u001b[39mboxplot(dataframe[metric])\n\u001b[0;32m     11\u001b[0m     plt\u001b[38;5;241m.\u001b[39mshow()\n\u001b[1;32m---> 13\u001b[0m getBoxPlot(\u001b[43mnotch_small\u001b[49m, \u001b[38;5;124m\"\u001b[39m\u001b[38;5;124mProgress\u001b[39m\u001b[38;5;124m\"\u001b[39m)\n",
      "\u001b[1;31mNameError\u001b[0m: name 'notch_small' is not defined"
     ]
    }
   ],
   "source": [
    "df_original = pd.read_csv(\"output/full_runs/ge/20/robinBaumgarten_new.csv\")\n",
    "og_small = df_original[df_original[\"Mario Type\"] == 0]\n",
    "og_big = df_original[df_original[\"Mario Type\"] == 1]\n",
    "og_fire = df_original[df_original[\"Mario Type\"] == 2]\n",
    "\n",
    "#notch = pd.read_csv(\"output/robinBaumgarten_notch.csv\")\n",
    "#notch_small = notch[notch[\"Mario Type\"] == 0]\n",
    "\n",
    "def getBoxPlot(dataframe, metric):\n",
    "    plt.boxplot(dataframe[metric])\n",
    "    plt.show()\n",
    "    \n",
    "getBoxPlot(notch_small, \"Progress\")"
   ]
  },
  {
   "cell_type": "code",
   "execution_count": 38,
   "id": "b87f454d",
   "metadata": {},
   "outputs": [
    {
     "data": {
      "image/png": "[encoded data removed]",
      "text/plain": [
       "<Figure size 720x504 with 1 Axes>"
      ]
     },
     "metadata": {
      "needs_background": "light"
     },
     "output_type": "display_data"
    }
   ],
   "source": [
    "# Import libraries\n",
    "import pandas as pd\n",
    "import matplotlib.pyplot as plt\n",
    "import numpy as np\n",
    " \n",
    " \n",
    "# Creating dataset\n",
    "np.random.seed(10)\n",
    "\n",
    "\n",
    "#df_ge = pd.read_csv(\"output/robinBaumgarten_ge_1_1000.csv\")\n",
    "\n",
    "df_ge = pd.read_csv(\"output/full_runs/ge/20/andySloane.csv\")\n",
    "\n",
    "df_ge[\"Magic\"] = df_ge[\"Time Left\"] + df_ge[\"Progress\"]*100 + df_ge[\"Kills\"]\n",
    "\n",
    "df_small = df_ge[df_ge[\"Mario Type\"] == 0]\n",
    "df_big = df_ge[df_ge[\"Mario Type\"] == 1]\n",
    "df_fire = df_ge[df_ge[\"Mario Type\"] == 2]\n",
    "data = [df_small[\"Progress\"], df_big[\"Progress\"], df_fire[\"Progress\"]]\n",
    "\n",
    "fig = plt.figure(figsize =(10, 7))\n",
    " \n",
    "# Creating axes instance\n",
    "ax = fig.add_axes([0, 0, 1, 1])\n",
    " \n",
    "# Creating plot\n",
    "bp = ax.boxplot(data)\n",
    " \n",
    "# show plot\n",
    "plt.show()"
   ]
  },
  {
   "cell_type": "code",
   "execution_count": 39,
   "id": "2ab62e6d",
   "metadata": {},
   "outputs": [
    {
     "name": "stdout",
     "output_type": "stream",
     "text": [
      "2140 2031 621\n"
     ]
    }
   ],
   "source": [
    "def count(lst):\n",
    " \n",
    "    return sum(bool(x) for x in lst)\n",
    "#sergey = pd.read_csv(\"output/sergeyPolikarpov_ge_1.csv\") \n",
    "#sergeyK = pd.read_csv(\"output/sergeyKarakovskiy_ge_1_1000.csv\")  \n",
    "#sergey_df_fire = sergey[sergey[\"Mario Type\"] == 2]\n",
    "#sergeyK_df_fire = sergeyK[sergeyK[\"Mario Type\"] == 2]\n",
    "\n",
    "lst = df_ge[\"Progress\"] == 1.0\n",
    "\n",
    "#print(count(sergey[\"Progress\"] == 1.0), count(sergeyK[\"Progress\"] == 1.0))\n",
    "\n",
    "#df = pd.read_csv(\"output/robinBaumgarten_ge.csv\")\n",
    "#df_fire = df[df[\"Mario Type\"] == 2]\n",
    "\n",
    "lst = df_ge[\"Progress\"] == 1.0\n",
    "\n",
    "robinL = pd.read_csv(\"output/full_runs/ge/240/robinBaumgarten.csv\")\n",
    "robin = pd.read_csv(\"output/full_runs/ge/20/robinBaumgarten.csv\")\n",
    "andy = pd.read_csv(\"output/full_runs/ge/20/andySloane.csv\")\n",
    "\n",
    "\n",
    "\n",
    "print(count(robinL[\"Progress\"] == 1.0), count(robin[\"Progress\"] == 1.0), count(andy[\"Progress\"] == 1.0) )"
   ]
  },
  {
   "cell_type": "code",
   "execution_count": 40,
   "id": "d6ca96f2",
   "metadata": {},
   "outputs": [
    {
     "name": "stdout",
     "output_type": "stream",
     "text": [
      "19\n",
      "843\n"
     ]
    },
    {
     "data": {
      "image/png": "[encoded data removed]",
      "text/plain": [
       "<Figure size 864x288 with 1 Axes>"
      ]
     },
     "metadata": {
      "needs_background": "light"
     },
     "output_type": "display_data"
    }
   ],
   "source": [
    "\n",
    "# Import libraries\n",
    "import matplotlib.pyplot as plt\n",
    "import numpy as np\n",
    " \n",
    "# Creating plot\n",
    "derp = ge[ge[\"Mario Alive\"] == False]\n",
    "plt.boxplot(derp[\"Mario Type\"])\n",
    "\n",
    "df = pd.read_csv(\"output/full_runs/ge/20/sergeyKarakovskiy.csv\")\n",
    "\n",
    "print(count(ge[\"Mario Alive\"]))\n",
    "print(count(df_small[\"Progress\"] < 1.0))\n",
    "# show plot\n",
    "plt.show()"
   ]
  },
  {
   "cell_type": "code",
   "execution_count": 41,
   "id": "9696c7ff",
   "metadata": {},
   "outputs": [
    {
     "data": {
      "text/html": [
       "<div>\n",
       "<style scoped>\n",
       "    .dataframe tbody tr th:only-of-type {\n",
       "        vertical-align: middle;\n",
       "    }\n",
       "\n",
       "    .dataframe tbody tr th {\n",
       "        vertical-align: top;\n",
       "    }\n",
       "\n",
       "    .dataframe thead th {\n",
       "        text-align: right;\n",
       "    }\n",
       "</style>\n",
       "<table border=\"1\" class=\"dataframe\">\n",
       "  <thead>\n",
       "    <tr style=\"text-align: right;\">\n",
       "      <th></th>\n",
       "      <th>Level</th>\n",
       "      <th>Mario Type</th>\n",
       "      <th>Progress</th>\n",
       "      <th>Time Left</th>\n",
       "      <th>Kills</th>\n",
       "      <th>Mario Alive</th>\n",
       "      <th>Distance</th>\n",
       "      <th>Magic</th>\n",
       "    </tr>\n",
       "  </thead>\n",
       "  <tbody>\n",
       "    <tr>\n",
       "      <th>0</th>\n",
       "      <td>ge/LVL-1.txt</td>\n",
       "      <td>0</td>\n",
       "      <td>0.38</td>\n",
       "      <td>0</td>\n",
       "      <td>0</td>\n",
       "      <td>True</td>\n",
       "      <td>795.00</td>\n",
       "      <td>38.22</td>\n",
       "    </tr>\n",
       "    <tr>\n",
       "      <th>1</th>\n",
       "      <td>ge/LVL-1.txt</td>\n",
       "      <td>1</td>\n",
       "      <td>0.38</td>\n",
       "      <td>0</td>\n",
       "      <td>0</td>\n",
       "      <td>True</td>\n",
       "      <td>795.00</td>\n",
       "      <td>38.22</td>\n",
       "    </tr>\n",
       "    <tr>\n",
       "      <th>2</th>\n",
       "      <td>ge/LVL-1.txt</td>\n",
       "      <td>2</td>\n",
       "      <td>0.38</td>\n",
       "      <td>0</td>\n",
       "      <td>0</td>\n",
       "      <td>True</td>\n",
       "      <td>795.00</td>\n",
       "      <td>38.22</td>\n",
       "    </tr>\n",
       "    <tr>\n",
       "      <th>3</th>\n",
       "      <td>ge/LVL-2.txt</td>\n",
       "      <td>0</td>\n",
       "      <td>0.14</td>\n",
       "      <td>0</td>\n",
       "      <td>0</td>\n",
       "      <td>True</td>\n",
       "      <td>283.60</td>\n",
       "      <td>13.63</td>\n",
       "    </tr>\n",
       "    <tr>\n",
       "      <th>4</th>\n",
       "      <td>ge/LVL-2.txt</td>\n",
       "      <td>1</td>\n",
       "      <td>0.14</td>\n",
       "      <td>0</td>\n",
       "      <td>0</td>\n",
       "      <td>True</td>\n",
       "      <td>283.60</td>\n",
       "      <td>13.63</td>\n",
       "    </tr>\n",
       "    <tr>\n",
       "      <th>5</th>\n",
       "      <td>ge/LVL-2.txt</td>\n",
       "      <td>2</td>\n",
       "      <td>0.14</td>\n",
       "      <td>0</td>\n",
       "      <td>1</td>\n",
       "      <td>True</td>\n",
       "      <td>283.60</td>\n",
       "      <td>14.63</td>\n",
       "    </tr>\n",
       "    <tr>\n",
       "      <th>6</th>\n",
       "      <td>ge/LVL-3.txt</td>\n",
       "      <td>0</td>\n",
       "      <td>1.00</td>\n",
       "      <td>11</td>\n",
       "      <td>0</td>\n",
       "      <td>True</td>\n",
       "      <td>2080.00</td>\n",
       "      <td>111.00</td>\n",
       "    </tr>\n",
       "    <tr>\n",
       "      <th>7</th>\n",
       "      <td>ge/LVL-3.txt</td>\n",
       "      <td>1</td>\n",
       "      <td>0.43</td>\n",
       "      <td>16</td>\n",
       "      <td>0</td>\n",
       "      <td>False</td>\n",
       "      <td>894.78</td>\n",
       "      <td>59.02</td>\n",
       "    </tr>\n",
       "    <tr>\n",
       "      <th>8</th>\n",
       "      <td>ge/LVL-3.txt</td>\n",
       "      <td>2</td>\n",
       "      <td>0.43</td>\n",
       "      <td>16</td>\n",
       "      <td>0</td>\n",
       "      <td>False</td>\n",
       "      <td>894.78</td>\n",
       "      <td>59.02</td>\n",
       "    </tr>\n",
       "    <tr>\n",
       "      <th>9</th>\n",
       "      <td>ge/LVL-4.txt</td>\n",
       "      <td>0</td>\n",
       "      <td>0.22</td>\n",
       "      <td>19</td>\n",
       "      <td>0</td>\n",
       "      <td>False</td>\n",
       "      <td>455.00</td>\n",
       "      <td>40.87</td>\n",
       "    </tr>\n",
       "  </tbody>\n",
       "</table>\n",
       "</div>"
      ],
      "text/plain": [
       "          Level  Mario Type  Progress  Time Left  Kills  Mario Alive  \\\n",
       "0  ge/LVL-1.txt           0      0.38          0      0         True   \n",
       "1  ge/LVL-1.txt           1      0.38          0      0         True   \n",
       "2  ge/LVL-1.txt           2      0.38          0      0         True   \n",
       "3  ge/LVL-2.txt           0      0.14          0      0         True   \n",
       "4  ge/LVL-2.txt           1      0.14          0      0         True   \n",
       "5  ge/LVL-2.txt           2      0.14          0      1         True   \n",
       "6  ge/LVL-3.txt           0      1.00         11      0         True   \n",
       "7  ge/LVL-3.txt           1      0.43         16      0        False   \n",
       "8  ge/LVL-3.txt           2      0.43         16      0        False   \n",
       "9  ge/LVL-4.txt           0      0.22         19      0        False   \n",
       "\n",
       "   Distance  Magic  \n",
       "0    795.00  38.22  \n",
       "1    795.00  38.22  \n",
       "2    795.00  38.22  \n",
       "3    283.60  13.63  \n",
       "4    283.60  13.63  \n",
       "5    283.60  14.63  \n",
       "6   2080.00 111.00  \n",
       "7    894.78  59.02  \n",
       "8    894.78  59.02  \n",
       "9    455.00  40.87  "
      ]
     },
     "execution_count": 41,
     "metadata": {},
     "output_type": "execute_result"
    }
   ],
   "source": [
    "df_ge.head(10)"
   ]
  },
  {
   "cell_type": "code",
   "execution_count": 42,
   "id": "c5c651ca",
   "metadata": {},
   "outputs": [
    {
     "data": {
      "image/png": "[encoded data removed]",
      "text/plain": [
       "<Figure size 720x504 with 1 Axes>"
      ]
     },
     "metadata": {
      "needs_background": "light"
     },
     "output_type": "display_data"
    }
   ],
   "source": [
    "# Import libraries\n",
    "import pandas as pd\n",
    "import matplotlib.pyplot as plt\n",
    "import numpy as np\n",
    " \n",
    " \n",
    "# Creating dataset\n",
    "np.random.seed(10)\n",
    "\n",
    "\n",
    "#df_ge = pd.read_csv(\"output/robinBaumgarten_ge_1_1000.csv\")\n",
    "\n",
    "df_ge = pd.read_csv(\"output/full_runs/ge/20/andySloane.csv\")\n",
    "\n",
    "df_ge[\"Magic\"] = df_ge[\"Time Left\"] + df_ge[\"Progress\"]*100 + df_ge[\"Kills\"]\n",
    "\n",
    "df_small = df_ge[df_ge[\"Mario Type\"] == 0]\n",
    "df_big = df_ge[df_ge[\"Mario Type\"] == 1]\n",
    "df_fire = df_ge[df_ge[\"Mario Type\"] == 2]\n",
    "data = [df_small[\"Progress\"], df_big[\"Progress\"], df_fire[\"Progress\"]]\n",
    "\n",
    "fig = plt.figure(figsize =(10, 7))\n",
    " \n",
    "# Creating axes instance\n",
    "ax = fig.add_axes([0, 0, 1, 1])\n",
    " \n",
    "# Creating plot\n",
    "bp = ax.boxplot(data)\n",
    " \n",
    "# show plot\n",
    "plt.show()"
   ]
  },
  {
   "cell_type": "code",
   "execution_count": 43,
   "id": "35c89769",
   "metadata": {},
   "outputs": [
    {
     "data": {
      "text/html": [
       "<div>\n",
       "<style scoped>\n",
       "    .dataframe tbody tr th:only-of-type {\n",
       "        vertical-align: middle;\n",
       "    }\n",
       "\n",
       "    .dataframe tbody tr th {\n",
       "        vertical-align: top;\n",
       "    }\n",
       "\n",
       "    .dataframe thead th {\n",
       "        text-align: right;\n",
       "    }\n",
       "</style>\n",
       "<table border=\"1\" class=\"dataframe\">\n",
       "  <thead>\n",
       "    <tr style=\"text-align: right;\">\n",
       "      <th></th>\n",
       "      <th>Level</th>\n",
       "      <th>Mario Type</th>\n",
       "      <th>Progress</th>\n",
       "      <th>Time Left</th>\n",
       "      <th>Kills</th>\n",
       "      <th>Mario Alive</th>\n",
       "      <th>Magic</th>\n",
       "    </tr>\n",
       "  </thead>\n",
       "  <tbody>\n",
       "    <tr>\n",
       "      <th>0</th>\n",
       "      <td>ge/LVL-1.txt</td>\n",
       "      <td>0</td>\n",
       "      <td>0.23</td>\n",
       "      <td>19</td>\n",
       "      <td>0</td>\n",
       "      <td>False</td>\n",
       "      <td>41.95</td>\n",
       "    </tr>\n",
       "    <tr>\n",
       "      <th>1</th>\n",
       "      <td>ge/LVL-1.txt</td>\n",
       "      <td>1</td>\n",
       "      <td>0.25</td>\n",
       "      <td>18</td>\n",
       "      <td>0</td>\n",
       "      <td>False</td>\n",
       "      <td>42.90</td>\n",
       "    </tr>\n",
       "    <tr>\n",
       "      <th>2</th>\n",
       "      <td>ge/LVL-1.txt</td>\n",
       "      <td>2</td>\n",
       "      <td>0.25</td>\n",
       "      <td>18</td>\n",
       "      <td>0</td>\n",
       "      <td>False</td>\n",
       "      <td>42.90</td>\n",
       "    </tr>\n",
       "    <tr>\n",
       "      <th>3</th>\n",
       "      <td>ge/LVL-2.txt</td>\n",
       "      <td>0</td>\n",
       "      <td>0.15</td>\n",
       "      <td>19</td>\n",
       "      <td>0</td>\n",
       "      <td>False</td>\n",
       "      <td>33.62</td>\n",
       "    </tr>\n",
       "    <tr>\n",
       "      <th>4</th>\n",
       "      <td>ge/LVL-2.txt</td>\n",
       "      <td>1</td>\n",
       "      <td>0.43</td>\n",
       "      <td>17</td>\n",
       "      <td>0</td>\n",
       "      <td>False</td>\n",
       "      <td>60.10</td>\n",
       "    </tr>\n",
       "  </tbody>\n",
       "</table>\n",
       "</div>"
      ],
      "text/plain": [
       "          Level  Mario Type  Progress  Time Left  Kills  Mario Alive  Magic\n",
       "0  ge/LVL-1.txt           0      0.23         19      0        False  41.95\n",
       "1  ge/LVL-1.txt           1      0.25         18      0        False  42.90\n",
       "2  ge/LVL-1.txt           2      0.25         18      0        False  42.90\n",
       "3  ge/LVL-2.txt           0      0.15         19      0        False  33.62\n",
       "4  ge/LVL-2.txt           1      0.43         17      0        False  60.10"
      ]
     },
     "execution_count": 43,
     "metadata": {},
     "output_type": "execute_result"
    }
   ],
   "source": [
    "df[\"Magic\"] = df[\"Progress\"]*100 + df[\"Time Left\"]\n",
    "df.head()"
   ]
  },
  {
   "cell_type": "code",
   "execution_count": 50,
   "id": "174ae5b9",
   "metadata": {},
   "outputs": [
    {
     "data": {
      "image/png": "[encoded data removed]",
      "text/plain": [
       "<Figure size 864x288 with 1 Axes>"
      ]
     },
     "metadata": {
      "needs_background": "light"
     },
     "output_type": "display_data"
    }
   ],
   "source": [
    "# import the matplotlib package\n",
    "import matplotlib.pyplot as plt\n",
    " \n",
    "# import the numpy package\n",
    "import numpy as np\n",
    "\n",
    "\n",
    "        \n",
    "        \n",
    "def produceData(df_ge):\n",
    "    df_small = df_ge[df_ge[\"Mario Type\"] == 0]\n",
    "    df_big = df_ge[df_ge[\"Mario Type\"] == 1]\n",
    "    df_fire = df_ge[df_ge[\"Mario Type\"] == 2]\n",
    "    data = [df_small[\"Progress\"], df_big[\"Progress\"], df_fire[\"Progress\"]]\n",
    "    return data\n",
    "\n",
    "sergey = produceData(pd.read_csv(\"output/full_runs/ge/20/sergeyPolikarpov.csv\"))\n",
    "robinL = produceData(pd.read_csv(\"output/full_runs/ge/240/robinBaumgarten.csv\"))\n",
    "sergeyK = produceData(pd.read_csv(\"output/full_runs/ge/240/sergeyKarakovskiy.csv\"))\n",
    "robin = produceData(pd.read_csv(\"output/full_runs/ge/20/robinBaumgarten.csv\"))\n",
    "andy = produceData(pd.read_csv(\"output/full_runs/ge/20/andySloane.csv\"))\n",
    "\n",
    "\n",
    "ticks = ['small', 'big', 'fire']\n",
    " \n",
    "\n",
    "robin_plot = plt.boxplot(robin,\n",
    "                               positions=np.array(\n",
    "    np.arange(len(robin)))*3.0-0.5,\n",
    "                               widths=0.4)\n",
    "sergey_plot = plt.boxplot(sergey,\n",
    "                               positions=np.array(\n",
    "    np.arange(len(sergey)))*3.0,\n",
    "                               widths=0.4)\n",
    "andy_plot = plt.boxplot(andy,\n",
    "                               positions=np.array(\n",
    "    np.arange(len(andy)))*3.0+0.5,\n",
    "                               widths=0.4)\n",
    "\n",
    "\n",
    "\n",
    "\n",
    "def define_box_properties(plot_name, color_code, label):\n",
    "    for k, v in plot_name.items():\n",
    "        plt.setp(plot_name.get(k), color=color_code)\n",
    "         \n",
    "    # use plot function to draw a small line to name the legend.\n",
    "    plt.plot([], c=color_code, label=label)\n",
    "    plt.legend()\n",
    " \n",
    " \n",
    "# setting colors for each groups\n",
    "define_box_properties(andy_plot, '#00FF00', 'Andy')\n",
    "define_box_properties(robin_plot, '#FF0000', 'Robin')\n",
    "define_box_properties(sergey_plot, '#0000FF', 'Sergey')\n",
    "\n",
    " \n",
    "# set the x label values\n",
    "plt.xticks(np.arange(0, len(ticks) * 3, 3), ticks)\n",
    " \n",
    "# set the limit for x axis\n",
    "plt.xlim(-1, len(ticks)*3+0.5)\n",
    " \n",
    "# set the limit for y axis\n",
    "plt.ylim(0, 1.1)\n",
    "\n",
    "# set the title\n",
    "plt.title('Comparison of progress for different algorithms')\n",
    "plt.show()\n",
    "plt.rcParams['figure.figsize'] = [12, 4]"
   ]
  },
  {
   "cell_type": "code",
   "execution_count": 51,
   "id": "2b12a91a",
   "metadata": {},
   "outputs": [
    {
     "name": "stdout",
     "output_type": "stream",
     "text": [
      "[0      0.18\n",
      "3      0.15\n",
      "6      0.42\n",
      "9      0.08\n",
      "12     0.61\n",
      "       ... \n",
      "2985   0.31\n",
      "2988   0.15\n",
      "2991   0.13\n",
      "2994   0.44\n",
      "2997   0.21\n",
      "Name: Progress, Length: 1000, dtype: float64, 1      0.16\n",
      "4      0.12\n",
      "7      0.41\n",
      "10     0.09\n",
      "13     0.60\n",
      "       ... \n",
      "2986   0.47\n",
      "2989   0.49\n",
      "2992   0.39\n",
      "2995   0.22\n",
      "2998   0.79\n",
      "Name: Progress, Length: 1000, dtype: float64, 2      0.19\n",
      "5      0.39\n",
      "8      0.42\n",
      "11     0.11\n",
      "14     0.43\n",
      "       ... \n",
      "2987   0.48\n",
      "2990   0.18\n",
      "2993   0.13\n",
      "2996   0.36\n",
      "2999   0.51\n",
      "Name: Progress, Length: 1000, dtype: float64]\n"
     ]
    }
   ],
   "source": [
    "print(sergey)"
   ]
  },
  {
   "cell_type": "code",
   "execution_count": 45,
   "id": "a1de91b2",
   "metadata": {},
   "outputs": [
    {
     "name": "stdout",
     "output_type": "stream",
     "text": [
      "╒═══════════════════╤══════════════╤═══════════════════╤═════════════╤════════════╤═════════╕\n",
      "│ Name              │   Time Limit │   Levels Complete │   Time Left │   Progress │   Kills │\n",
      "╞═══════════════════╪══════════════╪═══════════════════╪═════════════╪════════════╪═════════╡\n",
      "│ Robin Baumgarten  │           20 │              2031 │       44536 │   2610.67  │     832 │\n",
      "├───────────────────┼──────────────┼───────────────────┼─────────────┼────────────┼─────────┤\n",
      "│ Robin Baumgarten  │           60 │              2139 │      164097 │   2671.72  │     844 │\n",
      "├───────────────────┼──────────────┼───────────────────┼─────────────┼────────────┼─────────┤\n",
      "│ Robin Baumgarten  │          240 │              2140 │      704092 │   2670.55  │     835 │\n",
      "├───────────────────┼──────────────┼───────────────────┼─────────────┼────────────┼─────────┤\n",
      "│ Andy Sloane       │           20 │               621 │       24954 │   1587.58  │    1123 │\n",
      "├───────────────────┼──────────────┼───────────────────┼─────────────┼────────────┼─────────┤\n",
      "│ Andy Sloane       │           60 │               627 │       95450 │   1589.96  │    1126 │\n",
      "├───────────────────┼──────────────┼───────────────────┼─────────────┼────────────┼─────────┤\n",
      "│ Andy Sloane       │          240 │               627 │      412970 │   1589.98  │    1127 │\n",
      "├───────────────────┼──────────────┼───────────────────┼─────────────┼────────────┼─────────┤\n",
      "│ Sergey Polikarpov │           20 │                88 │       46790 │    958.025 │     419 │\n",
      "├───────────────────┼──────────────┼───────────────────┼─────────────┼────────────┼─────────┤\n",
      "│ Sergey Polikarpov │           60 │                92 │      166726 │    961.38  │     426 │\n",
      "├───────────────────┼──────────────┼───────────────────┼─────────────┼────────────┼─────────┤\n",
      "│ Sergey Polikarpov │          240 │                83 │      706996 │    947.825 │     447 │\n",
      "╘═══════════════════╧══════════════╧═══════════════════╧═════════════╧════════════╧═════════╛\n"
     ]
    },
    {
     "data": {
      "text/html": [
       "<div>\n",
       "<style scoped>\n",
       "    .dataframe tbody tr th:only-of-type {\n",
       "        vertical-align: middle;\n",
       "    }\n",
       "\n",
       "    .dataframe tbody tr th {\n",
       "        vertical-align: top;\n",
       "    }\n",
       "\n",
       "    .dataframe thead th {\n",
       "        text-align: right;\n",
       "    }\n",
       "</style>\n",
       "<table border=\"1\" class=\"dataframe\">\n",
       "  <thead>\n",
       "    <tr style=\"text-align: right;\">\n",
       "      <th></th>\n",
       "      <th>Level</th>\n",
       "      <th>Mario Type</th>\n",
       "      <th>Progress</th>\n",
       "      <th>Time Left</th>\n",
       "      <th>Kills</th>\n",
       "      <th>Mario Alive</th>\n",
       "      <th>Distance</th>\n",
       "    </tr>\n",
       "  </thead>\n",
       "  <tbody>\n",
       "    <tr>\n",
       "      <th>909</th>\n",
       "      <td>ge/LVL-1.txt</td>\n",
       "      <td>0</td>\n",
       "      <td>0.87</td>\n",
       "      <td>227</td>\n",
       "      <td>0</td>\n",
       "      <td>False</td>\n",
       "      <td>1809.38</td>\n",
       "    </tr>\n",
       "    <tr>\n",
       "      <th>1142</th>\n",
       "      <td>ge/LVL-1.txt</td>\n",
       "      <td>2</td>\n",
       "      <td>0.97</td>\n",
       "      <td>226</td>\n",
       "      <td>1</td>\n",
       "      <td>False</td>\n",
       "      <td>2018.37</td>\n",
       "    </tr>\n",
       "    <tr>\n",
       "      <th>1330</th>\n",
       "      <td>ge/LVL-1.txt</td>\n",
       "      <td>1</td>\n",
       "      <td>0.83</td>\n",
       "      <td>230</td>\n",
       "      <td>0</td>\n",
       "      <td>False</td>\n",
       "      <td>1719.93</td>\n",
       "    </tr>\n",
       "    <tr>\n",
       "      <th>1703</th>\n",
       "      <td>ge/LVL-1.txt</td>\n",
       "      <td>2</td>\n",
       "      <td>0.84</td>\n",
       "      <td>229</td>\n",
       "      <td>1</td>\n",
       "      <td>False</td>\n",
       "      <td>1750.19</td>\n",
       "    </tr>\n",
       "    <tr>\n",
       "      <th>1816</th>\n",
       "      <td>ge/LVL-1.txt</td>\n",
       "      <td>1</td>\n",
       "      <td>0.87</td>\n",
       "      <td>227</td>\n",
       "      <td>0</td>\n",
       "      <td>False</td>\n",
       "      <td>1803.11</td>\n",
       "    </tr>\n",
       "  </tbody>\n",
       "</table>\n",
       "</div>"
      ],
      "text/plain": [
       "             Level  Mario Type  Progress  Time Left  Kills  Mario Alive  \\\n",
       "909   ge/LVL-1.txt           0      0.87        227      0        False   \n",
       "1142  ge/LVL-1.txt           2      0.97        226      1        False   \n",
       "1330  ge/LVL-1.txt           1      0.83        230      0        False   \n",
       "1703  ge/LVL-1.txt           2      0.84        229      1        False   \n",
       "1816  ge/LVL-1.txt           1      0.87        227      0        False   \n",
       "\n",
       "      Distance  \n",
       "909    1809.38  \n",
       "1142   2018.37  \n",
       "1330   1719.93  \n",
       "1703   1750.19  \n",
       "1816   1803.11  "
      ]
     },
     "execution_count": 45,
     "metadata": {},
     "output_type": "execute_result"
    }
   ],
   "source": [
    "from tabulate import tabulate\n",
    "import re\n",
    " \n",
    "def getResults(agentName, time):\n",
    "    dataframe = pd.read_csv(\"output/full_runs/ge/\" + str(time) + \"/\" + agentName + \".csv\")\n",
    "    dataframe[\"Level Complete\"] = dataframe[\"Progress\"] == 1.0\n",
    "    \n",
    "    name = agentName[0].upper() + agentName[1:]\n",
    "    res_list = re.findall('[A-Z][^A-Z]*', name)\n",
    "    name = \" \".join(res_list)\n",
    "    \n",
    "    return name, time, sum(dataframe[\"Level Complete\"]), sum(dataframe[\"Time Left\"]), sum(dataframe[\"Progress\"]), sum(dataframe[\"Kills\"])\n",
    "\n",
    "#create data\n",
    "data = [getResults(\"robinBaumgarten\", 20), getResults(\"robinBaumgarten\", 60), getResults(\"robinBaumgarten\", 240), \n",
    "        getResults(\"andySloane\", 20), getResults(\"andySloane\", 60), getResults(\"andySloane\", 240), \n",
    "        #getResults(\"sergeyKarakovskiy\", 20), getResults(\"sergeyKarakovskiy\", 60), getResults(\"sergeyKarakovskiy\", 240),\n",
    "        getResults(\"sergeyPolikarpov\", 20), getResults(\"sergeyPolikarpov\", 60), getResults(\"sergeyPolikarpov\", 240)]\n",
    "\n",
    "data_60 = [getResults(\"andySloane\", 60), #getResults(\"sergeyKarakovskiy\", 60),\n",
    "           getResults(\"sergeyPolikarpov\", 60)]\n",
    "\n",
    "#data_240 = \n",
    "  \n",
    "#define header names\n",
    "col_names = [\"Name\", \"Time Limit\", \"Levels Complete\", \"Time Left\", \"Progress\", \"Kills\"]\n",
    "  \n",
    "#display table\n",
    "print(tabulate(data, headers=col_names, tablefmt=\"fancy_grid\"))\n",
    "\n",
    "zzz = pd.read_csv(\"output/sergeyPolikarpov_lvl_1.csv\")\n",
    "zzz.head(30)\n",
    "derp = zzz[zzz[\"Progress\"] > 0.8]\n",
    "derp.head()\n"
   ]
  },
  {
   "cell_type": "code",
   "execution_count": null,
   "id": "05cbf4c8",
   "metadata": {},
   "outputs": [],
   "source": []
  },
  {
   "cell_type": "code",
   "execution_count": 46,
   "id": "6a9e0c0f",
   "metadata": {},
   "outputs": [],
   "source": [
    "#df[\"Progress\"].value_counts()"
   ]
  },
  {
   "cell_type": "code",
   "execution_count": null,
   "id": "5f34a444",
   "metadata": {},
   "outputs": [],
   "source": []
  },
  {
   "cell_type": "code",
   "execution_count": 47,
   "id": "c1f589b8",
   "metadata": {},
   "outputs": [
    {
     "data": {
      "image/png": "[encoded data removed]",
      "text/plain": [
       "<Figure size 864x288 with 1 Axes>"
      ]
     },
     "metadata": {
      "needs_background": "light"
     },
     "output_type": "display_data"
    }
   ],
   "source": [
    "# import the matplotlib package\n",
    "import matplotlib.pyplot as plt\n",
    "import pandas as pd\n",
    "import numpy as np\n",
    "import seaborn as sns\n",
    " \n",
    "# import the numpy package\n",
    "import numpy as np\n",
    "\n",
    "# create 2 - sample a 3-Dim array, that measures\n",
    "\n",
    "def produceData(df_ge):\n",
    "    df_small = df_ge[df_ge[\"Mario Type\"] == 0]\n",
    "    df_big = df_ge[df_ge[\"Mario Type\"] == 1]\n",
    "    df_fire = df_ge[df_ge[\"Mario Type\"] == 2]\n",
    "    data = [df_small[\"Progress\"], df_big[\"Progress\"], df_fire[\"Progress\"]]\n",
    "    return data\n",
    "\n",
    "Sergey = produceData(pd.read_csv(\"output/full_runs/ge/20/sergeyPolikarpov.csv\"))\n",
    "Andy = produceData(pd.read_csv(\"output/full_runs/ge/20/andySloane.csv\"))\n",
    "Robin = produceData(pd.read_csv(\"output/full_runs/ge/20/robinBaumgarten.csv\"))\n",
    "# print the data\n",
    "# use melt to convert wide form to long form data\n",
    "# use seaborn plot and specify the x and y columns\n",
    "# and specify the dataframe\n",
    "ticks = ['small', 'big', 'fire']\n",
    "robin_plot = plt.boxplot(Robin,\n",
    "                               positions=np.array(\n",
    "    np.arange(len(robin)))*3.0-0.7,\n",
    "                               widths=0.6)\n",
    "\n",
    "sergey_plot = plt.boxplot(Sergey,\n",
    "                               positions=np.array(\n",
    "    np.arange(len(sergey)))*3.0,\n",
    "                               widths=0.6)\n",
    "\n",
    "sergeyK_plot = plt.boxplot(Andy,\n",
    "                               positions=np.array(\n",
    "    np.arange(len(sergeyK)))*3.0+0.7,\n",
    "                               widths=0.6)\n",
    " \n",
    "\n",
    "    \n",
    "    \n",
    "    \n",
    "    \n",
    "def define_box_properties(plot_name, color_code, label):\n",
    "    for k, v in plot_name.items():\n",
    "        plt.setp(plot_name.get(k), color=color_code)\n",
    "         \n",
    "    # use plot function to draw a small line to name the legend.\n",
    "    plt.plot([], c=color_code, label=label)\n",
    "    plt.legend()\n",
    " \n",
    " \n",
    "# setting colors for each groups\n",
    "define_box_properties(andy_plot, '#00FF00', 'Andy')\n",
    "define_box_properties(robin_plot, '#FF0000', 'Robin')\n",
    "define_box_properties(sergey_plot, '#0000FF', 'Sergey')\n",
    "\n",
    " \n",
    "# set the x label values\n",
    "plt.xticks(np.arange(0, len(ticks) * 3, 3), ticks)\n",
    " \n",
    "# set the limit for x axis\n",
    "plt.xlim(-2, len(ticks)*3-0.4)\n",
    "#plt.legend()\n",
    "# set the limit for y axis\n",
    "plt.ylim(0, 1.1)\n",
    "\n",
    "# set the title\n",
    "plt.title('Comparison of progress for different algorithms')\n",
    "plt.show()\n",
    "plt.rcParams['figure.figsize'] = [12, 4]"
   ]
  },
  {
   "cell_type": "code",
   "execution_count": 52,
   "id": "fcbbbc4e",
   "metadata": {},
   "outputs": [],
   "source": [
    "def produceData(df_ge):\n",
    "    df_small = df_ge[df_ge[\"Mario Type\"] == 0]\n",
    "    df_big = df_ge[df_ge[\"Mario Type\"] == 1]\n",
    "    df_fire = df_ge[df_ge[\"Mario Type\"] == 2]\n",
    "    data = [df_small[\"Progress\"], df_big[\"Progress\"], df_fire[\"Progress\"]]\n",
    "    return data\n",
    "\n",
    "sergey = produceData(pd.read_csv(\"output/full_runs/ge/20/sergeyPolikarpov.csv\")) \n",
    "robin = produceData(pd.read_csv(\"output/full_runs/ge/20/robinBaumgarten.csv\"))"
   ]
  },
  {
   "cell_type": "code",
   "execution_count": 54,
   "id": "3581ae44",
   "metadata": {},
   "outputs": [],
   "source": [
    "#print(sergey)"
   ]
  },
  {
   "cell_type": "code",
   "execution_count": 55,
   "id": "990a5234",
   "metadata": {},
   "outputs": [
    {
     "data": {
      "text/html": [
       "<div>\n",
       "<style scoped>\n",
       "    .dataframe tbody tr th:only-of-type {\n",
       "        vertical-align: middle;\n",
       "    }\n",
       "\n",
       "    .dataframe tbody tr th {\n",
       "        vertical-align: top;\n",
       "    }\n",
       "\n",
       "    .dataframe thead th {\n",
       "        text-align: right;\n",
       "    }\n",
       "</style>\n",
       "<table border=\"1\" class=\"dataframe\">\n",
       "  <thead>\n",
       "    <tr style=\"text-align: right;\">\n",
       "      <th></th>\n",
       "      <th>small</th>\n",
       "      <th>big</th>\n",
       "      <th>fire</th>\n",
       "    </tr>\n",
       "  </thead>\n",
       "  <tbody>\n",
       "    <tr>\n",
       "      <th>count</th>\n",
       "      <td>1000.00</td>\n",
       "      <td>1000.00</td>\n",
       "      <td>1000.00</td>\n",
       "    </tr>\n",
       "    <tr>\n",
       "      <th>mean</th>\n",
       "      <td>0.83</td>\n",
       "      <td>0.84</td>\n",
       "      <td>0.94</td>\n",
       "    </tr>\n",
       "    <tr>\n",
       "      <th>std</th>\n",
       "      <td>0.28</td>\n",
       "      <td>0.27</td>\n",
       "      <td>0.18</td>\n",
       "    </tr>\n",
       "    <tr>\n",
       "      <th>min</th>\n",
       "      <td>0.08</td>\n",
       "      <td>0.08</td>\n",
       "      <td>0.13</td>\n",
       "    </tr>\n",
       "    <tr>\n",
       "      <th>25%</th>\n",
       "      <td>0.73</td>\n",
       "      <td>0.77</td>\n",
       "      <td>1.00</td>\n",
       "    </tr>\n",
       "    <tr>\n",
       "      <th>50%</th>\n",
       "      <td>1.00</td>\n",
       "      <td>1.00</td>\n",
       "      <td>1.00</td>\n",
       "    </tr>\n",
       "    <tr>\n",
       "      <th>75%</th>\n",
       "      <td>1.00</td>\n",
       "      <td>1.00</td>\n",
       "      <td>1.00</td>\n",
       "    </tr>\n",
       "    <tr>\n",
       "      <th>max</th>\n",
       "      <td>1.00</td>\n",
       "      <td>1.00</td>\n",
       "      <td>1.00</td>\n",
       "    </tr>\n",
       "  </tbody>\n",
       "</table>\n",
       "</div>"
      ],
      "text/plain": [
       "        small     big    fire\n",
       "count 1000.00 1000.00 1000.00\n",
       "mean     0.83    0.84    0.94\n",
       "std      0.28    0.27    0.18\n",
       "min      0.08    0.08    0.13\n",
       "25%      0.73    0.77    1.00\n",
       "50%      1.00    1.00    1.00\n",
       "75%      1.00    1.00    1.00\n",
       "max      1.00    1.00    1.00"
      ]
     },
     "execution_count": 55,
     "metadata": {},
     "output_type": "execute_result"
    }
   ],
   "source": [
    "def getStats(fileName, columnName):    \n",
    "    df = pd.read_csv(fileName)\n",
    "    df_small = df[df[\"Mario Type\"] == 0]\n",
    "    df_big = df[df[\"Mario Type\"] == 1]\n",
    "    df_fire = df[df[\"Mario Type\"] == 2]\n",
    "\n",
    "    df = pd.DataFrame(list(zip(df_small[columnName], df_big[columnName], df_fire[columnName])),\n",
    "                   columns =['small', 'big', 'fire'])\n",
    "    # Set the display format to two decimal places\n",
    "    pd.options.display.float_format = '{:.2f}'.format\n",
    "    return df.describe()\n",
    "\n",
    "getStats(\"output/full_runs/ge/20/robinBaumgarten.csv\", \"Progress\")"
   ]
  },
  {
   "cell_type": "code",
   "execution_count": 74,
   "id": "df35052a",
   "metadata": {},
   "outputs": [
    {
     "name": "stdout",
     "output_type": "stream",
     "text": [
      "        small     big    fire\n",
      "count 1000.00 1000.00 1000.00\n",
      "mean     0.83    0.84    0.94\n",
      "std      0.28    0.27    0.18\n",
      "min      0.08    0.08    0.13\n",
      "25%      0.73    0.77    1.00\n",
      "50%      1.00    1.00    1.00\n",
      "75%      1.00    1.00    1.00\n",
      "max      1.00    1.00    1.00\n"
     ]
    }
   ],
   "source": [
    "print(r_df)"
   ]
  },
  {
   "cell_type": "code",
   "execution_count": 75,
   "id": "fdcf1eea",
   "metadata": {},
   "outputs": [
    {
     "name": "stdout",
     "output_type": "stream",
     "text": [
      "\n",
      "          Robin Baumgarten’s A*\n",
      "╒═══════╤═════════╤═════════╤═════════╕\n",
      "│       │   small │     big │    fire │\n",
      "╞═══════╪═════════╪═════════╪═════════╡\n",
      "│ count │ 1000.00 │ 1000.00 │ 1000.00 │\n",
      "├───────┼─────────┼─────────┼─────────┤\n",
      "│ mean  │    0.83 │    0.84 │    0.94 │\n",
      "├───────┼─────────┼─────────┼─────────┤\n",
      "│ std   │    0.28 │    0.27 │    0.18 │\n",
      "├───────┼─────────┼─────────┼─────────┤\n",
      "│ min   │    0.08 │    0.08 │    0.13 │\n",
      "├───────┼─────────┼─────────┼─────────┤\n",
      "│ 25%   │    0.73 │    0.77 │    1.00 │\n",
      "├───────┼─────────┼─────────┼─────────┤\n",
      "│ 50%   │    1.00 │    1.00 │    1.00 │\n",
      "├───────┼─────────┼─────────┼─────────┤\n",
      "│ 75%   │    1.00 │    1.00 │    1.00 │\n",
      "├───────┼─────────┼─────────┼─────────┤\n",
      "│ max   │    1.00 │    1.00 │    1.00 │\n",
      "╘═══════╧═════════╧═════════╧═════════╛\n"
     ]
    }
   ],
   "source": [
    "#define header names\n",
    "r_df = getStats(\"output/full_runs/ge/20/robinBaumgarten.csv\", \"Progress\")\n",
    "col_names = r_df.columns.tolist() #[\"Name\", \"Time Limit\", \"Levels Complete\", \"Time Left\", \"Progress\", \"Kills\"]\n",
    "  \n",
    "#display table\n",
    "#plt.title(\"Robin Baumgarth\")\n",
    "#table.title = 'Robin Baumgarthners A*'\n",
    "print()\n",
    "print(\"          Robin Baumgarten’s A*\")\n",
    "print(tabulate(r_df, headers=col_names, tablefmt=\"fancy_grid\", floatfmt=\".2f\"))\n",
    "\n",
    "#zzz = getStats(\"output/full_runs/ge/20/robinBaumgarten.csv\", \"Progress\")\n",
    "#zzz.head(30)\n",
    "#derp = zzz[zzz[\"Progress\"] > 0.8]\n",
    "#derp.head()\n"
   ]
  },
  {
   "cell_type": "code",
   "execution_count": 76,
   "id": "47c75e0d",
   "metadata": {},
   "outputs": [
    {
     "name": "stdout",
     "output_type": "stream",
     "text": [
      "\n",
      "            Andy Solane’s A*\n",
      "╒═══════╤═════════╤═════════╤═════════╕\n",
      "│       │   small │     big │    fire │\n",
      "╞═══════╪═════════╪═════════╪═════════╡\n",
      "│ count │ 1000.00 │ 1000.00 │ 1000.00 │\n",
      "├───────┼─────────┼─────────┼─────────┤\n",
      "│ mean  │    0.49 │    0.55 │    0.55 │\n",
      "├───────┼─────────┼─────────┼─────────┤\n",
      "│ std   │    0.32 │    0.34 │    0.34 │\n",
      "├───────┼─────────┼─────────┼─────────┤\n",
      "│ min   │    0.07 │    0.06 │    0.06 │\n",
      "├───────┼─────────┼─────────┼─────────┤\n",
      "│ 25%   │    0.21 │    0.23 │    0.23 │\n",
      "├───────┼─────────┼─────────┼─────────┤\n",
      "│ 50%   │    0.41 │    0.51 │    0.51 │\n",
      "├───────┼─────────┼─────────┼─────────┤\n",
      "│ 75%   │    0.76 │    0.95 │    0.96 │\n",
      "├───────┼─────────┼─────────┼─────────┤\n",
      "│ max   │    1.00 │    1.00 │    1.00 │\n",
      "╘═══════╧═════════╧═════════╧═════════╛\n"
     ]
    }
   ],
   "source": [
    "#define header names\n",
    "a_df = getStats(\"output/full_runs/ge/20/andySloane.csv\", \"Progress\")\n",
    "col_names = a_df.columns.tolist() #[\"Name\", \"Time Limit\", \"Levels Complete\", \"Time Left\", \"Progress\", \"Kills\"]\n",
    "  \n",
    "#display table\n",
    "#plt.title(\"Robin Baumgarth\")\n",
    "#table.title = 'Robin Baumgarthners A*'\n",
    "print()\n",
    "print(\"            Andy Solane’s A*\")\n",
    "print(tabulate(a_df, headers=col_names, tablefmt=\"fancy_grid\", floatfmt=\".2f\"))\n",
    "\n",
    "#zzz = getStats(\"output/full_runs/ge/20/robinBaumgarten.csv\", \"Progress\")\n",
    "#zzz.head(30)\n",
    "#derp = zzz[zzz[\"Progress\"] > 0.8]\n",
    "#derp.head()\n"
   ]
  },
  {
   "cell_type": "code",
   "execution_count": 77,
   "id": "5796f206",
   "metadata": {},
   "outputs": [
    {
     "name": "stdout",
     "output_type": "stream",
     "text": [
      "\n",
      "      Sergey Polikarpov's Cyberneuron\n",
      "╒═══════╤═════════╤═════════╤═════════╕\n",
      "│       │   small │     big │    fire │\n",
      "╞═══════╪═════════╪═════════╪═════════╡\n",
      "│ count │ 1000.00 │ 1000.00 │ 1000.00 │\n",
      "├───────┼─────────┼─────────┼─────────┤\n",
      "│ mean  │    0.26 │    0.35 │    0.35 │\n",
      "├───────┼─────────┼─────────┼─────────┤\n",
      "│ std   │    0.19 │    0.24 │    0.26 │\n",
      "├───────┼─────────┼─────────┼─────────┤\n",
      "│ min   │    0.02 │    0.05 │    0.05 │\n",
      "├───────┼─────────┼─────────┼─────────┤\n",
      "│ 25%   │    0.12 │    0.16 │    0.14 │\n",
      "├───────┼─────────┼─────────┼─────────┤\n",
      "│ 50%   │    0.21 │    0.28 │    0.26 │\n",
      "├───────┼─────────┼─────────┼─────────┤\n",
      "│ 75%   │    0.34 │    0.48 │    0.50 │\n",
      "├───────┼─────────┼─────────┼─────────┤\n",
      "│ max   │    1.00 │    1.00 │    1.00 │\n",
      "╘═══════╧═════════╧═════════╧═════════╛\n"
     ]
    }
   ],
   "source": [
    "#define header names\n",
    "sp_df= getStats(\"output/full_runs/ge/20/sergeyPolikarpov.csv\", \"Progress\")\n",
    "col_names = sp_df.columns.tolist() #[\"Name\", \"Time Limit\", \"Levels Complete\", \"Time Left\", \"Progress\", \"Kills\"]\n",
    "  \n",
    "#display table\n",
    "#plt.title(\"Robin Baumgarth\")\n",
    "#table.title = 'Robin Baumgarthners A*'\n",
    "print()\n",
    "print(\"      Sergey Polikarpov's Cyberneuron\")\n",
    "print(tabulate(sp_df, headers=col_names, tablefmt=\"fancy_grid\", floatfmt=\".2f\"))\n",
    "\n",
    "#zzz = getStats(\"output/full_runs/ge/20/robinBaumgarten.csv\", \"Progress\")\n",
    "#zzz.head(30)\n",
    "#derp = zzz[zzz[\"Progress\"] > 0.8]\n",
    "#derp.head()\n"
   ]
  },
  {
   "cell_type": "code",
   "execution_count": 59,
   "id": "efa20c21",
   "metadata": {},
   "outputs": [
    {
     "name": "stdout",
     "output_type": "stream",
     "text": [
      "[0      0.40\n",
      "3      1.00\n",
      "6      1.00\n",
      "9      0.99\n",
      "12     1.00\n",
      "       ... \n",
      "2985   1.00\n",
      "2988   1.00\n",
      "2991   1.00\n",
      "2994   0.89\n",
      "2997   0.52\n",
      "Name: Progress, Length: 1000, dtype: float64, 1      0.40\n",
      "4      1.00\n",
      "7      1.00\n",
      "10     0.99\n",
      "13     1.00\n",
      "       ... \n",
      "2986   1.00\n",
      "2989   1.00\n",
      "2992   1.00\n",
      "2995   0.89\n",
      "2998   1.00\n",
      "Name: Progress, Length: 1000, dtype: float64, 2      1.00\n",
      "5      1.00\n",
      "8      1.00\n",
      "11     0.99\n",
      "14     1.00\n",
      "       ... \n",
      "2987   1.00\n",
      "2990   1.00\n",
      "2993   1.00\n",
      "2996   1.00\n",
      "2999   1.00\n",
      "Name: Progress, Length: 1000, dtype: float64]\n"
     ]
    }
   ],
   "source": [
    "print(robin)"
   ]
  },
  {
   "cell_type": "code",
   "execution_count": 61,
   "id": "a6b63099",
   "metadata": {},
   "outputs": [
    {
     "name": "stdout",
     "output_type": "stream",
     "text": [
      "Small Mario F_onewayResult(statistic=1172.7067658014614, pvalue=0.0)\n",
      "\n",
      "Big Mario F_onewayResult(statistic=743.9356100904706, pvalue=4.653113079273886e-263)\n",
      "\n",
      "Fire Mario F_onewayResult(statistic=1217.6888627274625, pvalue=0.0)\n"
     ]
    }
   ],
   "source": [
    "### It is f_oneway and not kruskal as we foucs on the means \n",
    "## and not the medians as they have different shape of distribution.\n",
    "from scipy.stats import f_oneway\n",
    "\n",
    "sergey = produceData(pd.read_csv(\"output/full_runs/ge/20/sergeyPolikarpov.csv\"))\n",
    "#robinL = produceData(pd.read_csv(\"output/full_runs/ge/240/robinBaumgarten.csv\"))\n",
    "#sergeyK = produceData(pd.read_csv(\"output/full_runs/ge/240/sergeyKarakovskiy.csv\"))\n",
    "robin = produceData(pd.read_csv(\"output/full_runs/ge/20/robinBaumgarten.csv\"))\n",
    "andy = produceData(pd.read_csv(\"output/full_runs/ge/20/andySloane.csv\"))\n",
    "\n",
    "\n",
    "#print(robin[0])\n",
    "result_1 = f_oneway(robin[0].to_numpy(), andy[0].to_numpy(), sergey[0].to_numpy())\n",
    "result_2 = f_oneway(robin[1].to_numpy(), andy[1].to_numpy(), sergey[1].to_numpy())\n",
    "result_3 = f_oneway(robin[2].to_numpy(), andy[2].to_numpy(), sergey[2].to_numpy())\n",
    "print(\"Small Mario\", result_1)\n",
    "print()\n",
    "print(\"Big Mario\", result_2)\n",
    "print()\n",
    "print(\"Fire Mario\", result_3)"
   ]
  },
  {
   "cell_type": "code",
   "execution_count": null,
   "id": "275d2d33",
   "metadata": {},
   "outputs": [],
   "source": []
  },
  {
   "cell_type": "code",
   "execution_count": 63,
   "id": "e456b835",
   "metadata": {},
   "outputs": [
    {
     "name": "stdout",
     "output_type": "stream",
     "text": [
      "The groups of Small Mario have significantly different means.\n",
      "The groups of Big Mario have significantly different means.\n",
      "The groups of Fire Mario have significantly different means.\n"
     ]
    }
   ],
   "source": [
    "from statsmodels.sandbox.stats.multicomp import multipletests\n",
    "f_statistic_1, p_value_1 = f_oneway(robin[0].to_numpy(), andy[0].to_numpy(), sergey[0].to_numpy())\n",
    "f_statistic_2, p_value_2 = f_oneway(robin[1].to_numpy(), andy[1].to_numpy(), sergey[1].to_numpy())\n",
    "f_statistic_3, p_value_3 = f_oneway(robin[2].to_numpy(), andy[2].to_numpy(), sergey[2].to_numpy())\n",
    "\n",
    "## apply Bonferroni correction\n",
    "alpha = 0.05\n",
    "num_tests = 1\n",
    "alpha_corrected = alpha/3\n",
    "\n",
    "p_list = []\n",
    "p_list.append(p_value_1)\n",
    "p_list.append(p_value_2)\n",
    "p_list.append(p_value_3)\n",
    "\n",
    "state_list = [\"Small\", \"Big\", \"Fire\"]\n",
    "for p_value, state in zip(p_list, state_list):\n",
    "    if p_value < alpha_corrected:\n",
    "        print(\"The groups of {} Mario have significantly different means.\".format(state))\n",
    "    else:\n",
    "        print(\"The groups of {} Mario do not have significantly different means.\".format(state))\n",
    "                "
   ]
  },
  {
   "cell_type": "code",
   "execution_count": 64,
   "id": "eef714c2",
   "metadata": {},
   "outputs": [
    {
     "data": {
      "text/plain": [
       "0.016666666666666666"
      ]
     },
     "execution_count": 64,
     "metadata": {},
     "output_type": "execute_result"
    }
   ],
   "source": [
    "0.05/3"
   ]
  },
  {
   "cell_type": "code",
   "execution_count": null,
   "id": "b2472f6e",
   "metadata": {},
   "outputs": [],
   "source": []
  },
  {
   "cell_type": "code",
   "execution_count": null,
   "id": "6ab2ca17",
   "metadata": {},
   "outputs": [],
   "source": []
  },
  {
   "cell_type": "code",
   "execution_count": null,
   "id": "45964930",
   "metadata": {},
   "outputs": [],
   "source": [
    "\n",
    "\n"
   ]
  },
  {
   "cell_type": "code",
   "execution_count": null,
   "id": "723b1939",
   "metadata": {},
   "outputs": [],
   "source": []
  },
  {
   "cell_type": "code",
   "execution_count": 69,
   "id": "8cbdde36",
   "metadata": {},
   "outputs": [
    {
     "name": "stdout",
     "output_type": "stream",
     "text": [
      "Sergey  {'Small': 9, 'Big': 31, 'Fire': 48}\n",
      "Robin  {'Small': 607, 'Big': 625, 'Fire': 799}\n",
      "Andy  {'Small': 157, 'Big': 226, 'Fire': 238}\n"
     ]
    }
   ],
   "source": [
    "sergey = produceData(pd.read_csv(\"output/full_runs/ge/20/sergeyPolikarpov.csv\")) \n",
    "robin = produceData(pd.read_csv(\"output/full_runs/ge/20/robinBaumgarten.csv\"))\n",
    "andy = produceData(pd.read_csv(\"output/full_runs/ge/20/andySloane.csv\"))\n",
    "\n",
    "\n",
    "def full_progressed(df): \n",
    "    full_progressed_dict = {}\n",
    "\n",
    "    state_count = 0\n",
    "    for state in df: \n",
    "        state_count += 1\n",
    "\n",
    "        if state_count == 1:\n",
    "            progress_count = 0\n",
    "            for progress in state:\n",
    "               # print(progress)\n",
    "                if progress == 1.0:\n",
    "                    #print(progress)\n",
    "                    progress_count+=1 \n",
    "            full_progressed_dict[\"Small\"] = progress_count\n",
    "        if state_count == 2:\n",
    "            progress_count = 0\n",
    "            for progress in state: \n",
    "                if progress == 1.0:\n",
    "                    progress_count+=1 \n",
    "            full_progressed_dict[\"Big\"] = progress_count\n",
    "\n",
    "        if state_count == 3:\n",
    "            progress_count = 0\n",
    "            for progress in state: \n",
    "                if progress == 1.0:\n",
    "                    progress_count+=1 \n",
    "            full_progressed_dict[\"Fire\"] = progress_count\n",
    "\n",
    "\n",
    "\n",
    "    return full_progressed_dict\n",
    "\n",
    "print(\"Sergey \", full_progressed(sergey))\n",
    "print(\"Robin \", full_progressed(robin))\n",
    "print(\"Andy \", full_progressed(andy))\n",
    "#def full_progressed(df):\n"
   ]
  },
  {
   "cell_type": "code",
   "execution_count": 70,
   "id": "32d2f200",
   "metadata": {},
   "outputs": [
    {
     "name": "stdout",
     "output_type": "stream",
     "text": [
      "       Robin  Sergey  Andy\n",
      "Small    607       9   157\n",
      "Big      625      31   226\n",
      "Fire     799      48   238\n"
     ]
    }
   ],
   "source": [
    "#list(full_progressed(sergey).keys())\n",
    "\n",
    "fp_df_sergey = pd.DataFrame.from_dict(full_progressed(sergey), orient='index')\n",
    "fp_df_robin = pd.DataFrame.from_dict(full_progressed(robin), orient='index')\n",
    "fp_df_andy = pd.DataFrame.from_dict(full_progressed(andy), orient='index')\n",
    "fp_df_sergey.columns = ['Sergey']\n",
    "fp_df_robin.columns = ['Robin']\n",
    "fp_df_andy.columns = ['Andy']\n",
    "\n",
    "\n",
    "\n",
    "extracted_robin = fp_df_robin['Robin']\n",
    "extracted_andy = fp_df_andy['Andy']\n",
    "extracted_sergey = fp_df_sergey['Sergey']\n",
    "#print(\"column to added from first dataframe to second:\")\n",
    "#display(extracted_col)\n",
    "  \n",
    "\n",
    "fp_df_robin = fp_df_robin.join(extracted_sergey)\n",
    "fp_df_robin = fp_df_robin.join(extracted_andy)\n",
    "\n",
    "print(fp_df_robin)"
   ]
  },
  {
   "cell_type": "code",
   "execution_count": 71,
   "id": "3db51e27",
   "metadata": {},
   "outputs": [
    {
     "name": "stdout",
     "output_type": "stream",
     "text": [
      "\n",
      "      Completed Levels out of 1000\n",
      "╒═══════╤═════════╤══════════╤════════╕\n",
      "│       │   Robin │   Sergey │   Andy │\n",
      "╞═══════╪═════════╪══════════╪════════╡\n",
      "│ Small │     607 │        9 │    157 │\n",
      "├───────┼─────────┼──────────┼────────┤\n",
      "│ Big   │     625 │       31 │    226 │\n",
      "├───────┼─────────┼──────────┼────────┤\n",
      "│ Fire  │     799 │       48 │    238 │\n",
      "╘═══════╧═════════╧══════════╧════════╛\n"
     ]
    }
   ],
   "source": [
    "#define header names\n",
    "col_names = list(fp_df_robin.columns) #[\"Name\", \"Time Limit\", \"Levels Complete\", \"Time Left\", \"Progress\", \"Kills\"]\n",
    "  \n",
    "#display table\n",
    "#plt.title(\"Robin Baumgarth\")\n",
    "#table.title = 'Robin Baumgarthners A*'\n",
    "print()\n",
    "print(\"      Completed Levels out of 1000\")\n",
    "print(tabulate(fp_df_robin, headers=col_names, tablefmt=\"fancy_grid\"))"
   ]
  },
  {
   "cell_type": "code",
   "execution_count": 72,
   "id": "4a1261be",
   "metadata": {},
   "outputs": [
    {
     "name": "stdout",
     "output_type": "stream",
     "text": [
      "Sergeys Kills: 337\n",
      "Robins Kills: 780\n",
      "Andys Kills: 954\n"
     ]
    }
   ],
   "source": [
    "### Amount of killed enemies \n",
    "#print(robin[-1])\n",
    "\n",
    "sergey = pd.read_csv(\"output/full_runs/ge/20/sergeyPolikarpov.csv\")\n",
    "#robinL = produceData(pd.read_csv(\"output/full_runs/ge/240/robinBaumgarten.csv\"))\n",
    "#sergeyK = produceData(pd.read_csv(\"output/full_runs/ge/240/sergeyKarakovskiy.csv\"))\n",
    "robin = pd.read_csv(\"output/full_runs/ge/20/robinBaumgarten.csv\")\n",
    "andy = pd.read_csv(\"output/full_runs/ge/20/andySloane.csv\")\n",
    "\n",
    "def kill_counter(df):\n",
    "    sg_t_k = df[[\"Mario Type\",\"Kills\"]]\n",
    "    fire_sergey = sg_t_k[sg_t_k[\"Mario Type\"] == 2]\n",
    "    kill_count = 0\n",
    "    for i in fire_sergey[\"Kills\"]: \n",
    "        kill_count+=i\n",
    "    \n",
    "    return kill_count\n",
    "\n",
    "print(\"Sergeys Kills:\", kill_counter(sergey))\n",
    "print(\"Robins Kills:\", kill_counter(robin))\n",
    "print(\"Andys Kills:\", kill_counter(andy))"
   ]
  },
  {
   "cell_type": "code",
   "execution_count": 73,
   "id": "83d4fa56",
   "metadata": {},
   "outputs": [
    {
     "ename": "TypeError",
     "evalue": "Neither the `x` nor `y` variable appears to be numeric.",
     "output_type": "error",
     "traceback": [
      "\u001b[1;31m---------------------------------------------------------------------------\u001b[0m",
      "\u001b[1;31mTypeError\u001b[0m                                 Traceback (most recent call last)",
      "Input \u001b[1;32mIn [73]\u001b[0m, in \u001b[0;36m<cell line: 25>\u001b[1;34m()\u001b[0m\n\u001b[0;32m     20\u001b[0m robin \u001b[38;5;241m=\u001b[39m produceData(pd\u001b[38;5;241m.\u001b[39mread_csv(\u001b[38;5;124m\"\u001b[39m\u001b[38;5;124moutput/full_runs/ge/20/robinBaumgarten.csv\u001b[39m\u001b[38;5;124m\"\u001b[39m))\n\u001b[0;32m     21\u001b[0m \u001b[38;5;66;03m# print the data\u001b[39;00m\n\u001b[0;32m     22\u001b[0m \u001b[38;5;66;03m# use melt to convert wide form to long form data\u001b[39;00m\n\u001b[0;32m     23\u001b[0m \u001b[38;5;66;03m# use seaborn plot and specify the x and y columns\u001b[39;00m\n\u001b[0;32m     24\u001b[0m \u001b[38;5;66;03m# and specify the dataframe\u001b[39;00m\n\u001b[1;32m---> 25\u001b[0m \u001b[43msns\u001b[49m\u001b[38;5;241;43m.\u001b[39;49m\u001b[43mboxplot\u001b[49m\u001b[43m(\u001b[49m\u001b[43mx\u001b[49m\u001b[38;5;241;43m=\u001b[39;49m\u001b[38;5;124;43m'\u001b[39;49m\u001b[38;5;124;43mvariable\u001b[39;49m\u001b[38;5;124;43m'\u001b[39;49m\u001b[43m,\u001b[49m\u001b[43m \u001b[49m\u001b[43my\u001b[49m\u001b[38;5;241;43m=\u001b[39;49m\u001b[38;5;124;43m'\u001b[39;49m\u001b[38;5;124;43mvalue\u001b[39;49m\u001b[38;5;124;43m'\u001b[39;49m\u001b[43m,\u001b[49m\u001b[43m \u001b[49m\u001b[43mdata\u001b[49m\u001b[38;5;241;43m=\u001b[39;49m\u001b[43mpd\u001b[49m\u001b[38;5;241;43m.\u001b[39;49m\u001b[43mmelt\u001b[49m\u001b[43m(\u001b[49m\u001b[43mdf\u001b[49m\u001b[43m)\u001b[49m\u001b[43m)\u001b[49m\u001b[38;5;241m.\u001b[39mset(\n\u001b[0;32m     26\u001b[0m     xlabel\u001b[38;5;241m=\u001b[39m\u001b[38;5;124m'\u001b[39m\u001b[38;5;124mMario Type\u001b[39m\u001b[38;5;124m'\u001b[39m,\n\u001b[0;32m     27\u001b[0m     ylabel\u001b[38;5;241m=\u001b[39m\u001b[38;5;124m'\u001b[39m\u001b[38;5;124mProgress\u001b[39m\u001b[38;5;124m'\u001b[39m)\n\u001b[0;32m     30\u001b[0m plt\u001b[38;5;241m.\u001b[39mshow()\n",
      "File \u001b[1;32m~\\anaconda3\\lib\\site-packages\\seaborn\\_decorators.py:46\u001b[0m, in \u001b[0;36m_deprecate_positional_args.<locals>.inner_f\u001b[1;34m(*args, **kwargs)\u001b[0m\n\u001b[0;32m     36\u001b[0m     warnings\u001b[38;5;241m.\u001b[39mwarn(\n\u001b[0;32m     37\u001b[0m         \u001b[38;5;124m\"\u001b[39m\u001b[38;5;124mPass the following variable\u001b[39m\u001b[38;5;132;01m{}\u001b[39;00m\u001b[38;5;124m as \u001b[39m\u001b[38;5;132;01m{}\u001b[39;00m\u001b[38;5;124mkeyword arg\u001b[39m\u001b[38;5;132;01m{}\u001b[39;00m\u001b[38;5;124m: \u001b[39m\u001b[38;5;132;01m{}\u001b[39;00m\u001b[38;5;124m. \u001b[39m\u001b[38;5;124m\"\u001b[39m\n\u001b[0;32m     38\u001b[0m         \u001b[38;5;124m\"\u001b[39m\u001b[38;5;124mFrom version 0.12, the only valid positional argument \u001b[39m\u001b[38;5;124m\"\u001b[39m\n\u001b[1;32m   (...)\u001b[0m\n\u001b[0;32m     43\u001b[0m         \u001b[38;5;167;01mFutureWarning\u001b[39;00m\n\u001b[0;32m     44\u001b[0m     )\n\u001b[0;32m     45\u001b[0m kwargs\u001b[38;5;241m.\u001b[39mupdate({k: arg \u001b[38;5;28;01mfor\u001b[39;00m k, arg \u001b[38;5;129;01min\u001b[39;00m \u001b[38;5;28mzip\u001b[39m(sig\u001b[38;5;241m.\u001b[39mparameters, args)})\n\u001b[1;32m---> 46\u001b[0m \u001b[38;5;28;01mreturn\u001b[39;00m f(\u001b[38;5;241m*\u001b[39m\u001b[38;5;241m*\u001b[39mkwargs)\n",
      "File \u001b[1;32m~\\anaconda3\\lib\\site-packages\\seaborn\\categorical.py:2243\u001b[0m, in \u001b[0;36mboxplot\u001b[1;34m(x, y, hue, data, order, hue_order, orient, color, palette, saturation, width, dodge, fliersize, linewidth, whis, ax, **kwargs)\u001b[0m\n\u001b[0;32m   2231\u001b[0m \u001b[38;5;129m@_deprecate_positional_args\u001b[39m\n\u001b[0;32m   2232\u001b[0m \u001b[38;5;28;01mdef\u001b[39;00m \u001b[38;5;21mboxplot\u001b[39m(\n\u001b[0;32m   2233\u001b[0m     \u001b[38;5;241m*\u001b[39m,\n\u001b[1;32m   (...)\u001b[0m\n\u001b[0;32m   2240\u001b[0m     \u001b[38;5;241m*\u001b[39m\u001b[38;5;241m*\u001b[39mkwargs\n\u001b[0;32m   2241\u001b[0m ):\n\u001b[1;32m-> 2243\u001b[0m     plotter \u001b[38;5;241m=\u001b[39m \u001b[43m_BoxPlotter\u001b[49m\u001b[43m(\u001b[49m\u001b[43mx\u001b[49m\u001b[43m,\u001b[49m\u001b[43m \u001b[49m\u001b[43my\u001b[49m\u001b[43m,\u001b[49m\u001b[43m \u001b[49m\u001b[43mhue\u001b[49m\u001b[43m,\u001b[49m\u001b[43m \u001b[49m\u001b[43mdata\u001b[49m\u001b[43m,\u001b[49m\u001b[43m \u001b[49m\u001b[43morder\u001b[49m\u001b[43m,\u001b[49m\u001b[43m \u001b[49m\u001b[43mhue_order\u001b[49m\u001b[43m,\u001b[49m\n\u001b[0;32m   2244\u001b[0m \u001b[43m                          \u001b[49m\u001b[43morient\u001b[49m\u001b[43m,\u001b[49m\u001b[43m \u001b[49m\u001b[43mcolor\u001b[49m\u001b[43m,\u001b[49m\u001b[43m \u001b[49m\u001b[43mpalette\u001b[49m\u001b[43m,\u001b[49m\u001b[43m \u001b[49m\u001b[43msaturation\u001b[49m\u001b[43m,\u001b[49m\n\u001b[0;32m   2245\u001b[0m \u001b[43m                          \u001b[49m\u001b[43mwidth\u001b[49m\u001b[43m,\u001b[49m\u001b[43m \u001b[49m\u001b[43mdodge\u001b[49m\u001b[43m,\u001b[49m\u001b[43m \u001b[49m\u001b[43mfliersize\u001b[49m\u001b[43m,\u001b[49m\u001b[43m \u001b[49m\u001b[43mlinewidth\u001b[49m\u001b[43m)\u001b[49m\n\u001b[0;32m   2247\u001b[0m     \u001b[38;5;28;01mif\u001b[39;00m ax \u001b[38;5;129;01mis\u001b[39;00m \u001b[38;5;28;01mNone\u001b[39;00m:\n\u001b[0;32m   2248\u001b[0m         ax \u001b[38;5;241m=\u001b[39m plt\u001b[38;5;241m.\u001b[39mgca()\n",
      "File \u001b[1;32m~\\anaconda3\\lib\\site-packages\\seaborn\\categorical.py:406\u001b[0m, in \u001b[0;36m_BoxPlotter.__init__\u001b[1;34m(self, x, y, hue, data, order, hue_order, orient, color, palette, saturation, width, dodge, fliersize, linewidth)\u001b[0m\n\u001b[0;32m    402\u001b[0m \u001b[38;5;28;01mdef\u001b[39;00m \u001b[38;5;21m__init__\u001b[39m(\u001b[38;5;28mself\u001b[39m, x, y, hue, data, order, hue_order,\n\u001b[0;32m    403\u001b[0m              orient, color, palette, saturation,\n\u001b[0;32m    404\u001b[0m              width, dodge, fliersize, linewidth):\n\u001b[1;32m--> 406\u001b[0m     \u001b[38;5;28;43mself\u001b[39;49m\u001b[38;5;241;43m.\u001b[39;49m\u001b[43mestablish_variables\u001b[49m\u001b[43m(\u001b[49m\u001b[43mx\u001b[49m\u001b[43m,\u001b[49m\u001b[43m \u001b[49m\u001b[43my\u001b[49m\u001b[43m,\u001b[49m\u001b[43m \u001b[49m\u001b[43mhue\u001b[49m\u001b[43m,\u001b[49m\u001b[43m \u001b[49m\u001b[43mdata\u001b[49m\u001b[43m,\u001b[49m\u001b[43m \u001b[49m\u001b[43morient\u001b[49m\u001b[43m,\u001b[49m\u001b[43m \u001b[49m\u001b[43morder\u001b[49m\u001b[43m,\u001b[49m\u001b[43m \u001b[49m\u001b[43mhue_order\u001b[49m\u001b[43m)\u001b[49m\n\u001b[0;32m    407\u001b[0m     \u001b[38;5;28mself\u001b[39m\u001b[38;5;241m.\u001b[39mestablish_colors(color, palette, saturation)\n\u001b[0;32m    409\u001b[0m     \u001b[38;5;28mself\u001b[39m\u001b[38;5;241m.\u001b[39mdodge \u001b[38;5;241m=\u001b[39m dodge\n",
      "File \u001b[1;32m~\\anaconda3\\lib\\site-packages\\seaborn\\categorical.py:156\u001b[0m, in \u001b[0;36m_CategoricalPlotter.establish_variables\u001b[1;34m(self, x, y, hue, data, orient, order, hue_order, units)\u001b[0m\n\u001b[0;32m    153\u001b[0m         \u001b[38;5;28;01mraise\u001b[39;00m \u001b[38;5;167;01mValueError\u001b[39;00m(err)\n\u001b[0;32m    155\u001b[0m \u001b[38;5;66;03m# Figure out the plotting orientation\u001b[39;00m\n\u001b[1;32m--> 156\u001b[0m orient \u001b[38;5;241m=\u001b[39m \u001b[43minfer_orient\u001b[49m\u001b[43m(\u001b[49m\n\u001b[0;32m    157\u001b[0m \u001b[43m    \u001b[49m\u001b[43mx\u001b[49m\u001b[43m,\u001b[49m\u001b[43m \u001b[49m\u001b[43my\u001b[49m\u001b[43m,\u001b[49m\u001b[43m \u001b[49m\u001b[43morient\u001b[49m\u001b[43m,\u001b[49m\u001b[43m \u001b[49m\u001b[43mrequire_numeric\u001b[49m\u001b[38;5;241;43m=\u001b[39;49m\u001b[38;5;28;43mself\u001b[39;49m\u001b[38;5;241;43m.\u001b[39;49m\u001b[43mrequire_numeric\u001b[49m\n\u001b[0;32m    158\u001b[0m \u001b[43m\u001b[49m\u001b[43m)\u001b[49m\n\u001b[0;32m    160\u001b[0m \u001b[38;5;66;03m# Option 2a:\u001b[39;00m\n\u001b[0;32m    161\u001b[0m \u001b[38;5;66;03m# We are plotting a single set of data\u001b[39;00m\n\u001b[0;32m    162\u001b[0m \u001b[38;5;66;03m# ------------------------------------\u001b[39;00m\n\u001b[0;32m    163\u001b[0m \u001b[38;5;28;01mif\u001b[39;00m x \u001b[38;5;129;01mis\u001b[39;00m \u001b[38;5;28;01mNone\u001b[39;00m \u001b[38;5;129;01mor\u001b[39;00m y \u001b[38;5;129;01mis\u001b[39;00m \u001b[38;5;28;01mNone\u001b[39;00m:\n\u001b[0;32m    164\u001b[0m \n\u001b[0;32m    165\u001b[0m     \u001b[38;5;66;03m# Determine where the data are\u001b[39;00m\n",
      "File \u001b[1;32m~\\anaconda3\\lib\\site-packages\\seaborn\\_core.py:1352\u001b[0m, in \u001b[0;36minfer_orient\u001b[1;34m(x, y, orient, require_numeric)\u001b[0m\n\u001b[0;32m   1350\u001b[0m \u001b[38;5;28;01melif\u001b[39;00m require_numeric \u001b[38;5;129;01mand\u001b[39;00m \u001b[38;5;124m\"\u001b[39m\u001b[38;5;124mnumeric\u001b[39m\u001b[38;5;124m\"\u001b[39m \u001b[38;5;129;01mnot\u001b[39;00m \u001b[38;5;129;01min\u001b[39;00m (x_type, y_type):\n\u001b[0;32m   1351\u001b[0m     err \u001b[38;5;241m=\u001b[39m \u001b[38;5;124m\"\u001b[39m\u001b[38;5;124mNeither the `x` nor `y` variable appears to be numeric.\u001b[39m\u001b[38;5;124m\"\u001b[39m\n\u001b[1;32m-> 1352\u001b[0m     \u001b[38;5;28;01mraise\u001b[39;00m \u001b[38;5;167;01mTypeError\u001b[39;00m(err)\n\u001b[0;32m   1354\u001b[0m \u001b[38;5;28;01melse\u001b[39;00m:\n\u001b[0;32m   1355\u001b[0m     \u001b[38;5;28;01mreturn\u001b[39;00m \u001b[38;5;124m\"\u001b[39m\u001b[38;5;124mv\u001b[39m\u001b[38;5;124m\"\u001b[39m\n",
      "\u001b[1;31mTypeError\u001b[0m: Neither the `x` nor `y` variable appears to be numeric."
     ]
    }
   ],
   "source": [
    "# import the matplotlib package\n",
    "import matplotlib.pyplot as plt\n",
    "import pandas as pd\n",
    "import numpy as np\n",
    "import seaborn as sns\n",
    " \n",
    "# import the numpy package\n",
    "import numpy as np\n",
    "\n",
    "# create 2 - sample a 3-Dim array, that measures\n",
    "# the summer and winter rain fall amount\n",
    "def produceData(df_ge):\n",
    "    df_small = df_ge[df_ge[\"Mario Type\"] == 0]\n",
    "    df_big = df_ge[df_ge[\"Mario Type\"] == 1]\n",
    "    df_fire = df_ge[df_ge[\"Mario Type\"] == 2]\n",
    "    data = [df_small[\"Progress\"], df_big[\"Progress\"], df_fire[\"Progress\"]]\n",
    "    return data\n",
    "\n",
    "sergey = produceData(pd.read_csv(\"output/full_runs/ge/20/sergeyPolikarpov.csv\")) \n",
    "robin = produceData(pd.read_csv(\"output/full_runs/ge/20/robinBaumgarten.csv\"))\n",
    "# print the data\n",
    "# use melt to convert wide form to long form data\n",
    "# use seaborn plot and specify the x and y columns\n",
    "# and specify the dataframe\n",
    "sns.boxplot(x='variable', y='value', data=pd.melt(df)).set(\n",
    "    xlabel='Mario Type',\n",
    "    ylabel='Progress')\n",
    "\n",
    " \n",
    "plt.show()"
   ]
  },
  {
   "cell_type": "code",
   "execution_count": 25,
   "id": "c8ec4a46",
   "metadata": {},
   "outputs": [
    {
     "ename": "NameError",
     "evalue": "name 'row_headers' is not defined",
     "output_type": "error",
     "traceback": [
      "\u001b[1;31m---------------------------------------------------------------------------\u001b[0m",
      "\u001b[1;31mNameError\u001b[0m                                 Traceback (most recent call last)",
      "Input \u001b[1;32mIn [25]\u001b[0m, in \u001b[0;36m<cell line: 1>\u001b[1;34m()\u001b[0m\n\u001b[1;32m----> 1\u001b[0m rcolors \u001b[38;5;241m=\u001b[39m plt\u001b[38;5;241m.\u001b[39mcm\u001b[38;5;241m.\u001b[39mBuPu(np\u001b[38;5;241m.\u001b[39mfull(\u001b[38;5;28mlen\u001b[39m(\u001b[43mrow_headers\u001b[49m), \u001b[38;5;241m0.1\u001b[39m))\n\u001b[0;32m      2\u001b[0m ccolors \u001b[38;5;241m=\u001b[39m plt\u001b[38;5;241m.\u001b[39mcm\u001b[38;5;241m.\u001b[39mBuPu(np\u001b[38;5;241m.\u001b[39mfull(\u001b[38;5;28mlen\u001b[39m(column_headers), \u001b[38;5;241m0.1\u001b[39m))\n\u001b[0;32m      3\u001b[0m \u001b[38;5;241m.\u001b[39m\u001b[38;5;241m.\u001b[39m\u001b[38;5;241m.\u001b[39m\n",
      "\u001b[1;31mNameError\u001b[0m: name 'row_headers' is not defined"
     ]
    }
   ],
   "source": [
    "rcolors = plt.cm.BuPu(np.full(len(row_headers), 0.1))\n",
    "ccolors = plt.cm.BuPu(np.full(len(column_headers), 0.1))\n",
    "...\n",
    "the_table = plt.table(cellText=cell_text,\n",
    "                      rowLabels=row_headers,\n",
    "                      rowColours=rcolors,\n",
    "                      rowLoc='right',\n",
    "                      colColours=ccolors,\n",
    "                      colLabels=column_headers,\n",
    "                      loc='center')\n",
    "\n",
    "\n"
   ]
  },
  {
   "cell_type": "code",
   "execution_count": 26,
   "id": "bff0b4a7",
   "metadata": {},
   "outputs": [
    {
     "ename": "NameError",
     "evalue": "name 'the_table' is not defined",
     "output_type": "error",
     "traceback": [
      "\u001b[1;31m---------------------------------------------------------------------------\u001b[0m",
      "\u001b[1;31mNameError\u001b[0m                                 Traceback (most recent call last)",
      "Input \u001b[1;32mIn [26]\u001b[0m, in \u001b[0;36m<cell line: 14>\u001b[1;34m()\u001b[0m\n\u001b[0;32m     12\u001b[0m collabel\u001b[38;5;241m=\u001b[39m(\u001b[38;5;124m\"\u001b[39m\u001b[38;5;124mName\u001b[39m\u001b[38;5;124m\"\u001b[39m, \u001b[38;5;124m\"\u001b[39m\u001b[38;5;124mTime Limit\u001b[39m\u001b[38;5;124m\"\u001b[39m, \u001b[38;5;124m\"\u001b[39m\u001b[38;5;124mLevels Complete\u001b[39m\u001b[38;5;124m\"\u001b[39m, \u001b[38;5;124m\"\u001b[39m\u001b[38;5;124mTime Left\u001b[39m\u001b[38;5;124m\"\u001b[39m, \u001b[38;5;124m\"\u001b[39m\u001b[38;5;124mProgress\u001b[39m\u001b[38;5;124m\"\u001b[39m, \u001b[38;5;124m\"\u001b[39m\u001b[38;5;124mKills\u001b[39m\u001b[38;5;124m\"\u001b[39m)\n\u001b[0;32m     13\u001b[0m ax\u001b[38;5;241m.\u001b[39mtable(cellText\u001b[38;5;241m=\u001b[39mclust_data,colLabels\u001b[38;5;241m=\u001b[39mcollabel,loc\u001b[38;5;241m=\u001b[39m\u001b[38;5;124m'\u001b[39m\u001b[38;5;124mcenter\u001b[39m\u001b[38;5;124m'\u001b[39m)\n\u001b[1;32m---> 14\u001b[0m \u001b[43mthe_table\u001b[49m\u001b[38;5;241m.\u001b[39mscale(\u001b[38;5;241m2\u001b[39m, \u001b[38;5;241m2\u001b[39m)\n",
      "\u001b[1;31mNameError\u001b[0m: name 'the_table' is not defined"
     ]
    },
    {
     "data": {
      "image/png": "[encoded data removed]",
      "text/plain": [
       "<Figure size 864x288 with 1 Axes>"
      ]
     },
     "metadata": {
      "needs_background": "light"
     },
     "output_type": "display_data"
    }
   ],
   "source": [
    "fig, ax = plt.subplots()\n",
    "\n",
    "# Hide axes\n",
    "ax.xaxis.set_visible(False) \n",
    "ax.yaxis.set_visible(False)\n",
    "\n",
    "# Table from Ed Smith answer\n",
    "clust_data = [getResults(\"robinBaumgarten\", 20), getResults(\"robinBaumgarten\", 60), getResults(\"robinBaumgarten\", 240), \n",
    "        getResults(\"andySloane\", 20), getResults(\"andySloane\", 60), getResults(\"andySloane\", 240), \n",
    "        getResults(\"sergeyKarakovskiy\", 20), getResults(\"sergeyKarakovskiy\", 60), getResults(\"sergeyKarakovskiy\", 240),\n",
    "        getResults(\"sergeyPolikarpov\", 20), getResults(\"sergeyPolikarpov\", 60), getResults(\"sergeyPolikarpov\", 240)]\n",
    "collabel=(\"Name\", \"Time Limit\", \"Levels Complete\", \"Time Left\", \"Progress\", \"Kills\")\n",
    "ax.table(cellText=clust_data,colLabels=collabel,loc='center')\n",
    "the_table.scale(2, 2)"
   ]
  },
  {
   "cell_type": "code",
   "execution_count": null,
   "id": "98107a85",
   "metadata": {},
   "outputs": [],
   "source": []
  }
 ],
 "metadata": {
  "kernelspec": {
   "display_name": "Python 3 (ipykernel)",
   "language": "python",
   "name": "python3"
  },
  "language_info": {
   "codemirror_mode": {
    "name": "ipython",
    "version": 3
   },
   "file_extension": ".py",
   "mimetype": "text/x-python",
   "name": "python",
   "nbconvert_exporter": "python",
   "pygments_lexer": "ipython3",
   "version": "3.9.12"
  }
 },
 "nbformat": 4,
 "nbformat_minor": 5
}
